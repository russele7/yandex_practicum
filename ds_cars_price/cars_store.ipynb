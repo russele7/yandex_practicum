{
 "cells": [
  {
   "cell_type": "markdown",
   "metadata": {},
   "source": [
    "# 1. Подготовка данных"
   ]
  },
  {
   "cell_type": "markdown",
   "metadata": {},
   "source": [
    "## 1.1 Предобработка данных"
   ]
  },
  {
   "cell_type": "code",
   "execution_count": 1,
   "metadata": {},
   "outputs": [
    {
     "name": "stderr",
     "output_type": "stream",
     "text": [
      "C:\\ProgramData\\Anaconda3\\lib\\site-packages\\sklearn\\utils\\deprecation.py:144: FutureWarning: The sklearn.metrics.scorer module is  deprecated in version 0.22 and will be removed in version 0.24. The corresponding classes / functions should instead be imported from sklearn.metrics. Anything that cannot be imported from sklearn.metrics is now part of the private API.\n",
      "  warnings.warn(message, FutureWarning)\n"
     ]
    }
   ],
   "source": [
    "import numpy as np\n",
    "import pandas as pd\n",
    "import matplotlib.pyplot as plt\n",
    "import seaborn as sns\n",
    "import plotly.graph_objects as go\n",
    "sns.set(style='darkgrid',palette ='bright' ,font_scale=1.5)  # , \n",
    "\n",
    "from sklearn.linear_model import LinearRegression\n",
    "from sklearn.ensemble import RandomForestRegressor\n",
    "from sklearn.preprocessing import OrdinalEncoder\n",
    "from sklearn.preprocessing import StandardScaler\n",
    "from sklearn.model_selection import train_test_split\n",
    "from sklearn.metrics.scorer import make_scorer\n",
    "from sklearn.model_selection import GridSearchCV\n",
    "from sklearn.metrics import mean_squared_error as MSE\n",
    "\n",
    "\n",
    "from catboost import CatBoostRegressor\n",
    "from lightgbm import LGBMRegressor\n",
    "from xgboost import XGBRegressor\n",
    "\n",
    "import timeit"
   ]
  },
  {
   "cell_type": "code",
   "execution_count": 2,
   "metadata": {},
   "outputs": [],
   "source": [
    "try:    \n",
    "    df = pd.read_csv('/datasets/autos.csv')\n",
    "except:\n",
    "    df = pd.read_csv('autos.csv')"
   ]
  },
  {
   "cell_type": "code",
   "execution_count": 3,
   "metadata": {},
   "outputs": [],
   "source": [
    "# Функция для вывода свойств датафрэйма\n",
    "def df_info(df):\n",
    "    #display(df.describe())\n",
    "    display(df.head())\n",
    "    df.info()\n",
    "    print()\n",
    "    print('Кол-во дубликатов = ', df.duplicated().sum())\n",
    "    print('Кол-во пропусков в строках:')\n",
    "    display(df.isna().sum())"
   ]
  },
  {
   "cell_type": "markdown",
   "metadata": {},
   "source": [
    "Для удобства приведем названия столбцов к нижнему регистру"
   ]
  },
  {
   "cell_type": "code",
   "execution_count": 4,
   "metadata": {},
   "outputs": [
    {
     "data": {
      "text/plain": [
       "Index(['datecrawled', 'price', 'vehicletype', 'registrationyear', 'gearbox',\n",
       "       'power', 'model', 'kilometer', 'registrationmonth', 'fueltype', 'brand',\n",
       "       'notrepaired', 'datecreated', 'numberofpictures', 'postalcode',\n",
       "       'lastseen'],\n",
       "      dtype='object')"
      ]
     },
     "execution_count": 4,
     "metadata": {},
     "output_type": "execute_result"
    }
   ],
   "source": [
    "df.columns = [name.lower() for name in df.columns]\n",
    "df.columns"
   ]
  },
  {
   "cell_type": "code",
   "execution_count": 5,
   "metadata": {},
   "outputs": [
    {
     "data": {
      "text/html": [
       "<div>\n",
       "<style scoped>\n",
       "    .dataframe tbody tr th:only-of-type {\n",
       "        vertical-align: middle;\n",
       "    }\n",
       "\n",
       "    .dataframe tbody tr th {\n",
       "        vertical-align: top;\n",
       "    }\n",
       "\n",
       "    .dataframe thead th {\n",
       "        text-align: right;\n",
       "    }\n",
       "</style>\n",
       "<table border=\"1\" class=\"dataframe\">\n",
       "  <thead>\n",
       "    <tr style=\"text-align: right;\">\n",
       "      <th></th>\n",
       "      <th>datecrawled</th>\n",
       "      <th>price</th>\n",
       "      <th>vehicletype</th>\n",
       "      <th>registrationyear</th>\n",
       "      <th>gearbox</th>\n",
       "      <th>power</th>\n",
       "      <th>model</th>\n",
       "      <th>kilometer</th>\n",
       "      <th>registrationmonth</th>\n",
       "      <th>fueltype</th>\n",
       "      <th>brand</th>\n",
       "      <th>notrepaired</th>\n",
       "      <th>datecreated</th>\n",
       "      <th>numberofpictures</th>\n",
       "      <th>postalcode</th>\n",
       "      <th>lastseen</th>\n",
       "    </tr>\n",
       "  </thead>\n",
       "  <tbody>\n",
       "    <tr>\n",
       "      <th>0</th>\n",
       "      <td>2016-03-24 11:52:17</td>\n",
       "      <td>480</td>\n",
       "      <td>NaN</td>\n",
       "      <td>1993</td>\n",
       "      <td>manual</td>\n",
       "      <td>0</td>\n",
       "      <td>golf</td>\n",
       "      <td>150000</td>\n",
       "      <td>0</td>\n",
       "      <td>petrol</td>\n",
       "      <td>volkswagen</td>\n",
       "      <td>NaN</td>\n",
       "      <td>2016-03-24 00:00:00</td>\n",
       "      <td>0</td>\n",
       "      <td>70435</td>\n",
       "      <td>2016-04-07 03:16:57</td>\n",
       "    </tr>\n",
       "    <tr>\n",
       "      <th>1</th>\n",
       "      <td>2016-03-24 10:58:45</td>\n",
       "      <td>18300</td>\n",
       "      <td>coupe</td>\n",
       "      <td>2011</td>\n",
       "      <td>manual</td>\n",
       "      <td>190</td>\n",
       "      <td>NaN</td>\n",
       "      <td>125000</td>\n",
       "      <td>5</td>\n",
       "      <td>gasoline</td>\n",
       "      <td>audi</td>\n",
       "      <td>yes</td>\n",
       "      <td>2016-03-24 00:00:00</td>\n",
       "      <td>0</td>\n",
       "      <td>66954</td>\n",
       "      <td>2016-04-07 01:46:50</td>\n",
       "    </tr>\n",
       "    <tr>\n",
       "      <th>2</th>\n",
       "      <td>2016-03-14 12:52:21</td>\n",
       "      <td>9800</td>\n",
       "      <td>suv</td>\n",
       "      <td>2004</td>\n",
       "      <td>auto</td>\n",
       "      <td>163</td>\n",
       "      <td>grand</td>\n",
       "      <td>125000</td>\n",
       "      <td>8</td>\n",
       "      <td>gasoline</td>\n",
       "      <td>jeep</td>\n",
       "      <td>NaN</td>\n",
       "      <td>2016-03-14 00:00:00</td>\n",
       "      <td>0</td>\n",
       "      <td>90480</td>\n",
       "      <td>2016-04-05 12:47:46</td>\n",
       "    </tr>\n",
       "    <tr>\n",
       "      <th>3</th>\n",
       "      <td>2016-03-17 16:54:04</td>\n",
       "      <td>1500</td>\n",
       "      <td>small</td>\n",
       "      <td>2001</td>\n",
       "      <td>manual</td>\n",
       "      <td>75</td>\n",
       "      <td>golf</td>\n",
       "      <td>150000</td>\n",
       "      <td>6</td>\n",
       "      <td>petrol</td>\n",
       "      <td>volkswagen</td>\n",
       "      <td>no</td>\n",
       "      <td>2016-03-17 00:00:00</td>\n",
       "      <td>0</td>\n",
       "      <td>91074</td>\n",
       "      <td>2016-03-17 17:40:17</td>\n",
       "    </tr>\n",
       "    <tr>\n",
       "      <th>4</th>\n",
       "      <td>2016-03-31 17:25:20</td>\n",
       "      <td>3600</td>\n",
       "      <td>small</td>\n",
       "      <td>2008</td>\n",
       "      <td>manual</td>\n",
       "      <td>69</td>\n",
       "      <td>fabia</td>\n",
       "      <td>90000</td>\n",
       "      <td>7</td>\n",
       "      <td>gasoline</td>\n",
       "      <td>skoda</td>\n",
       "      <td>no</td>\n",
       "      <td>2016-03-31 00:00:00</td>\n",
       "      <td>0</td>\n",
       "      <td>60437</td>\n",
       "      <td>2016-04-06 10:17:21</td>\n",
       "    </tr>\n",
       "  </tbody>\n",
       "</table>\n",
       "</div>"
      ],
      "text/plain": [
       "           datecrawled  price vehicletype  registrationyear gearbox  power  \\\n",
       "0  2016-03-24 11:52:17    480         NaN              1993  manual      0   \n",
       "1  2016-03-24 10:58:45  18300       coupe              2011  manual    190   \n",
       "2  2016-03-14 12:52:21   9800         suv              2004    auto    163   \n",
       "3  2016-03-17 16:54:04   1500       small              2001  manual     75   \n",
       "4  2016-03-31 17:25:20   3600       small              2008  manual     69   \n",
       "\n",
       "   model  kilometer  registrationmonth  fueltype       brand notrepaired  \\\n",
       "0   golf     150000                  0    petrol  volkswagen         NaN   \n",
       "1    NaN     125000                  5  gasoline        audi         yes   \n",
       "2  grand     125000                  8  gasoline        jeep         NaN   \n",
       "3   golf     150000                  6    petrol  volkswagen          no   \n",
       "4  fabia      90000                  7  gasoline       skoda          no   \n",
       "\n",
       "           datecreated  numberofpictures  postalcode             lastseen  \n",
       "0  2016-03-24 00:00:00                 0       70435  2016-04-07 03:16:57  \n",
       "1  2016-03-24 00:00:00                 0       66954  2016-04-07 01:46:50  \n",
       "2  2016-03-14 00:00:00                 0       90480  2016-04-05 12:47:46  \n",
       "3  2016-03-17 00:00:00                 0       91074  2016-03-17 17:40:17  \n",
       "4  2016-03-31 00:00:00                 0       60437  2016-04-06 10:17:21  "
      ]
     },
     "metadata": {},
     "output_type": "display_data"
    },
    {
     "name": "stdout",
     "output_type": "stream",
     "text": [
      "<class 'pandas.core.frame.DataFrame'>\n",
      "RangeIndex: 354369 entries, 0 to 354368\n",
      "Data columns (total 16 columns):\n",
      " #   Column             Non-Null Count   Dtype \n",
      "---  ------             --------------   ----- \n",
      " 0   datecrawled        354369 non-null  object\n",
      " 1   price              354369 non-null  int64 \n",
      " 2   vehicletype        316879 non-null  object\n",
      " 3   registrationyear   354369 non-null  int64 \n",
      " 4   gearbox            334536 non-null  object\n",
      " 5   power              354369 non-null  int64 \n",
      " 6   model              334664 non-null  object\n",
      " 7   kilometer          354369 non-null  int64 \n",
      " 8   registrationmonth  354369 non-null  int64 \n",
      " 9   fueltype           321474 non-null  object\n",
      " 10  brand              354369 non-null  object\n",
      " 11  notrepaired        283215 non-null  object\n",
      " 12  datecreated        354369 non-null  object\n",
      " 13  numberofpictures   354369 non-null  int64 \n",
      " 14  postalcode         354369 non-null  int64 \n",
      " 15  lastseen           354369 non-null  object\n",
      "dtypes: int64(7), object(9)\n",
      "memory usage: 43.3+ MB\n",
      "\n",
      "Кол-во дубликатов =  4\n",
      "Кол-во пропусков в строках:\n"
     ]
    },
    {
     "data": {
      "text/plain": [
       "datecrawled              0\n",
       "price                    0\n",
       "vehicletype          37490\n",
       "registrationyear         0\n",
       "gearbox              19833\n",
       "power                    0\n",
       "model                19705\n",
       "kilometer                0\n",
       "registrationmonth        0\n",
       "fueltype             32895\n",
       "brand                    0\n",
       "notrepaired          71154\n",
       "datecreated              0\n",
       "numberofpictures         0\n",
       "postalcode               0\n",
       "lastseen                 0\n",
       "dtype: int64"
      ]
     },
     "metadata": {},
     "output_type": "display_data"
    }
   ],
   "source": [
    "df_info(df)"
   ]
  },
  {
   "cell_type": "markdown",
   "metadata": {},
   "source": [
    "По предварительной оценке датасета видим:  \n",
    "- в датасете есть дубликаты 4 шт\n",
    "- в датасете есть пропуски\n",
    "- есть ошибки в типаx данных"
   ]
  },
  {
   "cell_type": "markdown",
   "metadata": {},
   "source": [
    "### 1.1.1 Удаляем дубликаты"
   ]
  },
  {
   "cell_type": "code",
   "execution_count": 6,
   "metadata": {},
   "outputs": [],
   "source": [
    "df = df.drop_duplicates().reset_index(drop=True)"
   ]
  },
  {
   "cell_type": "markdown",
   "metadata": {},
   "source": [
    "### 1.1.2 Удаляем ненужные столбцы"
   ]
  },
  {
   "cell_type": "markdown",
   "metadata": {},
   "source": [
    "В датасете есть признаки, которые не являются техническими или другими значимыми характеристиками и соотвесвенно не влияющие на целевой признак (цену) - эти столбцы можно удалить:\n",
    "        - DateCrawled — дата скачивания анкеты из базы\n",
    "        - DateCreated — дата создания анкеты\n",
    "        - RegistrationMonth - месяц регистрации автомобиля\n",
    "        - NumberOfPictures — количество фотографий автомобиля\n",
    "        - PostalCode — почтовый индекс владельца анкеты (пользователя)\n",
    "        - LastSeen — дата последней активности пользователя"
   ]
  },
  {
   "cell_type": "markdown",
   "metadata": {},
   "source": [
    "Есть сомнения по поводу не нужности RegistrationMonth. Поэтому посмотрим на зависимость цены от этого признака"
   ]
  },
  {
   "cell_type": "code",
   "execution_count": 7,
   "metadata": {},
   "outputs": [
    {
     "data": {
      "text/plain": [
       "<matplotlib.axes._subplots.AxesSubplot at 0x1584f25cfc8>"
      ]
     },
     "execution_count": 7,
     "metadata": {},
     "output_type": "execute_result"
    },
    {
     "data": {
      "image/png": "[encoded data removed]",
      "text/plain": [
       "<Figure size 1080x504 with 1 Axes>"
      ]
     },
     "metadata": {},
     "output_type": "display_data"
    }
   ],
   "source": [
    "plt.figure(figsize = (15,7))\n",
    "sns.boxplot(data = df, x = 'registrationmonth' , y = 'price')"
   ]
  },
  {
   "cell_type": "markdown",
   "metadata": {},
   "source": [
    "Видим что в каждый распределение цены по месяцам практически одинаковое. Видим, что есть значение месяц = 0 - это явная ошибка. Стоит сообщить в источник данных, а в данной задаче мы удаляем данный столбец вместе с остальными не нужными признаками"
   ]
  },
  {
   "cell_type": "code",
   "execution_count": 8,
   "metadata": {},
   "outputs": [
    {
     "data": {
      "text/html": [
       "<div>\n",
       "<style scoped>\n",
       "    .dataframe tbody tr th:only-of-type {\n",
       "        vertical-align: middle;\n",
       "    }\n",
       "\n",
       "    .dataframe tbody tr th {\n",
       "        vertical-align: top;\n",
       "    }\n",
       "\n",
       "    .dataframe thead th {\n",
       "        text-align: right;\n",
       "    }\n",
       "</style>\n",
       "<table border=\"1\" class=\"dataframe\">\n",
       "  <thead>\n",
       "    <tr style=\"text-align: right;\">\n",
       "      <th></th>\n",
       "      <th>price</th>\n",
       "      <th>vehicletype</th>\n",
       "      <th>registrationyear</th>\n",
       "      <th>gearbox</th>\n",
       "      <th>power</th>\n",
       "      <th>model</th>\n",
       "      <th>kilometer</th>\n",
       "      <th>fueltype</th>\n",
       "      <th>brand</th>\n",
       "      <th>notrepaired</th>\n",
       "    </tr>\n",
       "  </thead>\n",
       "  <tbody>\n",
       "    <tr>\n",
       "      <th>0</th>\n",
       "      <td>480</td>\n",
       "      <td>NaN</td>\n",
       "      <td>1993</td>\n",
       "      <td>manual</td>\n",
       "      <td>0</td>\n",
       "      <td>golf</td>\n",
       "      <td>150000</td>\n",
       "      <td>petrol</td>\n",
       "      <td>volkswagen</td>\n",
       "      <td>NaN</td>\n",
       "    </tr>\n",
       "    <tr>\n",
       "      <th>1</th>\n",
       "      <td>18300</td>\n",
       "      <td>coupe</td>\n",
       "      <td>2011</td>\n",
       "      <td>manual</td>\n",
       "      <td>190</td>\n",
       "      <td>NaN</td>\n",
       "      <td>125000</td>\n",
       "      <td>gasoline</td>\n",
       "      <td>audi</td>\n",
       "      <td>yes</td>\n",
       "    </tr>\n",
       "    <tr>\n",
       "      <th>2</th>\n",
       "      <td>9800</td>\n",
       "      <td>suv</td>\n",
       "      <td>2004</td>\n",
       "      <td>auto</td>\n",
       "      <td>163</td>\n",
       "      <td>grand</td>\n",
       "      <td>125000</td>\n",
       "      <td>gasoline</td>\n",
       "      <td>jeep</td>\n",
       "      <td>NaN</td>\n",
       "    </tr>\n",
       "    <tr>\n",
       "      <th>3</th>\n",
       "      <td>1500</td>\n",
       "      <td>small</td>\n",
       "      <td>2001</td>\n",
       "      <td>manual</td>\n",
       "      <td>75</td>\n",
       "      <td>golf</td>\n",
       "      <td>150000</td>\n",
       "      <td>petrol</td>\n",
       "      <td>volkswagen</td>\n",
       "      <td>no</td>\n",
       "    </tr>\n",
       "    <tr>\n",
       "      <th>4</th>\n",
       "      <td>3600</td>\n",
       "      <td>small</td>\n",
       "      <td>2008</td>\n",
       "      <td>manual</td>\n",
       "      <td>69</td>\n",
       "      <td>fabia</td>\n",
       "      <td>90000</td>\n",
       "      <td>gasoline</td>\n",
       "      <td>skoda</td>\n",
       "      <td>no</td>\n",
       "    </tr>\n",
       "  </tbody>\n",
       "</table>\n",
       "</div>"
      ],
      "text/plain": [
       "   price vehicletype  registrationyear gearbox  power  model  kilometer  \\\n",
       "0    480         NaN              1993  manual      0   golf     150000   \n",
       "1  18300       coupe              2011  manual    190    NaN     125000   \n",
       "2   9800         suv              2004    auto    163  grand     125000   \n",
       "3   1500       small              2001  manual     75   golf     150000   \n",
       "4   3600       small              2008  manual     69  fabia      90000   \n",
       "\n",
       "   fueltype       brand notrepaired  \n",
       "0    petrol  volkswagen         NaN  \n",
       "1  gasoline        audi         yes  \n",
       "2  gasoline        jeep         NaN  \n",
       "3    petrol  volkswagen          no  \n",
       "4  gasoline       skoda          no  "
      ]
     },
     "execution_count": 8,
     "metadata": {},
     "output_type": "execute_result"
    }
   ],
   "source": [
    "df.drop(columns = ['datecrawled','datecreated', \n",
    "                   'numberofpictures', 'registrationmonth', 'postalcode', 'lastseen'], inplace=True)\n",
    "df.head()"
   ]
  },
  {
   "cell_type": "markdown",
   "metadata": {},
   "source": [
    "### 1.1.3 Оставшиеся признаки имеют правильный тип данных, замена типа не требуется"
   ]
  },
  {
   "cell_type": "markdown",
   "metadata": {},
   "source": [
    "### 1.1.4 Анализ оставшихся признаков на предмет аномалий"
   ]
  },
  {
   "cell_type": "markdown",
   "metadata": {},
   "source": [
    "#### 1.1.4.1 Признак  power\n",
    "Строим гистограмму"
   ]
  },
  {
   "cell_type": "code",
   "execution_count": 9,
   "metadata": {},
   "outputs": [
    {
     "data": {
      "text/plain": [
       "<matplotlib.axes._subplots.AxesSubplot at 0x15850c4d4c8>"
      ]
     },
     "execution_count": 9,
     "metadata": {},
     "output_type": "execute_result"
    },
    {
     "data": {
      "image/png": "[encoded data removed]",
      "text/plain": [
       "<Figure size 1080x504 with 1 Axes>"
      ]
     },
     "metadata": {},
     "output_type": "display_data"
    }
   ],
   "source": [
    "plt.figure(figsize = (15,7))\n",
    "sns.distplot(df.power, kde= False, bins=300)"
   ]
  },
  {
   "cell_type": "markdown",
   "metadata": {},
   "source": [
    "Видим на гистограмме выбросы. Выведем строки с аномальными значениями"
   ]
  },
  {
   "cell_type": "code",
   "execution_count": 10,
   "metadata": {},
   "outputs": [
    {
     "data": {
      "text/html": [
       "<div>\n",
       "<style scoped>\n",
       "    .dataframe tbody tr th:only-of-type {\n",
       "        vertical-align: middle;\n",
       "    }\n",
       "\n",
       "    .dataframe tbody tr th {\n",
       "        vertical-align: top;\n",
       "    }\n",
       "\n",
       "    .dataframe thead th {\n",
       "        text-align: right;\n",
       "    }\n",
       "</style>\n",
       "<table border=\"1\" class=\"dataframe\">\n",
       "  <thead>\n",
       "    <tr style=\"text-align: right;\">\n",
       "      <th></th>\n",
       "      <th>price</th>\n",
       "      <th>vehicletype</th>\n",
       "      <th>registrationyear</th>\n",
       "      <th>gearbox</th>\n",
       "      <th>power</th>\n",
       "      <th>model</th>\n",
       "      <th>kilometer</th>\n",
       "      <th>fueltype</th>\n",
       "      <th>brand</th>\n",
       "      <th>notrepaired</th>\n",
       "    </tr>\n",
       "  </thead>\n",
       "  <tbody>\n",
       "    <tr>\n",
       "      <th>1816</th>\n",
       "      <td>3200</td>\n",
       "      <td>small</td>\n",
       "      <td>2004</td>\n",
       "      <td>manual</td>\n",
       "      <td>1398</td>\n",
       "      <td>corolla</td>\n",
       "      <td>5000</td>\n",
       "      <td>petrol</td>\n",
       "      <td>toyota</td>\n",
       "      <td>no</td>\n",
       "    </tr>\n",
       "    <tr>\n",
       "      <th>2102</th>\n",
       "      <td>0</td>\n",
       "      <td>sedan</td>\n",
       "      <td>1999</td>\n",
       "      <td>NaN</td>\n",
       "      <td>1799</td>\n",
       "      <td>vectra</td>\n",
       "      <td>150000</td>\n",
       "      <td>petrol</td>\n",
       "      <td>opel</td>\n",
       "      <td>yes</td>\n",
       "    </tr>\n",
       "    <tr>\n",
       "      <th>3746</th>\n",
       "      <td>0</td>\n",
       "      <td>NaN</td>\n",
       "      <td>2017</td>\n",
       "      <td>manual</td>\n",
       "      <td>750</td>\n",
       "      <td>NaN</td>\n",
       "      <td>150000</td>\n",
       "      <td>petrol</td>\n",
       "      <td>smart</td>\n",
       "      <td>no</td>\n",
       "    </tr>\n",
       "    <tr>\n",
       "      <th>4060</th>\n",
       "      <td>3100</td>\n",
       "      <td>sedan</td>\n",
       "      <td>2005</td>\n",
       "      <td>manual</td>\n",
       "      <td>953</td>\n",
       "      <td>colt</td>\n",
       "      <td>150000</td>\n",
       "      <td>gasoline</td>\n",
       "      <td>mitsubishi</td>\n",
       "      <td>no</td>\n",
       "    </tr>\n",
       "    <tr>\n",
       "      <th>5328</th>\n",
       "      <td>500</td>\n",
       "      <td>wagon</td>\n",
       "      <td>1999</td>\n",
       "      <td>manual</td>\n",
       "      <td>1001</td>\n",
       "      <td>astra</td>\n",
       "      <td>150000</td>\n",
       "      <td>petrol</td>\n",
       "      <td>opel</td>\n",
       "      <td>NaN</td>\n",
       "    </tr>\n",
       "    <tr>\n",
       "      <th>...</th>\n",
       "      <td>...</td>\n",
       "      <td>...</td>\n",
       "      <td>...</td>\n",
       "      <td>...</td>\n",
       "      <td>...</td>\n",
       "      <td>...</td>\n",
       "      <td>...</td>\n",
       "      <td>...</td>\n",
       "      <td>...</td>\n",
       "      <td>...</td>\n",
       "    </tr>\n",
       "    <tr>\n",
       "      <th>348964</th>\n",
       "      <td>250</td>\n",
       "      <td>small</td>\n",
       "      <td>1999</td>\n",
       "      <td>manual</td>\n",
       "      <td>1241</td>\n",
       "      <td>ypsilon</td>\n",
       "      <td>150000</td>\n",
       "      <td>petrol</td>\n",
       "      <td>lancia</td>\n",
       "      <td>yes</td>\n",
       "    </tr>\n",
       "    <tr>\n",
       "      <th>351943</th>\n",
       "      <td>1500</td>\n",
       "      <td>bus</td>\n",
       "      <td>2001</td>\n",
       "      <td>manual</td>\n",
       "      <td>1001</td>\n",
       "      <td>zafira</td>\n",
       "      <td>5000</td>\n",
       "      <td>gasoline</td>\n",
       "      <td>opel</td>\n",
       "      <td>no</td>\n",
       "    </tr>\n",
       "    <tr>\n",
       "      <th>353489</th>\n",
       "      <td>12500</td>\n",
       "      <td>NaN</td>\n",
       "      <td>2017</td>\n",
       "      <td>manual</td>\n",
       "      <td>2000</td>\n",
       "      <td>other</td>\n",
       "      <td>60000</td>\n",
       "      <td>gasoline</td>\n",
       "      <td>chrysler</td>\n",
       "      <td>no</td>\n",
       "    </tr>\n",
       "    <tr>\n",
       "      <th>353629</th>\n",
       "      <td>2400</td>\n",
       "      <td>sedan</td>\n",
       "      <td>2007</td>\n",
       "      <td>manual</td>\n",
       "      <td>650</td>\n",
       "      <td>c2</td>\n",
       "      <td>150000</td>\n",
       "      <td>petrol</td>\n",
       "      <td>citroen</td>\n",
       "      <td>NaN</td>\n",
       "    </tr>\n",
       "    <tr>\n",
       "      <th>354256</th>\n",
       "      <td>399</td>\n",
       "      <td>other</td>\n",
       "      <td>1994</td>\n",
       "      <td>NaN</td>\n",
       "      <td>1103</td>\n",
       "      <td>3er</td>\n",
       "      <td>150000</td>\n",
       "      <td>NaN</td>\n",
       "      <td>bmw</td>\n",
       "      <td>NaN</td>\n",
       "    </tr>\n",
       "  </tbody>\n",
       "</table>\n",
       "<p>459 rows × 10 columns</p>\n",
       "</div>"
      ],
      "text/plain": [
       "        price vehicletype  registrationyear gearbox  power    model  \\\n",
       "1816     3200       small              2004  manual   1398  corolla   \n",
       "2102        0       sedan              1999     NaN   1799   vectra   \n",
       "3746        0         NaN              2017  manual    750      NaN   \n",
       "4060     3100       sedan              2005  manual    953     colt   \n",
       "5328      500       wagon              1999  manual   1001    astra   \n",
       "...       ...         ...               ...     ...    ...      ...   \n",
       "348964    250       small              1999  manual   1241  ypsilon   \n",
       "351943   1500         bus              2001  manual   1001   zafira   \n",
       "353489  12500         NaN              2017  manual   2000    other   \n",
       "353629   2400       sedan              2007  manual    650       c2   \n",
       "354256    399       other              1994     NaN   1103      3er   \n",
       "\n",
       "        kilometer  fueltype       brand notrepaired  \n",
       "1816         5000    petrol      toyota          no  \n",
       "2102       150000    petrol        opel         yes  \n",
       "3746       150000    petrol       smart          no  \n",
       "4060       150000  gasoline  mitsubishi          no  \n",
       "5328       150000    petrol        opel         NaN  \n",
       "...           ...       ...         ...         ...  \n",
       "348964     150000    petrol      lancia         yes  \n",
       "351943       5000  gasoline        opel          no  \n",
       "353489      60000  gasoline    chrysler          no  \n",
       "353629     150000    petrol     citroen         NaN  \n",
       "354256     150000       NaN         bmw         NaN  \n",
       "\n",
       "[459 rows x 10 columns]"
      ]
     },
     "execution_count": 10,
     "metadata": {},
     "output_type": "execute_result"
    }
   ],
   "source": [
    "df[(df['power'] > 500)]"
   ]
  },
  {
   "cell_type": "markdown",
   "metadata": {},
   "source": [
    "Трудно сказать, являются ли значения power ошибочными, или же это реальные характеристики АВТО.  \n",
    "Но возьмем срез по конкретной марке и модели авто и построим по нему отдельную гистограмму:"
   ]
  },
  {
   "cell_type": "code",
   "execution_count": 11,
   "metadata": {},
   "outputs": [
    {
     "data": {
      "text/plain": [
       "<matplotlib.axes._subplots.AxesSubplot at 0x15853f4c808>"
      ]
     },
     "execution_count": 11,
     "metadata": {},
     "output_type": "execute_result"
    },
    {
     "data": {
      "image/png": "[encoded data removed]",
      "text/plain": [
       "<Figure size 1080x504 with 1 Axes>"
      ]
     },
     "metadata": {},
     "output_type": "display_data"
    }
   ],
   "source": [
    "plt.figure(figsize = (15,7))\n",
    "sns.distplot(df[(df['brand'] == 'bmw') & (df['model'] == '5er')].power, kde= False, bins=200)"
   ]
  },
  {
   "cell_type": "markdown",
   "metadata": {},
   "source": [
    "Видим, что для конкретной модели авто есть силные выбросы - это явная ошибка. Скорее всего величина задана в других единицах измерения. Стоит сообщить об этом в источник данных.  \n",
    "Посмотрим на 99% квантиль признака power: "
   ]
  },
  {
   "cell_type": "code",
   "execution_count": 12,
   "metadata": {},
   "outputs": [
    {
     "data": {
      "text/plain": [
       "300.0"
      ]
     },
     "execution_count": 12,
     "metadata": {},
     "output_type": "execute_result"
    }
   ],
   "source": [
    "df.power.quantile(0.99)"
   ]
  },
  {
   "cell_type": "markdown",
   "metadata": {},
   "source": [
    "99% - квантиль выдал не слишком большую величину. Некоторые авто могут иметь такое значение.  Лучше выберем порог на глаз по общей гистограмме - 1000.  И удалим все строки, превышающие это значение  "
   ]
  },
  {
   "cell_type": "code",
   "execution_count": 13,
   "metadata": {},
   "outputs": [
    {
     "data": {
      "text/plain": [
       "302"
      ]
     },
     "execution_count": 13,
     "metadata": {},
     "output_type": "execute_result"
    }
   ],
   "source": [
    "df[df['power'] > 1000].shape[0]"
   ]
  },
  {
   "cell_type": "markdown",
   "metadata": {},
   "source": [
    "Всего лишь 302 строки"
   ]
  },
  {
   "cell_type": "code",
   "execution_count": 14,
   "metadata": {},
   "outputs": [
    {
     "data": {
      "text/html": [
       "<div>\n",
       "<style scoped>\n",
       "    .dataframe tbody tr th:only-of-type {\n",
       "        vertical-align: middle;\n",
       "    }\n",
       "\n",
       "    .dataframe tbody tr th {\n",
       "        vertical-align: top;\n",
       "    }\n",
       "\n",
       "    .dataframe thead th {\n",
       "        text-align: right;\n",
       "    }\n",
       "</style>\n",
       "<table border=\"1\" class=\"dataframe\">\n",
       "  <thead>\n",
       "    <tr style=\"text-align: right;\">\n",
       "      <th></th>\n",
       "      <th>price</th>\n",
       "      <th>vehicletype</th>\n",
       "      <th>registrationyear</th>\n",
       "      <th>gearbox</th>\n",
       "      <th>power</th>\n",
       "      <th>model</th>\n",
       "      <th>kilometer</th>\n",
       "      <th>fueltype</th>\n",
       "      <th>brand</th>\n",
       "      <th>notrepaired</th>\n",
       "    </tr>\n",
       "  </thead>\n",
       "  <tbody>\n",
       "    <tr>\n",
       "      <th>0</th>\n",
       "      <td>480</td>\n",
       "      <td>NaN</td>\n",
       "      <td>1993</td>\n",
       "      <td>manual</td>\n",
       "      <td>0</td>\n",
       "      <td>golf</td>\n",
       "      <td>150000</td>\n",
       "      <td>petrol</td>\n",
       "      <td>volkswagen</td>\n",
       "      <td>NaN</td>\n",
       "    </tr>\n",
       "    <tr>\n",
       "      <th>1</th>\n",
       "      <td>18300</td>\n",
       "      <td>coupe</td>\n",
       "      <td>2011</td>\n",
       "      <td>manual</td>\n",
       "      <td>190</td>\n",
       "      <td>NaN</td>\n",
       "      <td>125000</td>\n",
       "      <td>gasoline</td>\n",
       "      <td>audi</td>\n",
       "      <td>yes</td>\n",
       "    </tr>\n",
       "    <tr>\n",
       "      <th>2</th>\n",
       "      <td>9800</td>\n",
       "      <td>suv</td>\n",
       "      <td>2004</td>\n",
       "      <td>auto</td>\n",
       "      <td>163</td>\n",
       "      <td>grand</td>\n",
       "      <td>125000</td>\n",
       "      <td>gasoline</td>\n",
       "      <td>jeep</td>\n",
       "      <td>NaN</td>\n",
       "    </tr>\n",
       "    <tr>\n",
       "      <th>3</th>\n",
       "      <td>1500</td>\n",
       "      <td>small</td>\n",
       "      <td>2001</td>\n",
       "      <td>manual</td>\n",
       "      <td>75</td>\n",
       "      <td>golf</td>\n",
       "      <td>150000</td>\n",
       "      <td>petrol</td>\n",
       "      <td>volkswagen</td>\n",
       "      <td>no</td>\n",
       "    </tr>\n",
       "    <tr>\n",
       "      <th>4</th>\n",
       "      <td>3600</td>\n",
       "      <td>small</td>\n",
       "      <td>2008</td>\n",
       "      <td>manual</td>\n",
       "      <td>69</td>\n",
       "      <td>fabia</td>\n",
       "      <td>90000</td>\n",
       "      <td>gasoline</td>\n",
       "      <td>skoda</td>\n",
       "      <td>no</td>\n",
       "    </tr>\n",
       "    <tr>\n",
       "      <th>...</th>\n",
       "      <td>...</td>\n",
       "      <td>...</td>\n",
       "      <td>...</td>\n",
       "      <td>...</td>\n",
       "      <td>...</td>\n",
       "      <td>...</td>\n",
       "      <td>...</td>\n",
       "      <td>...</td>\n",
       "      <td>...</td>\n",
       "      <td>...</td>\n",
       "    </tr>\n",
       "    <tr>\n",
       "      <th>354058</th>\n",
       "      <td>0</td>\n",
       "      <td>NaN</td>\n",
       "      <td>2005</td>\n",
       "      <td>manual</td>\n",
       "      <td>0</td>\n",
       "      <td>colt</td>\n",
       "      <td>150000</td>\n",
       "      <td>petrol</td>\n",
       "      <td>mitsubishi</td>\n",
       "      <td>yes</td>\n",
       "    </tr>\n",
       "    <tr>\n",
       "      <th>354059</th>\n",
       "      <td>2200</td>\n",
       "      <td>NaN</td>\n",
       "      <td>2005</td>\n",
       "      <td>NaN</td>\n",
       "      <td>0</td>\n",
       "      <td>NaN</td>\n",
       "      <td>20000</td>\n",
       "      <td>NaN</td>\n",
       "      <td>sonstige_autos</td>\n",
       "      <td>NaN</td>\n",
       "    </tr>\n",
       "    <tr>\n",
       "      <th>354060</th>\n",
       "      <td>1199</td>\n",
       "      <td>convertible</td>\n",
       "      <td>2000</td>\n",
       "      <td>auto</td>\n",
       "      <td>101</td>\n",
       "      <td>fortwo</td>\n",
       "      <td>125000</td>\n",
       "      <td>petrol</td>\n",
       "      <td>smart</td>\n",
       "      <td>no</td>\n",
       "    </tr>\n",
       "    <tr>\n",
       "      <th>354061</th>\n",
       "      <td>9200</td>\n",
       "      <td>bus</td>\n",
       "      <td>1996</td>\n",
       "      <td>manual</td>\n",
       "      <td>102</td>\n",
       "      <td>transporter</td>\n",
       "      <td>150000</td>\n",
       "      <td>gasoline</td>\n",
       "      <td>volkswagen</td>\n",
       "      <td>no</td>\n",
       "    </tr>\n",
       "    <tr>\n",
       "      <th>354062</th>\n",
       "      <td>3400</td>\n",
       "      <td>wagon</td>\n",
       "      <td>2002</td>\n",
       "      <td>manual</td>\n",
       "      <td>100</td>\n",
       "      <td>golf</td>\n",
       "      <td>150000</td>\n",
       "      <td>gasoline</td>\n",
       "      <td>volkswagen</td>\n",
       "      <td>NaN</td>\n",
       "    </tr>\n",
       "  </tbody>\n",
       "</table>\n",
       "<p>354063 rows × 10 columns</p>\n",
       "</div>"
      ],
      "text/plain": [
       "        price  vehicletype  registrationyear gearbox  power        model  \\\n",
       "0         480          NaN              1993  manual      0         golf   \n",
       "1       18300        coupe              2011  manual    190          NaN   \n",
       "2        9800          suv              2004    auto    163        grand   \n",
       "3        1500        small              2001  manual     75         golf   \n",
       "4        3600        small              2008  manual     69        fabia   \n",
       "...       ...          ...               ...     ...    ...          ...   \n",
       "354058      0          NaN              2005  manual      0         colt   \n",
       "354059   2200          NaN              2005     NaN      0          NaN   \n",
       "354060   1199  convertible              2000    auto    101       fortwo   \n",
       "354061   9200          bus              1996  manual    102  transporter   \n",
       "354062   3400        wagon              2002  manual    100         golf   \n",
       "\n",
       "        kilometer  fueltype           brand notrepaired  \n",
       "0          150000    petrol      volkswagen         NaN  \n",
       "1          125000  gasoline            audi         yes  \n",
       "2          125000  gasoline            jeep         NaN  \n",
       "3          150000    petrol      volkswagen          no  \n",
       "4           90000  gasoline           skoda          no  \n",
       "...           ...       ...             ...         ...  \n",
       "354058     150000    petrol      mitsubishi         yes  \n",
       "354059      20000       NaN  sonstige_autos         NaN  \n",
       "354060     125000    petrol           smart          no  \n",
       "354061     150000  gasoline      volkswagen          no  \n",
       "354062     150000  gasoline      volkswagen         NaN  \n",
       "\n",
       "[354063 rows x 10 columns]"
      ]
     },
     "execution_count": 14,
     "metadata": {},
     "output_type": "execute_result"
    }
   ],
   "source": [
    "df = df[~(df['power'] > 1000)].reset_index(drop=True)\n",
    "df"
   ]
  },
  {
   "cell_type": "markdown",
   "metadata": {},
   "source": [
    "Также посмотрим на строки с нулевой мощностью:"
   ]
  },
  {
   "cell_type": "code",
   "execution_count": 15,
   "metadata": {},
   "outputs": [
    {
     "data": {
      "text/html": [
       "<div>\n",
       "<style scoped>\n",
       "    .dataframe tbody tr th:only-of-type {\n",
       "        vertical-align: middle;\n",
       "    }\n",
       "\n",
       "    .dataframe tbody tr th {\n",
       "        vertical-align: top;\n",
       "    }\n",
       "\n",
       "    .dataframe thead th {\n",
       "        text-align: right;\n",
       "    }\n",
       "</style>\n",
       "<table border=\"1\" class=\"dataframe\">\n",
       "  <thead>\n",
       "    <tr style=\"text-align: right;\">\n",
       "      <th></th>\n",
       "      <th>price</th>\n",
       "      <th>vehicletype</th>\n",
       "      <th>registrationyear</th>\n",
       "      <th>gearbox</th>\n",
       "      <th>power</th>\n",
       "      <th>model</th>\n",
       "      <th>kilometer</th>\n",
       "      <th>fueltype</th>\n",
       "      <th>brand</th>\n",
       "      <th>notrepaired</th>\n",
       "    </tr>\n",
       "  </thead>\n",
       "  <tbody>\n",
       "    <tr>\n",
       "      <th>0</th>\n",
       "      <td>480</td>\n",
       "      <td>NaN</td>\n",
       "      <td>1993</td>\n",
       "      <td>manual</td>\n",
       "      <td>0</td>\n",
       "      <td>golf</td>\n",
       "      <td>150000</td>\n",
       "      <td>petrol</td>\n",
       "      <td>volkswagen</td>\n",
       "      <td>NaN</td>\n",
       "    </tr>\n",
       "    <tr>\n",
       "      <th>15</th>\n",
       "      <td>450</td>\n",
       "      <td>small</td>\n",
       "      <td>1910</td>\n",
       "      <td>NaN</td>\n",
       "      <td>0</td>\n",
       "      <td>ka</td>\n",
       "      <td>5000</td>\n",
       "      <td>petrol</td>\n",
       "      <td>ford</td>\n",
       "      <td>NaN</td>\n",
       "    </tr>\n",
       "    <tr>\n",
       "      <th>32</th>\n",
       "      <td>245</td>\n",
       "      <td>sedan</td>\n",
       "      <td>1994</td>\n",
       "      <td>NaN</td>\n",
       "      <td>0</td>\n",
       "      <td>golf</td>\n",
       "      <td>150000</td>\n",
       "      <td>petrol</td>\n",
       "      <td>volkswagen</td>\n",
       "      <td>no</td>\n",
       "    </tr>\n",
       "    <tr>\n",
       "      <th>37</th>\n",
       "      <td>1500</td>\n",
       "      <td>NaN</td>\n",
       "      <td>2016</td>\n",
       "      <td>NaN</td>\n",
       "      <td>0</td>\n",
       "      <td>kangoo</td>\n",
       "      <td>150000</td>\n",
       "      <td>gasoline</td>\n",
       "      <td>renault</td>\n",
       "      <td>no</td>\n",
       "    </tr>\n",
       "    <tr>\n",
       "      <th>40</th>\n",
       "      <td>0</td>\n",
       "      <td>NaN</td>\n",
       "      <td>1990</td>\n",
       "      <td>NaN</td>\n",
       "      <td>0</td>\n",
       "      <td>corsa</td>\n",
       "      <td>150000</td>\n",
       "      <td>petrol</td>\n",
       "      <td>opel</td>\n",
       "      <td>NaN</td>\n",
       "    </tr>\n",
       "    <tr>\n",
       "      <th>...</th>\n",
       "      <td>...</td>\n",
       "      <td>...</td>\n",
       "      <td>...</td>\n",
       "      <td>...</td>\n",
       "      <td>...</td>\n",
       "      <td>...</td>\n",
       "      <td>...</td>\n",
       "      <td>...</td>\n",
       "      <td>...</td>\n",
       "      <td>...</td>\n",
       "    </tr>\n",
       "    <tr>\n",
       "      <th>354032</th>\n",
       "      <td>180</td>\n",
       "      <td>NaN</td>\n",
       "      <td>1995</td>\n",
       "      <td>NaN</td>\n",
       "      <td>0</td>\n",
       "      <td>NaN</td>\n",
       "      <td>125000</td>\n",
       "      <td>petrol</td>\n",
       "      <td>opel</td>\n",
       "      <td>NaN</td>\n",
       "    </tr>\n",
       "    <tr>\n",
       "      <th>354040</th>\n",
       "      <td>2600</td>\n",
       "      <td>NaN</td>\n",
       "      <td>2005</td>\n",
       "      <td>auto</td>\n",
       "      <td>0</td>\n",
       "      <td>c_klasse</td>\n",
       "      <td>150000</td>\n",
       "      <td>NaN</td>\n",
       "      <td>mercedes_benz</td>\n",
       "      <td>NaN</td>\n",
       "    </tr>\n",
       "    <tr>\n",
       "      <th>354057</th>\n",
       "      <td>1150</td>\n",
       "      <td>bus</td>\n",
       "      <td>2000</td>\n",
       "      <td>manual</td>\n",
       "      <td>0</td>\n",
       "      <td>zafira</td>\n",
       "      <td>150000</td>\n",
       "      <td>petrol</td>\n",
       "      <td>opel</td>\n",
       "      <td>no</td>\n",
       "    </tr>\n",
       "    <tr>\n",
       "      <th>354058</th>\n",
       "      <td>0</td>\n",
       "      <td>NaN</td>\n",
       "      <td>2005</td>\n",
       "      <td>manual</td>\n",
       "      <td>0</td>\n",
       "      <td>colt</td>\n",
       "      <td>150000</td>\n",
       "      <td>petrol</td>\n",
       "      <td>mitsubishi</td>\n",
       "      <td>yes</td>\n",
       "    </tr>\n",
       "    <tr>\n",
       "      <th>354059</th>\n",
       "      <td>2200</td>\n",
       "      <td>NaN</td>\n",
       "      <td>2005</td>\n",
       "      <td>NaN</td>\n",
       "      <td>0</td>\n",
       "      <td>NaN</td>\n",
       "      <td>20000</td>\n",
       "      <td>NaN</td>\n",
       "      <td>sonstige_autos</td>\n",
       "      <td>NaN</td>\n",
       "    </tr>\n",
       "  </tbody>\n",
       "</table>\n",
       "<p>40225 rows × 10 columns</p>\n",
       "</div>"
      ],
      "text/plain": [
       "        price vehicletype  registrationyear gearbox  power     model  \\\n",
       "0         480         NaN              1993  manual      0      golf   \n",
       "15        450       small              1910     NaN      0        ka   \n",
       "32        245       sedan              1994     NaN      0      golf   \n",
       "37       1500         NaN              2016     NaN      0    kangoo   \n",
       "40          0         NaN              1990     NaN      0     corsa   \n",
       "...       ...         ...               ...     ...    ...       ...   \n",
       "354032    180         NaN              1995     NaN      0       NaN   \n",
       "354040   2600         NaN              2005    auto      0  c_klasse   \n",
       "354057   1150         bus              2000  manual      0    zafira   \n",
       "354058      0         NaN              2005  manual      0      colt   \n",
       "354059   2200         NaN              2005     NaN      0       NaN   \n",
       "\n",
       "        kilometer  fueltype           brand notrepaired  \n",
       "0          150000    petrol      volkswagen         NaN  \n",
       "15           5000    petrol            ford         NaN  \n",
       "32         150000    petrol      volkswagen          no  \n",
       "37         150000  gasoline         renault          no  \n",
       "40         150000    petrol            opel         NaN  \n",
       "...           ...       ...             ...         ...  \n",
       "354032     125000    petrol            opel         NaN  \n",
       "354040     150000       NaN   mercedes_benz         NaN  \n",
       "354057     150000    petrol            opel          no  \n",
       "354058     150000    petrol      mitsubishi         yes  \n",
       "354059      20000       NaN  sonstige_autos         NaN  \n",
       "\n",
       "[40225 rows x 10 columns]"
      ]
     },
     "execution_count": 15,
     "metadata": {},
     "output_type": "execute_result"
    }
   ],
   "source": [
    "df[(df['power'] == 0)]"
   ]
  },
  {
   "cell_type": "markdown",
   "metadata": {},
   "source": [
    "Более 10% датасета имеют ошибочно указанную нулевую мощность. Если удалить данные строки, то потеряем много ценной информации в других признаках.  Эту величину можно довольно точно восстановить по имеющимся в таблице признакам вручную. В данной задаче не будем делать ручное заполнение. Принимаем решение заполнить нули медианным значением."
   ]
  },
  {
   "cell_type": "code",
   "execution_count": 16,
   "metadata": {},
   "outputs": [
    {
     "data": {
      "text/html": [
       "<div>\n",
       "<style scoped>\n",
       "    .dataframe tbody tr th:only-of-type {\n",
       "        vertical-align: middle;\n",
       "    }\n",
       "\n",
       "    .dataframe tbody tr th {\n",
       "        vertical-align: top;\n",
       "    }\n",
       "\n",
       "    .dataframe thead th {\n",
       "        text-align: right;\n",
       "    }\n",
       "</style>\n",
       "<table border=\"1\" class=\"dataframe\">\n",
       "  <thead>\n",
       "    <tr style=\"text-align: right;\">\n",
       "      <th></th>\n",
       "      <th>price</th>\n",
       "      <th>vehicletype</th>\n",
       "      <th>registrationyear</th>\n",
       "      <th>gearbox</th>\n",
       "      <th>power</th>\n",
       "      <th>model</th>\n",
       "      <th>kilometer</th>\n",
       "      <th>fueltype</th>\n",
       "      <th>brand</th>\n",
       "      <th>notrepaired</th>\n",
       "    </tr>\n",
       "  </thead>\n",
       "  <tbody>\n",
       "  </tbody>\n",
       "</table>\n",
       "</div>"
      ],
      "text/plain": [
       "Empty DataFrame\n",
       "Columns: [price, vehicletype, registrationyear, gearbox, power, model, kilometer, fueltype, brand, notrepaired]\n",
       "Index: []"
      ]
     },
     "execution_count": 16,
     "metadata": {},
     "output_type": "execute_result"
    }
   ],
   "source": [
    "power_median = df.power.median()\n",
    "df['power'].replace(0, power_median, inplace=True)\n",
    "#Проверка\n",
    "df[df['power'] == 0]"
   ]
  },
  {
   "cell_type": "markdown",
   "metadata": {},
   "source": [
    "#### 1.1.4.2 Признак  registrationyear\n",
    "Строим гистограмму"
   ]
  },
  {
   "cell_type": "code",
   "execution_count": 17,
   "metadata": {},
   "outputs": [
    {
     "data": {
      "text/plain": [
       "<matplotlib.axes._subplots.AxesSubplot at 0x1584efa7a08>"
      ]
     },
     "execution_count": 17,
     "metadata": {},
     "output_type": "execute_result"
    },
    {
     "data": {
      "image/png": "[encoded data removed]",
      "text/plain": [
       "<Figure size 1080x504 with 1 Axes>"
      ]
     },
     "metadata": {},
     "output_type": "display_data"
    }
   ],
   "source": [
    "plt.figure(figsize = (15,7))\n",
    "sns.distplot(df.registrationyear, kde = False, bins=100)"
   ]
  },
  {
   "cell_type": "markdown",
   "metadata": {},
   "source": [
    "Видим явные ошибки в указании даты.  Ограничим допустимые значения 1908...2020 годами и удалим все аномальные значения"
   ]
  },
  {
   "cell_type": "code",
   "execution_count": 18,
   "metadata": {},
   "outputs": [
    {
     "data": {
      "text/html": [
       "<div>\n",
       "<style scoped>\n",
       "    .dataframe tbody tr th:only-of-type {\n",
       "        vertical-align: middle;\n",
       "    }\n",
       "\n",
       "    .dataframe tbody tr th {\n",
       "        vertical-align: top;\n",
       "    }\n",
       "\n",
       "    .dataframe thead th {\n",
       "        text-align: right;\n",
       "    }\n",
       "</style>\n",
       "<table border=\"1\" class=\"dataframe\">\n",
       "  <thead>\n",
       "    <tr style=\"text-align: right;\">\n",
       "      <th></th>\n",
       "      <th>price</th>\n",
       "      <th>vehicletype</th>\n",
       "      <th>registrationyear</th>\n",
       "      <th>gearbox</th>\n",
       "      <th>power</th>\n",
       "      <th>model</th>\n",
       "      <th>kilometer</th>\n",
       "      <th>fueltype</th>\n",
       "      <th>brand</th>\n",
       "      <th>notrepaired</th>\n",
       "    </tr>\n",
       "  </thead>\n",
       "  <tbody>\n",
       "    <tr>\n",
       "      <th>622</th>\n",
       "      <td>0</td>\n",
       "      <td>NaN</td>\n",
       "      <td>1111</td>\n",
       "      <td>NaN</td>\n",
       "      <td>105</td>\n",
       "      <td>NaN</td>\n",
       "      <td>5000</td>\n",
       "      <td>NaN</td>\n",
       "      <td>opel</td>\n",
       "      <td>NaN</td>\n",
       "    </tr>\n",
       "    <tr>\n",
       "      <th>12938</th>\n",
       "      <td>49</td>\n",
       "      <td>NaN</td>\n",
       "      <td>5000</td>\n",
       "      <td>NaN</td>\n",
       "      <td>105</td>\n",
       "      <td>golf</td>\n",
       "      <td>5000</td>\n",
       "      <td>NaN</td>\n",
       "      <td>volkswagen</td>\n",
       "      <td>NaN</td>\n",
       "    </tr>\n",
       "    <tr>\n",
       "      <th>15139</th>\n",
       "      <td>0</td>\n",
       "      <td>NaN</td>\n",
       "      <td>9999</td>\n",
       "      <td>NaN</td>\n",
       "      <td>105</td>\n",
       "      <td>NaN</td>\n",
       "      <td>10000</td>\n",
       "      <td>NaN</td>\n",
       "      <td>sonstige_autos</td>\n",
       "      <td>NaN</td>\n",
       "    </tr>\n",
       "    <tr>\n",
       "      <th>15862</th>\n",
       "      <td>1700</td>\n",
       "      <td>NaN</td>\n",
       "      <td>3200</td>\n",
       "      <td>NaN</td>\n",
       "      <td>105</td>\n",
       "      <td>NaN</td>\n",
       "      <td>5000</td>\n",
       "      <td>NaN</td>\n",
       "      <td>sonstige_autos</td>\n",
       "      <td>NaN</td>\n",
       "    </tr>\n",
       "    <tr>\n",
       "      <th>16054</th>\n",
       "      <td>190</td>\n",
       "      <td>NaN</td>\n",
       "      <td>1000</td>\n",
       "      <td>NaN</td>\n",
       "      <td>105</td>\n",
       "      <td>mondeo</td>\n",
       "      <td>5000</td>\n",
       "      <td>NaN</td>\n",
       "      <td>ford</td>\n",
       "      <td>NaN</td>\n",
       "    </tr>\n",
       "    <tr>\n",
       "      <th>...</th>\n",
       "      <td>...</td>\n",
       "      <td>...</td>\n",
       "      <td>...</td>\n",
       "      <td>...</td>\n",
       "      <td>...</td>\n",
       "      <td>...</td>\n",
       "      <td>...</td>\n",
       "      <td>...</td>\n",
       "      <td>...</td>\n",
       "      <td>...</td>\n",
       "    </tr>\n",
       "    <tr>\n",
       "      <th>335443</th>\n",
       "      <td>0</td>\n",
       "      <td>NaN</td>\n",
       "      <td>7500</td>\n",
       "      <td>manual</td>\n",
       "      <td>105</td>\n",
       "      <td>other</td>\n",
       "      <td>10000</td>\n",
       "      <td>petrol</td>\n",
       "      <td>mini</td>\n",
       "      <td>no</td>\n",
       "    </tr>\n",
       "    <tr>\n",
       "      <th>340260</th>\n",
       "      <td>0</td>\n",
       "      <td>NaN</td>\n",
       "      <td>3500</td>\n",
       "      <td>manual</td>\n",
       "      <td>75</td>\n",
       "      <td>NaN</td>\n",
       "      <td>5000</td>\n",
       "      <td>petrol</td>\n",
       "      <td>sonstige_autos</td>\n",
       "      <td>NaN</td>\n",
       "    </tr>\n",
       "    <tr>\n",
       "      <th>341499</th>\n",
       "      <td>1</td>\n",
       "      <td>NaN</td>\n",
       "      <td>3000</td>\n",
       "      <td>NaN</td>\n",
       "      <td>105</td>\n",
       "      <td>zafira</td>\n",
       "      <td>5000</td>\n",
       "      <td>NaN</td>\n",
       "      <td>opel</td>\n",
       "      <td>NaN</td>\n",
       "    </tr>\n",
       "    <tr>\n",
       "      <th>348529</th>\n",
       "      <td>1</td>\n",
       "      <td>NaN</td>\n",
       "      <td>1000</td>\n",
       "      <td>NaN</td>\n",
       "      <td>1000</td>\n",
       "      <td>NaN</td>\n",
       "      <td>150000</td>\n",
       "      <td>NaN</td>\n",
       "      <td>sonstige_autos</td>\n",
       "      <td>NaN</td>\n",
       "    </tr>\n",
       "    <tr>\n",
       "      <th>351379</th>\n",
       "      <td>11500</td>\n",
       "      <td>NaN</td>\n",
       "      <td>1800</td>\n",
       "      <td>NaN</td>\n",
       "      <td>16</td>\n",
       "      <td>other</td>\n",
       "      <td>5000</td>\n",
       "      <td>petrol</td>\n",
       "      <td>fiat</td>\n",
       "      <td>NaN</td>\n",
       "    </tr>\n",
       "  </tbody>\n",
       "</table>\n",
       "<p>164 rows × 10 columns</p>\n",
       "</div>"
      ],
      "text/plain": [
       "        price vehicletype  registrationyear gearbox  power   model  kilometer  \\\n",
       "622         0         NaN              1111     NaN    105     NaN       5000   \n",
       "12938      49         NaN              5000     NaN    105    golf       5000   \n",
       "15139       0         NaN              9999     NaN    105     NaN      10000   \n",
       "15862    1700         NaN              3200     NaN    105     NaN       5000   \n",
       "16054     190         NaN              1000     NaN    105  mondeo       5000   \n",
       "...       ...         ...               ...     ...    ...     ...        ...   \n",
       "335443      0         NaN              7500  manual    105   other      10000   \n",
       "340260      0         NaN              3500  manual     75     NaN       5000   \n",
       "341499      1         NaN              3000     NaN    105  zafira       5000   \n",
       "348529      1         NaN              1000     NaN   1000     NaN     150000   \n",
       "351379  11500         NaN              1800     NaN     16   other       5000   \n",
       "\n",
       "       fueltype           brand notrepaired  \n",
       "622         NaN            opel         NaN  \n",
       "12938       NaN      volkswagen         NaN  \n",
       "15139       NaN  sonstige_autos         NaN  \n",
       "15862       NaN  sonstige_autos         NaN  \n",
       "16054       NaN            ford         NaN  \n",
       "...         ...             ...         ...  \n",
       "335443   petrol            mini          no  \n",
       "340260   petrol  sonstige_autos         NaN  \n",
       "341499      NaN            opel         NaN  \n",
       "348529      NaN  sonstige_autos         NaN  \n",
       "351379   petrol            fiat         NaN  \n",
       "\n",
       "[164 rows x 10 columns]"
      ]
     },
     "execution_count": 18,
     "metadata": {},
     "output_type": "execute_result"
    }
   ],
   "source": [
    "df[~(df['registrationyear'] >= 1908) | ~(df['registrationyear'] <=2020)]"
   ]
  },
  {
   "cell_type": "markdown",
   "metadata": {},
   "source": [
    "164 аномальных значений. Удаляем их"
   ]
  },
  {
   "cell_type": "code",
   "execution_count": 19,
   "metadata": {
    "scrolled": true
   },
   "outputs": [
    {
     "data": {
      "text/html": [
       "<div>\n",
       "<style scoped>\n",
       "    .dataframe tbody tr th:only-of-type {\n",
       "        vertical-align: middle;\n",
       "    }\n",
       "\n",
       "    .dataframe tbody tr th {\n",
       "        vertical-align: top;\n",
       "    }\n",
       "\n",
       "    .dataframe thead th {\n",
       "        text-align: right;\n",
       "    }\n",
       "</style>\n",
       "<table border=\"1\" class=\"dataframe\">\n",
       "  <thead>\n",
       "    <tr style=\"text-align: right;\">\n",
       "      <th></th>\n",
       "      <th>price</th>\n",
       "      <th>vehicletype</th>\n",
       "      <th>registrationyear</th>\n",
       "      <th>gearbox</th>\n",
       "      <th>power</th>\n",
       "      <th>model</th>\n",
       "      <th>kilometer</th>\n",
       "      <th>fueltype</th>\n",
       "      <th>brand</th>\n",
       "      <th>notrepaired</th>\n",
       "    </tr>\n",
       "  </thead>\n",
       "  <tbody>\n",
       "    <tr>\n",
       "      <th>0</th>\n",
       "      <td>480</td>\n",
       "      <td>NaN</td>\n",
       "      <td>1993</td>\n",
       "      <td>manual</td>\n",
       "      <td>105</td>\n",
       "      <td>golf</td>\n",
       "      <td>150000</td>\n",
       "      <td>petrol</td>\n",
       "      <td>volkswagen</td>\n",
       "      <td>NaN</td>\n",
       "    </tr>\n",
       "    <tr>\n",
       "      <th>1</th>\n",
       "      <td>18300</td>\n",
       "      <td>coupe</td>\n",
       "      <td>2011</td>\n",
       "      <td>manual</td>\n",
       "      <td>190</td>\n",
       "      <td>NaN</td>\n",
       "      <td>125000</td>\n",
       "      <td>gasoline</td>\n",
       "      <td>audi</td>\n",
       "      <td>yes</td>\n",
       "    </tr>\n",
       "    <tr>\n",
       "      <th>2</th>\n",
       "      <td>9800</td>\n",
       "      <td>suv</td>\n",
       "      <td>2004</td>\n",
       "      <td>auto</td>\n",
       "      <td>163</td>\n",
       "      <td>grand</td>\n",
       "      <td>125000</td>\n",
       "      <td>gasoline</td>\n",
       "      <td>jeep</td>\n",
       "      <td>NaN</td>\n",
       "    </tr>\n",
       "    <tr>\n",
       "      <th>3</th>\n",
       "      <td>1500</td>\n",
       "      <td>small</td>\n",
       "      <td>2001</td>\n",
       "      <td>manual</td>\n",
       "      <td>75</td>\n",
       "      <td>golf</td>\n",
       "      <td>150000</td>\n",
       "      <td>petrol</td>\n",
       "      <td>volkswagen</td>\n",
       "      <td>no</td>\n",
       "    </tr>\n",
       "    <tr>\n",
       "      <th>4</th>\n",
       "      <td>3600</td>\n",
       "      <td>small</td>\n",
       "      <td>2008</td>\n",
       "      <td>manual</td>\n",
       "      <td>69</td>\n",
       "      <td>fabia</td>\n",
       "      <td>90000</td>\n",
       "      <td>gasoline</td>\n",
       "      <td>skoda</td>\n",
       "      <td>no</td>\n",
       "    </tr>\n",
       "    <tr>\n",
       "      <th>...</th>\n",
       "      <td>...</td>\n",
       "      <td>...</td>\n",
       "      <td>...</td>\n",
       "      <td>...</td>\n",
       "      <td>...</td>\n",
       "      <td>...</td>\n",
       "      <td>...</td>\n",
       "      <td>...</td>\n",
       "      <td>...</td>\n",
       "      <td>...</td>\n",
       "    </tr>\n",
       "    <tr>\n",
       "      <th>353894</th>\n",
       "      <td>0</td>\n",
       "      <td>NaN</td>\n",
       "      <td>2005</td>\n",
       "      <td>manual</td>\n",
       "      <td>105</td>\n",
       "      <td>colt</td>\n",
       "      <td>150000</td>\n",
       "      <td>petrol</td>\n",
       "      <td>mitsubishi</td>\n",
       "      <td>yes</td>\n",
       "    </tr>\n",
       "    <tr>\n",
       "      <th>353895</th>\n",
       "      <td>2200</td>\n",
       "      <td>NaN</td>\n",
       "      <td>2005</td>\n",
       "      <td>NaN</td>\n",
       "      <td>105</td>\n",
       "      <td>NaN</td>\n",
       "      <td>20000</td>\n",
       "      <td>NaN</td>\n",
       "      <td>sonstige_autos</td>\n",
       "      <td>NaN</td>\n",
       "    </tr>\n",
       "    <tr>\n",
       "      <th>353896</th>\n",
       "      <td>1199</td>\n",
       "      <td>convertible</td>\n",
       "      <td>2000</td>\n",
       "      <td>auto</td>\n",
       "      <td>101</td>\n",
       "      <td>fortwo</td>\n",
       "      <td>125000</td>\n",
       "      <td>petrol</td>\n",
       "      <td>smart</td>\n",
       "      <td>no</td>\n",
       "    </tr>\n",
       "    <tr>\n",
       "      <th>353897</th>\n",
       "      <td>9200</td>\n",
       "      <td>bus</td>\n",
       "      <td>1996</td>\n",
       "      <td>manual</td>\n",
       "      <td>102</td>\n",
       "      <td>transporter</td>\n",
       "      <td>150000</td>\n",
       "      <td>gasoline</td>\n",
       "      <td>volkswagen</td>\n",
       "      <td>no</td>\n",
       "    </tr>\n",
       "    <tr>\n",
       "      <th>353898</th>\n",
       "      <td>3400</td>\n",
       "      <td>wagon</td>\n",
       "      <td>2002</td>\n",
       "      <td>manual</td>\n",
       "      <td>100</td>\n",
       "      <td>golf</td>\n",
       "      <td>150000</td>\n",
       "      <td>gasoline</td>\n",
       "      <td>volkswagen</td>\n",
       "      <td>NaN</td>\n",
       "    </tr>\n",
       "  </tbody>\n",
       "</table>\n",
       "<p>353899 rows × 10 columns</p>\n",
       "</div>"
      ],
      "text/plain": [
       "        price  vehicletype  registrationyear gearbox  power        model  \\\n",
       "0         480          NaN              1993  manual    105         golf   \n",
       "1       18300        coupe              2011  manual    190          NaN   \n",
       "2        9800          suv              2004    auto    163        grand   \n",
       "3        1500        small              2001  manual     75         golf   \n",
       "4        3600        small              2008  manual     69        fabia   \n",
       "...       ...          ...               ...     ...    ...          ...   \n",
       "353894      0          NaN              2005  manual    105         colt   \n",
       "353895   2200          NaN              2005     NaN    105          NaN   \n",
       "353896   1199  convertible              2000    auto    101       fortwo   \n",
       "353897   9200          bus              1996  manual    102  transporter   \n",
       "353898   3400        wagon              2002  manual    100         golf   \n",
       "\n",
       "        kilometer  fueltype           brand notrepaired  \n",
       "0          150000    petrol      volkswagen         NaN  \n",
       "1          125000  gasoline            audi         yes  \n",
       "2          125000  gasoline            jeep         NaN  \n",
       "3          150000    petrol      volkswagen          no  \n",
       "4           90000  gasoline           skoda          no  \n",
       "...           ...       ...             ...         ...  \n",
       "353894     150000    petrol      mitsubishi         yes  \n",
       "353895      20000       NaN  sonstige_autos         NaN  \n",
       "353896     125000    petrol           smart          no  \n",
       "353897     150000  gasoline      volkswagen          no  \n",
       "353898     150000  gasoline      volkswagen         NaN  \n",
       "\n",
       "[353899 rows x 10 columns]"
      ]
     },
     "execution_count": 19,
     "metadata": {},
     "output_type": "execute_result"
    }
   ],
   "source": [
    "df = df[(df['registrationyear'] >= 1908) & (df['registrationyear'] <=2020)].reset_index(drop=True)\n",
    "df"
   ]
  },
  {
   "cell_type": "markdown",
   "metadata": {},
   "source": [
    "#### 1.1.4.2 Признак  kilometer\n",
    "Строим гистограмму"
   ]
  },
  {
   "cell_type": "code",
   "execution_count": 20,
   "metadata": {},
   "outputs": [
    {
     "data": {
      "text/plain": [
       "<matplotlib.axes._subplots.AxesSubplot at 0x1584f19d448>"
      ]
     },
     "execution_count": 20,
     "metadata": {},
     "output_type": "execute_result"
    },
    {
     "data": {
      "image/png": "[encoded data removed]",
      "text/plain": [
       "<Figure size 1080x504 with 1 Axes>"
      ]
     },
     "metadata": {},
     "output_type": "display_data"
    }
   ],
   "source": [
    "plt.figure(figsize = (15,7))\n",
    "sns.distplot(df.kilometer, kde = False, bins=100)"
   ]
  },
  {
   "cell_type": "markdown",
   "metadata": {},
   "source": [
    "Тут аномальных значений не обнаружено. "
   ]
  },
  {
   "cell_type": "markdown",
   "metadata": {},
   "source": [
    "### 1.1.5 Заполнение пропусков "
   ]
  },
  {
   "cell_type": "markdown",
   "metadata": {},
   "source": [
    "Проверим, сколько данных мы потеряем при удалении пропусков"
   ]
  },
  {
   "cell_type": "code",
   "execution_count": 21,
   "metadata": {},
   "outputs": [
    {
     "data": {
      "text/plain": [
       "30.57821581863752"
      ]
     },
     "execution_count": 21,
     "metadata": {},
     "output_type": "execute_result"
    }
   ],
   "source": [
    "(df.shape[0] - df.dropna().shape[0]) / df.shape[0] * 100"
   ]
  },
  {
   "cell_type": "markdown",
   "metadata": {},
   "source": [
    "Теряем 30% данных. Это очень много. Попробуем заполнить пропуски.\n",
    "Получим список признаков, в которых есть пропуски и рассмотрим поочередно каждый из них"
   ]
  },
  {
   "cell_type": "code",
   "execution_count": 22,
   "metadata": {},
   "outputs": [
    {
     "data": {
      "text/plain": [
       "['vehicletype', 'gearbox', 'model', 'fueltype', 'notrepaired']"
      ]
     },
     "execution_count": 22,
     "metadata": {},
     "output_type": "execute_result"
    }
   ],
   "source": [
    "feat_with_nan = list(df.isna().sum()[df.isna().sum() != 0].index)\n",
    "feat_with_nan"
   ]
  },
  {
   "cell_type": "markdown",
   "metadata": {},
   "source": [
    "Имеются пропуски только в категориальных  признаках. Предварительный иследовательский анализ не выявил зависимости, по которым можно восстановить пропуски. Для наглядности изобразим зависимость между признаками:"
   ]
  },
  {
   "cell_type": "markdown",
   "metadata": {},
   "source": [
    "#### 1.1.5.1 Столбец vehicletype - тип кузова"
   ]
  },
  {
   "cell_type": "markdown",
   "metadata": {},
   "source": [
    "Пропуски в этом столбце можем восстановить по информации в столбцах 'model','brand'. (для 100% точности можно также учесть 'registrationyear' - но это будет слишком глубокий анализ, в данном проекте не будем учитывать)  \n",
    "Посмотрим на количество таких строк"
   ]
  },
  {
   "cell_type": "code",
   "execution_count": 23,
   "metadata": {},
   "outputs": [
    {
     "data": {
      "text/html": [
       "<div>\n",
       "<style scoped>\n",
       "    .dataframe tbody tr th:only-of-type {\n",
       "        vertical-align: middle;\n",
       "    }\n",
       "\n",
       "    .dataframe tbody tr th {\n",
       "        vertical-align: top;\n",
       "    }\n",
       "\n",
       "    .dataframe thead th {\n",
       "        text-align: right;\n",
       "    }\n",
       "</style>\n",
       "<table border=\"1\" class=\"dataframe\">\n",
       "  <thead>\n",
       "    <tr style=\"text-align: right;\">\n",
       "      <th></th>\n",
       "      <th>vehicletype</th>\n",
       "      <th>model</th>\n",
       "      <th>brand</th>\n",
       "    </tr>\n",
       "  </thead>\n",
       "  <tbody>\n",
       "    <tr>\n",
       "      <th>0</th>\n",
       "      <td>NaN</td>\n",
       "      <td>golf</td>\n",
       "      <td>volkswagen</td>\n",
       "    </tr>\n",
       "    <tr>\n",
       "      <th>16</th>\n",
       "      <td>NaN</td>\n",
       "      <td>polo</td>\n",
       "      <td>volkswagen</td>\n",
       "    </tr>\n",
       "    <tr>\n",
       "      <th>22</th>\n",
       "      <td>NaN</td>\n",
       "      <td>meriva</td>\n",
       "      <td>opel</td>\n",
       "    </tr>\n",
       "    <tr>\n",
       "      <th>26</th>\n",
       "      <td>NaN</td>\n",
       "      <td>c4</td>\n",
       "      <td>citroen</td>\n",
       "    </tr>\n",
       "    <tr>\n",
       "      <th>31</th>\n",
       "      <td>NaN</td>\n",
       "      <td>clio</td>\n",
       "      <td>renault</td>\n",
       "    </tr>\n",
       "    <tr>\n",
       "      <th>...</th>\n",
       "      <td>...</td>\n",
       "      <td>...</td>\n",
       "      <td>...</td>\n",
       "    </tr>\n",
       "    <tr>\n",
       "      <th>353835</th>\n",
       "      <td>NaN</td>\n",
       "      <td>polo</td>\n",
       "      <td>volkswagen</td>\n",
       "    </tr>\n",
       "    <tr>\n",
       "      <th>353866</th>\n",
       "      <td>NaN</td>\n",
       "      <td>outlander</td>\n",
       "      <td>mitsubishi</td>\n",
       "    </tr>\n",
       "    <tr>\n",
       "      <th>353876</th>\n",
       "      <td>NaN</td>\n",
       "      <td>c_klasse</td>\n",
       "      <td>mercedes_benz</td>\n",
       "    </tr>\n",
       "    <tr>\n",
       "      <th>353891</th>\n",
       "      <td>NaN</td>\n",
       "      <td>159</td>\n",
       "      <td>alfa_romeo</td>\n",
       "    </tr>\n",
       "    <tr>\n",
       "      <th>353894</th>\n",
       "      <td>NaN</td>\n",
       "      <td>colt</td>\n",
       "      <td>mitsubishi</td>\n",
       "    </tr>\n",
       "  </tbody>\n",
       "</table>\n",
       "<p>30535 rows × 3 columns</p>\n",
       "</div>"
      ],
      "text/plain": [
       "       vehicletype      model          brand\n",
       "0              NaN       golf     volkswagen\n",
       "16             NaN       polo     volkswagen\n",
       "22             NaN     meriva           opel\n",
       "26             NaN         c4        citroen\n",
       "31             NaN       clio        renault\n",
       "...            ...        ...            ...\n",
       "353835         NaN       polo     volkswagen\n",
       "353866         NaN  outlander     mitsubishi\n",
       "353876         NaN   c_klasse  mercedes_benz\n",
       "353891         NaN        159     alfa_romeo\n",
       "353894         NaN       colt     mitsubishi\n",
       "\n",
       "[30535 rows x 3 columns]"
      ]
     },
     "execution_count": 23,
     "metadata": {},
     "output_type": "execute_result"
    }
   ],
   "source": [
    "df[df['vehicletype'].isna() &\n",
    "   ~df['model'].isna() & ~df['brand'].isna() ][['vehicletype','model','brand']]"
   ]
  },
  {
   "cell_type": "markdown",
   "metadata": {},
   "source": [
    "Есть потенциальная возможность заполнить очень большое число пропусков vehicletype.  \n",
    "Для этого, как вариант, можно в интернете найти сайт с тех. информацией для разных автомобилей и сделать парсинг.  \n",
    "В данном проекте мы не будем производить парсинг, а заполним лишь несколько значений по информации, взятой из интернете вручную, чтобы показать алгоритм"
   ]
  },
  {
   "cell_type": "markdown",
   "metadata": {},
   "source": [
    "Создадим таблицу всех возможных комбинаций 'brand', 'model', по которым можем восстановить 'vehicletype'"
   ]
  },
  {
   "cell_type": "code",
   "execution_count": 24,
   "metadata": {},
   "outputs": [
    {
     "data": {
      "text/html": [
       "<div>\n",
       "<style scoped>\n",
       "    .dataframe tbody tr th:only-of-type {\n",
       "        vertical-align: middle;\n",
       "    }\n",
       "\n",
       "    .dataframe tbody tr th {\n",
       "        vertical-align: top;\n",
       "    }\n",
       "\n",
       "    .dataframe thead th {\n",
       "        text-align: right;\n",
       "    }\n",
       "</style>\n",
       "<table border=\"1\" class=\"dataframe\">\n",
       "  <thead>\n",
       "    <tr style=\"text-align: right;\">\n",
       "      <th></th>\n",
       "      <th>brand</th>\n",
       "      <th>model</th>\n",
       "      <th>vehicletype</th>\n",
       "    </tr>\n",
       "  </thead>\n",
       "  <tbody>\n",
       "    <tr>\n",
       "      <th>0</th>\n",
       "      <td>alfa_romeo</td>\n",
       "      <td>147</td>\n",
       "      <td>NaN</td>\n",
       "    </tr>\n",
       "    <tr>\n",
       "      <th>1</th>\n",
       "      <td>alfa_romeo</td>\n",
       "      <td>159</td>\n",
       "      <td>NaN</td>\n",
       "    </tr>\n",
       "    <tr>\n",
       "      <th>2</th>\n",
       "      <td>alfa_romeo</td>\n",
       "      <td>spider</td>\n",
       "      <td>NaN</td>\n",
       "    </tr>\n",
       "    <tr>\n",
       "      <th>3</th>\n",
       "      <td>alfa_romeo</td>\n",
       "      <td>145</td>\n",
       "      <td>NaN</td>\n",
       "    </tr>\n",
       "    <tr>\n",
       "      <th>4</th>\n",
       "      <td>alfa_romeo</td>\n",
       "      <td>156</td>\n",
       "      <td>NaN</td>\n",
       "    </tr>\n",
       "    <tr>\n",
       "      <th>...</th>\n",
       "      <td>...</td>\n",
       "      <td>...</td>\n",
       "      <td>...</td>\n",
       "    </tr>\n",
       "    <tr>\n",
       "      <th>278</th>\n",
       "      <td>volvo</td>\n",
       "      <td>v60</td>\n",
       "      <td>NaN</td>\n",
       "    </tr>\n",
       "    <tr>\n",
       "      <th>279</th>\n",
       "      <td>volvo</td>\n",
       "      <td>s60</td>\n",
       "      <td>NaN</td>\n",
       "    </tr>\n",
       "    <tr>\n",
       "      <th>280</th>\n",
       "      <td>volvo</td>\n",
       "      <td>other</td>\n",
       "      <td>NaN</td>\n",
       "    </tr>\n",
       "    <tr>\n",
       "      <th>281</th>\n",
       "      <td>volvo</td>\n",
       "      <td>v50</td>\n",
       "      <td>NaN</td>\n",
       "    </tr>\n",
       "    <tr>\n",
       "      <th>282</th>\n",
       "      <td>volvo</td>\n",
       "      <td>v40</td>\n",
       "      <td>NaN</td>\n",
       "    </tr>\n",
       "  </tbody>\n",
       "</table>\n",
       "<p>283 rows × 3 columns</p>\n",
       "</div>"
      ],
      "text/plain": [
       "          brand   model vehicletype\n",
       "0    alfa_romeo     147         NaN\n",
       "1    alfa_romeo     159         NaN\n",
       "2    alfa_romeo  spider         NaN\n",
       "3    alfa_romeo     145         NaN\n",
       "4    alfa_romeo     156         NaN\n",
       "..          ...     ...         ...\n",
       "278       volvo     v60         NaN\n",
       "279       volvo     s60         NaN\n",
       "280       volvo   other         NaN\n",
       "281       volvo     v50         NaN\n",
       "282       volvo     v40         NaN\n",
       "\n",
       "[283 rows x 3 columns]"
      ]
     },
     "execution_count": 24,
     "metadata": {},
     "output_type": "execute_result"
    }
   ],
   "source": [
    "df_brand_model = df[\n",
    "    df['vehicletype'].isna() & ~df['model'].isna() & ~df['brand'].isna()][['brand', 'model', 'vehicletype']].drop_duplicates()\n",
    "df_brand_model.sort_values('brand', inplace=True, ignore_index=True)\n",
    "df_brand_model"
   ]
  },
  {
   "cell_type": "markdown",
   "metadata": {},
   "source": [
    "Заполняем пропуски  vehicletype в данной таблице частично - в ручную найденными в интернете данными (в идеале можно сделать парсинг и заполнить  все пропуски).  \n",
    "P.S.\n",
    "При оценке варианта с парсингом установлено:\n",
    "- в данном датасете есть не все возможные типы 'vehicletype', например отсутсвует очень популярный hutchbak. Стоит обсудить это с источником данных  \n",
    "- для некоторых комбинаций brand и model возможны разные варианты 'vehicletype'.    \n",
    "Поэтому в процессе заполнения пропусков необходимо консультироваться со специалистами по продукту (по автомобилям)"
   ]
  },
  {
   "cell_type": "code",
   "execution_count": 25,
   "metadata": {},
   "outputs": [],
   "source": [
    "# Ручное заполнение\n",
    "df_brand_model.loc[(df_brand_model['brand'] == 'lada') \n",
    "        & (df_brand_model['model'].isin(['niva'])),'vehicletype'] = 'suv'\n",
    "\n",
    "df_brand_model.loc[(df_brand_model['brand'] == 'bmw') \n",
    "        & (df_brand_model['model'].isin(['5er','7er'])),'vehicletype'] = 'sedan'\n",
    "\n",
    "df_brand_model.loc[(df_brand_model['brand'] == 'toyota') \n",
    "        & (df_brand_model['model'].isin(['rav'])),'vehicletype'] = 'suv'\n",
    "\n",
    "df_brand_model.loc[(df_brand_model['brand'] == 'toyota') \n",
    "        & (df_brand_model['model'].isin(['corolla', 'avensis'])),'vehicletype'] = 'sedan'"
   ]
  },
  {
   "cell_type": "markdown",
   "metadata": {},
   "source": [
    "Выделим в отбельную таблицу найденные значения"
   ]
  },
  {
   "cell_type": "code",
   "execution_count": 26,
   "metadata": {},
   "outputs": [
    {
     "data": {
      "text/html": [
       "<div>\n",
       "<style scoped>\n",
       "    .dataframe tbody tr th:only-of-type {\n",
       "        vertical-align: middle;\n",
       "    }\n",
       "\n",
       "    .dataframe tbody tr th {\n",
       "        vertical-align: top;\n",
       "    }\n",
       "\n",
       "    .dataframe thead th {\n",
       "        text-align: right;\n",
       "    }\n",
       "</style>\n",
       "<table border=\"1\" class=\"dataframe\">\n",
       "  <thead>\n",
       "    <tr style=\"text-align: right;\">\n",
       "      <th></th>\n",
       "      <th>brand</th>\n",
       "      <th>model</th>\n",
       "      <th>vehicletype</th>\n",
       "    </tr>\n",
       "  </thead>\n",
       "  <tbody>\n",
       "    <tr>\n",
       "      <th>0</th>\n",
       "      <td>bmw</td>\n",
       "      <td>7er</td>\n",
       "      <td>sedan</td>\n",
       "    </tr>\n",
       "    <tr>\n",
       "      <th>1</th>\n",
       "      <td>bmw</td>\n",
       "      <td>5er</td>\n",
       "      <td>sedan</td>\n",
       "    </tr>\n",
       "    <tr>\n",
       "      <th>2</th>\n",
       "      <td>lada</td>\n",
       "      <td>niva</td>\n",
       "      <td>suv</td>\n",
       "    </tr>\n",
       "    <tr>\n",
       "      <th>3</th>\n",
       "      <td>toyota</td>\n",
       "      <td>rav</td>\n",
       "      <td>suv</td>\n",
       "    </tr>\n",
       "    <tr>\n",
       "      <th>4</th>\n",
       "      <td>toyota</td>\n",
       "      <td>corolla</td>\n",
       "      <td>sedan</td>\n",
       "    </tr>\n",
       "    <tr>\n",
       "      <th>5</th>\n",
       "      <td>toyota</td>\n",
       "      <td>avensis</td>\n",
       "      <td>sedan</td>\n",
       "    </tr>\n",
       "  </tbody>\n",
       "</table>\n",
       "</div>"
      ],
      "text/plain": [
       "    brand    model vehicletype\n",
       "0     bmw      7er       sedan\n",
       "1     bmw      5er       sedan\n",
       "2    lada     niva         suv\n",
       "3  toyota      rav         suv\n",
       "4  toyota  corolla       sedan\n",
       "5  toyota  avensis       sedan"
      ]
     },
     "execution_count": 26,
     "metadata": {},
     "output_type": "execute_result"
    }
   ],
   "source": [
    "df_brand_model_filled = df_brand_model.dropna()\n",
    "df_brand_model_filled.reset_index(drop=True, inplace=True)\n",
    "df_brand_model_filled"
   ]
  },
  {
   "cell_type": "markdown",
   "metadata": {},
   "source": [
    "Восстановили вручную 6 \"вариантов\" пропуска vehicletype.  \n",
    "Теперь занесем эти значения в наш исходный датасет.  \n",
    "Используем для этого метод merge"
   ]
  },
  {
   "cell_type": "code",
   "execution_count": 27,
   "metadata": {},
   "outputs": [
    {
     "data": {
      "text/html": [
       "<div>\n",
       "<style scoped>\n",
       "    .dataframe tbody tr th:only-of-type {\n",
       "        vertical-align: middle;\n",
       "    }\n",
       "\n",
       "    .dataframe tbody tr th {\n",
       "        vertical-align: top;\n",
       "    }\n",
       "\n",
       "    .dataframe thead th {\n",
       "        text-align: right;\n",
       "    }\n",
       "</style>\n",
       "<table border=\"1\" class=\"dataframe\">\n",
       "  <thead>\n",
       "    <tr style=\"text-align: right;\">\n",
       "      <th></th>\n",
       "      <th>price</th>\n",
       "      <th>vehicletype_x</th>\n",
       "      <th>registrationyear</th>\n",
       "      <th>gearbox</th>\n",
       "      <th>power</th>\n",
       "      <th>model</th>\n",
       "      <th>kilometer</th>\n",
       "      <th>fueltype</th>\n",
       "      <th>brand</th>\n",
       "      <th>notrepaired</th>\n",
       "      <th>vehicletype_y</th>\n",
       "    </tr>\n",
       "  </thead>\n",
       "  <tbody>\n",
       "    <tr>\n",
       "      <th>0</th>\n",
       "      <td>480</td>\n",
       "      <td>NaN</td>\n",
       "      <td>1993</td>\n",
       "      <td>manual</td>\n",
       "      <td>105</td>\n",
       "      <td>golf</td>\n",
       "      <td>150000</td>\n",
       "      <td>petrol</td>\n",
       "      <td>volkswagen</td>\n",
       "      <td>NaN</td>\n",
       "      <td>NaN</td>\n",
       "    </tr>\n",
       "    <tr>\n",
       "      <th>1</th>\n",
       "      <td>18300</td>\n",
       "      <td>coupe</td>\n",
       "      <td>2011</td>\n",
       "      <td>manual</td>\n",
       "      <td>190</td>\n",
       "      <td>NaN</td>\n",
       "      <td>125000</td>\n",
       "      <td>gasoline</td>\n",
       "      <td>audi</td>\n",
       "      <td>yes</td>\n",
       "      <td>NaN</td>\n",
       "    </tr>\n",
       "    <tr>\n",
       "      <th>2</th>\n",
       "      <td>9800</td>\n",
       "      <td>suv</td>\n",
       "      <td>2004</td>\n",
       "      <td>auto</td>\n",
       "      <td>163</td>\n",
       "      <td>grand</td>\n",
       "      <td>125000</td>\n",
       "      <td>gasoline</td>\n",
       "      <td>jeep</td>\n",
       "      <td>NaN</td>\n",
       "      <td>NaN</td>\n",
       "    </tr>\n",
       "    <tr>\n",
       "      <th>3</th>\n",
       "      <td>1500</td>\n",
       "      <td>small</td>\n",
       "      <td>2001</td>\n",
       "      <td>manual</td>\n",
       "      <td>75</td>\n",
       "      <td>golf</td>\n",
       "      <td>150000</td>\n",
       "      <td>petrol</td>\n",
       "      <td>volkswagen</td>\n",
       "      <td>no</td>\n",
       "      <td>NaN</td>\n",
       "    </tr>\n",
       "    <tr>\n",
       "      <th>4</th>\n",
       "      <td>3600</td>\n",
       "      <td>small</td>\n",
       "      <td>2008</td>\n",
       "      <td>manual</td>\n",
       "      <td>69</td>\n",
       "      <td>fabia</td>\n",
       "      <td>90000</td>\n",
       "      <td>gasoline</td>\n",
       "      <td>skoda</td>\n",
       "      <td>no</td>\n",
       "      <td>NaN</td>\n",
       "    </tr>\n",
       "    <tr>\n",
       "      <th>...</th>\n",
       "      <td>...</td>\n",
       "      <td>...</td>\n",
       "      <td>...</td>\n",
       "      <td>...</td>\n",
       "      <td>...</td>\n",
       "      <td>...</td>\n",
       "      <td>...</td>\n",
       "      <td>...</td>\n",
       "      <td>...</td>\n",
       "      <td>...</td>\n",
       "      <td>...</td>\n",
       "    </tr>\n",
       "    <tr>\n",
       "      <th>353894</th>\n",
       "      <td>0</td>\n",
       "      <td>NaN</td>\n",
       "      <td>2005</td>\n",
       "      <td>manual</td>\n",
       "      <td>105</td>\n",
       "      <td>colt</td>\n",
       "      <td>150000</td>\n",
       "      <td>petrol</td>\n",
       "      <td>mitsubishi</td>\n",
       "      <td>yes</td>\n",
       "      <td>NaN</td>\n",
       "    </tr>\n",
       "    <tr>\n",
       "      <th>353895</th>\n",
       "      <td>2200</td>\n",
       "      <td>NaN</td>\n",
       "      <td>2005</td>\n",
       "      <td>NaN</td>\n",
       "      <td>105</td>\n",
       "      <td>NaN</td>\n",
       "      <td>20000</td>\n",
       "      <td>NaN</td>\n",
       "      <td>sonstige_autos</td>\n",
       "      <td>NaN</td>\n",
       "      <td>NaN</td>\n",
       "    </tr>\n",
       "    <tr>\n",
       "      <th>353896</th>\n",
       "      <td>1199</td>\n",
       "      <td>convertible</td>\n",
       "      <td>2000</td>\n",
       "      <td>auto</td>\n",
       "      <td>101</td>\n",
       "      <td>fortwo</td>\n",
       "      <td>125000</td>\n",
       "      <td>petrol</td>\n",
       "      <td>smart</td>\n",
       "      <td>no</td>\n",
       "      <td>NaN</td>\n",
       "    </tr>\n",
       "    <tr>\n",
       "      <th>353897</th>\n",
       "      <td>9200</td>\n",
       "      <td>bus</td>\n",
       "      <td>1996</td>\n",
       "      <td>manual</td>\n",
       "      <td>102</td>\n",
       "      <td>transporter</td>\n",
       "      <td>150000</td>\n",
       "      <td>gasoline</td>\n",
       "      <td>volkswagen</td>\n",
       "      <td>no</td>\n",
       "      <td>NaN</td>\n",
       "    </tr>\n",
       "    <tr>\n",
       "      <th>353898</th>\n",
       "      <td>3400</td>\n",
       "      <td>wagon</td>\n",
       "      <td>2002</td>\n",
       "      <td>manual</td>\n",
       "      <td>100</td>\n",
       "      <td>golf</td>\n",
       "      <td>150000</td>\n",
       "      <td>gasoline</td>\n",
       "      <td>volkswagen</td>\n",
       "      <td>NaN</td>\n",
       "      <td>NaN</td>\n",
       "    </tr>\n",
       "  </tbody>\n",
       "</table>\n",
       "<p>353899 rows × 11 columns</p>\n",
       "</div>"
      ],
      "text/plain": [
       "        price vehicletype_x  registrationyear gearbox  power        model  \\\n",
       "0         480           NaN              1993  manual    105         golf   \n",
       "1       18300         coupe              2011  manual    190          NaN   \n",
       "2        9800           suv              2004    auto    163        grand   \n",
       "3        1500         small              2001  manual     75         golf   \n",
       "4        3600         small              2008  manual     69        fabia   \n",
       "...       ...           ...               ...     ...    ...          ...   \n",
       "353894      0           NaN              2005  manual    105         colt   \n",
       "353895   2200           NaN              2005     NaN    105          NaN   \n",
       "353896   1199   convertible              2000    auto    101       fortwo   \n",
       "353897   9200           bus              1996  manual    102  transporter   \n",
       "353898   3400         wagon              2002  manual    100         golf   \n",
       "\n",
       "        kilometer  fueltype           brand notrepaired vehicletype_y  \n",
       "0          150000    petrol      volkswagen         NaN           NaN  \n",
       "1          125000  gasoline            audi         yes           NaN  \n",
       "2          125000  gasoline            jeep         NaN           NaN  \n",
       "3          150000    petrol      volkswagen          no           NaN  \n",
       "4           90000  gasoline           skoda          no           NaN  \n",
       "...           ...       ...             ...         ...           ...  \n",
       "353894     150000    petrol      mitsubishi         yes           NaN  \n",
       "353895      20000       NaN  sonstige_autos         NaN           NaN  \n",
       "353896     125000    petrol           smart          no           NaN  \n",
       "353897     150000  gasoline      volkswagen          no           NaN  \n",
       "353898     150000  gasoline      volkswagen         NaN           NaN  \n",
       "\n",
       "[353899 rows x 11 columns]"
      ]
     },
     "execution_count": 27,
     "metadata": {},
     "output_type": "execute_result"
    }
   ],
   "source": [
    "df = df.merge(df_brand_model_filled, how='left', on = ['brand','model'])\n",
    "df"
   ]
  },
  {
   "cell_type": "markdown",
   "metadata": {},
   "source": [
    "Теперь у нас есть:\n",
    "- столбец vehicletype_x - там исходные значения датасета;\n",
    "- столбец vehicletype_y - там найденные нами значения, взятые из датасета df_brand_model_filled + все остальные значения заполненные NaN-ами.  \n",
    "  \n",
    "Можем посмотреть - сколько в принципе пропусков мы заполним: "
   ]
  },
  {
   "cell_type": "code",
   "execution_count": 28,
   "metadata": {},
   "outputs": [
    {
     "data": {
      "text/html": [
       "<div>\n",
       "<style scoped>\n",
       "    .dataframe tbody tr th:only-of-type {\n",
       "        vertical-align: middle;\n",
       "    }\n",
       "\n",
       "    .dataframe tbody tr th {\n",
       "        vertical-align: top;\n",
       "    }\n",
       "\n",
       "    .dataframe thead th {\n",
       "        text-align: right;\n",
       "    }\n",
       "</style>\n",
       "<table border=\"1\" class=\"dataframe\">\n",
       "  <thead>\n",
       "    <tr style=\"text-align: right;\">\n",
       "      <th></th>\n",
       "      <th>price</th>\n",
       "      <th>vehicletype_x</th>\n",
       "      <th>registrationyear</th>\n",
       "      <th>gearbox</th>\n",
       "      <th>power</th>\n",
       "      <th>model</th>\n",
       "      <th>kilometer</th>\n",
       "      <th>fueltype</th>\n",
       "      <th>brand</th>\n",
       "      <th>notrepaired</th>\n",
       "      <th>vehicletype_y</th>\n",
       "    </tr>\n",
       "  </thead>\n",
       "  <tbody>\n",
       "    <tr>\n",
       "      <th>71</th>\n",
       "      <td>2300</td>\n",
       "      <td>NaN</td>\n",
       "      <td>1997</td>\n",
       "      <td>manual</td>\n",
       "      <td>150</td>\n",
       "      <td>5er</td>\n",
       "      <td>150000</td>\n",
       "      <td>NaN</td>\n",
       "      <td>bmw</td>\n",
       "      <td>no</td>\n",
       "      <td>sedan</td>\n",
       "    </tr>\n",
       "    <tr>\n",
       "      <th>1527</th>\n",
       "      <td>2200</td>\n",
       "      <td>NaN</td>\n",
       "      <td>2016</td>\n",
       "      <td>auto</td>\n",
       "      <td>105</td>\n",
       "      <td>5er</td>\n",
       "      <td>150000</td>\n",
       "      <td>petrol</td>\n",
       "      <td>bmw</td>\n",
       "      <td>no</td>\n",
       "      <td>sedan</td>\n",
       "    </tr>\n",
       "    <tr>\n",
       "      <th>2403</th>\n",
       "      <td>13500</td>\n",
       "      <td>NaN</td>\n",
       "      <td>2006</td>\n",
       "      <td>auto</td>\n",
       "      <td>396</td>\n",
       "      <td>5er</td>\n",
       "      <td>150000</td>\n",
       "      <td>NaN</td>\n",
       "      <td>bmw</td>\n",
       "      <td>NaN</td>\n",
       "      <td>sedan</td>\n",
       "    </tr>\n",
       "    <tr>\n",
       "      <th>3271</th>\n",
       "      <td>12</td>\n",
       "      <td>NaN</td>\n",
       "      <td>2015</td>\n",
       "      <td>NaN</td>\n",
       "      <td>105</td>\n",
       "      <td>5er</td>\n",
       "      <td>5000</td>\n",
       "      <td>NaN</td>\n",
       "      <td>bmw</td>\n",
       "      <td>NaN</td>\n",
       "      <td>sedan</td>\n",
       "    </tr>\n",
       "    <tr>\n",
       "      <th>3810</th>\n",
       "      <td>3800</td>\n",
       "      <td>NaN</td>\n",
       "      <td>2016</td>\n",
       "      <td>manual</td>\n",
       "      <td>110</td>\n",
       "      <td>avensis</td>\n",
       "      <td>150000</td>\n",
       "      <td>petrol</td>\n",
       "      <td>toyota</td>\n",
       "      <td>no</td>\n",
       "      <td>sedan</td>\n",
       "    </tr>\n",
       "    <tr>\n",
       "      <th>...</th>\n",
       "      <td>...</td>\n",
       "      <td>...</td>\n",
       "      <td>...</td>\n",
       "      <td>...</td>\n",
       "      <td>...</td>\n",
       "      <td>...</td>\n",
       "      <td>...</td>\n",
       "      <td>...</td>\n",
       "      <td>...</td>\n",
       "      <td>...</td>\n",
       "      <td>...</td>\n",
       "    </tr>\n",
       "    <tr>\n",
       "      <th>350739</th>\n",
       "      <td>3450</td>\n",
       "      <td>NaN</td>\n",
       "      <td>2017</td>\n",
       "      <td>auto</td>\n",
       "      <td>193</td>\n",
       "      <td>5er</td>\n",
       "      <td>150000</td>\n",
       "      <td>lpg</td>\n",
       "      <td>bmw</td>\n",
       "      <td>yes</td>\n",
       "      <td>sedan</td>\n",
       "    </tr>\n",
       "    <tr>\n",
       "      <th>351573</th>\n",
       "      <td>7000</td>\n",
       "      <td>NaN</td>\n",
       "      <td>2003</td>\n",
       "      <td>manual</td>\n",
       "      <td>170</td>\n",
       "      <td>5er</td>\n",
       "      <td>150000</td>\n",
       "      <td>petrol</td>\n",
       "      <td>bmw</td>\n",
       "      <td>no</td>\n",
       "      <td>sedan</td>\n",
       "    </tr>\n",
       "    <tr>\n",
       "      <th>352520</th>\n",
       "      <td>1290</td>\n",
       "      <td>NaN</td>\n",
       "      <td>2017</td>\n",
       "      <td>auto</td>\n",
       "      <td>170</td>\n",
       "      <td>5er</td>\n",
       "      <td>125000</td>\n",
       "      <td>petrol</td>\n",
       "      <td>bmw</td>\n",
       "      <td>no</td>\n",
       "      <td>sedan</td>\n",
       "    </tr>\n",
       "    <tr>\n",
       "      <th>352747</th>\n",
       "      <td>1200</td>\n",
       "      <td>NaN</td>\n",
       "      <td>2016</td>\n",
       "      <td>manual</td>\n",
       "      <td>140</td>\n",
       "      <td>5er</td>\n",
       "      <td>150000</td>\n",
       "      <td>petrol</td>\n",
       "      <td>bmw</td>\n",
       "      <td>no</td>\n",
       "      <td>sedan</td>\n",
       "    </tr>\n",
       "    <tr>\n",
       "      <th>353367</th>\n",
       "      <td>6666</td>\n",
       "      <td>NaN</td>\n",
       "      <td>2005</td>\n",
       "      <td>auto</td>\n",
       "      <td>170</td>\n",
       "      <td>5er</td>\n",
       "      <td>150000</td>\n",
       "      <td>NaN</td>\n",
       "      <td>bmw</td>\n",
       "      <td>no</td>\n",
       "      <td>sedan</td>\n",
       "    </tr>\n",
       "  </tbody>\n",
       "</table>\n",
       "<p>532 rows × 11 columns</p>\n",
       "</div>"
      ],
      "text/plain": [
       "        price vehicletype_x  registrationyear gearbox  power    model  \\\n",
       "71       2300           NaN              1997  manual    150      5er   \n",
       "1527     2200           NaN              2016    auto    105      5er   \n",
       "2403    13500           NaN              2006    auto    396      5er   \n",
       "3271       12           NaN              2015     NaN    105      5er   \n",
       "3810     3800           NaN              2016  manual    110  avensis   \n",
       "...       ...           ...               ...     ...    ...      ...   \n",
       "350739   3450           NaN              2017    auto    193      5er   \n",
       "351573   7000           NaN              2003  manual    170      5er   \n",
       "352520   1290           NaN              2017    auto    170      5er   \n",
       "352747   1200           NaN              2016  manual    140      5er   \n",
       "353367   6666           NaN              2005    auto    170      5er   \n",
       "\n",
       "        kilometer fueltype   brand notrepaired vehicletype_y  \n",
       "71         150000      NaN     bmw          no         sedan  \n",
       "1527       150000   petrol     bmw          no         sedan  \n",
       "2403       150000      NaN     bmw         NaN         sedan  \n",
       "3271         5000      NaN     bmw         NaN         sedan  \n",
       "3810       150000   petrol  toyota          no         sedan  \n",
       "...           ...      ...     ...         ...           ...  \n",
       "350739     150000      lpg     bmw         yes         sedan  \n",
       "351573     150000   petrol     bmw          no         sedan  \n",
       "352520     125000   petrol     bmw          no         sedan  \n",
       "352747     150000   petrol     bmw          no         sedan  \n",
       "353367     150000      NaN     bmw          no         sedan  \n",
       "\n",
       "[532 rows x 11 columns]"
      ]
     },
     "execution_count": 28,
     "metadata": {},
     "output_type": "execute_result"
    }
   ],
   "source": [
    "df.loc[df['vehicletype_x'].isna() & ~df['vehicletype_y'].isna()]"
   ]
  },
  {
   "cell_type": "markdown",
   "metadata": {},
   "source": [
    "Благодаря 6 полученным вручную значениям vehicletype мы смогли заполнить 535 пропусков - неплохой результат.  \n",
    "Производим заполнение:"
   ]
  },
  {
   "cell_type": "code",
   "execution_count": 29,
   "metadata": {},
   "outputs": [],
   "source": [
    "df.loc[\n",
    "    df['vehicletype_x'].isna() & ~df['vehicletype_y'].isna(), 'vehicletype_x'] = df.loc[\n",
    "    df['vehicletype_x'].isna() & ~df['vehicletype_y'].isna(), 'vehicletype_y']"
   ]
  },
  {
   "cell_type": "code",
   "execution_count": 30,
   "metadata": {},
   "outputs": [
    {
     "data": {
      "text/html": [
       "<div>\n",
       "<style scoped>\n",
       "    .dataframe tbody tr th:only-of-type {\n",
       "        vertical-align: middle;\n",
       "    }\n",
       "\n",
       "    .dataframe tbody tr th {\n",
       "        vertical-align: top;\n",
       "    }\n",
       "\n",
       "    .dataframe thead th {\n",
       "        text-align: right;\n",
       "    }\n",
       "</style>\n",
       "<table border=\"1\" class=\"dataframe\">\n",
       "  <thead>\n",
       "    <tr style=\"text-align: right;\">\n",
       "      <th></th>\n",
       "      <th>price</th>\n",
       "      <th>vehicletype_x</th>\n",
       "      <th>registrationyear</th>\n",
       "      <th>gearbox</th>\n",
       "      <th>power</th>\n",
       "      <th>model</th>\n",
       "      <th>kilometer</th>\n",
       "      <th>fueltype</th>\n",
       "      <th>brand</th>\n",
       "      <th>notrepaired</th>\n",
       "      <th>vehicletype_y</th>\n",
       "    </tr>\n",
       "  </thead>\n",
       "  <tbody>\n",
       "  </tbody>\n",
       "</table>\n",
       "</div>"
      ],
      "text/plain": [
       "Empty DataFrame\n",
       "Columns: [price, vehicletype_x, registrationyear, gearbox, power, model, kilometer, fueltype, brand, notrepaired, vehicletype_y]\n",
       "Index: []"
      ]
     },
     "execution_count": 30,
     "metadata": {},
     "output_type": "execute_result"
    }
   ],
   "source": [
    "# Проверяем, что заполнение прошло успешно\n",
    "df.loc[df['vehicletype_x'].isna() & ~df['vehicletype_y'].isna()]"
   ]
  },
  {
   "cell_type": "markdown",
   "metadata": {},
   "source": [
    "Теперь удаляем ненужный столбец vehicletype_y и переименовываем vehicletype_x обратно в vehicletype"
   ]
  },
  {
   "cell_type": "code",
   "execution_count": 31,
   "metadata": {},
   "outputs": [
    {
     "data": {
      "text/html": [
       "<div>\n",
       "<style scoped>\n",
       "    .dataframe tbody tr th:only-of-type {\n",
       "        vertical-align: middle;\n",
       "    }\n",
       "\n",
       "    .dataframe tbody tr th {\n",
       "        vertical-align: top;\n",
       "    }\n",
       "\n",
       "    .dataframe thead th {\n",
       "        text-align: right;\n",
       "    }\n",
       "</style>\n",
       "<table border=\"1\" class=\"dataframe\">\n",
       "  <thead>\n",
       "    <tr style=\"text-align: right;\">\n",
       "      <th></th>\n",
       "      <th>price</th>\n",
       "      <th>vehicletype</th>\n",
       "      <th>registrationyear</th>\n",
       "      <th>gearbox</th>\n",
       "      <th>power</th>\n",
       "      <th>model</th>\n",
       "      <th>kilometer</th>\n",
       "      <th>fueltype</th>\n",
       "      <th>brand</th>\n",
       "      <th>notrepaired</th>\n",
       "    </tr>\n",
       "  </thead>\n",
       "  <tbody>\n",
       "    <tr>\n",
       "      <th>0</th>\n",
       "      <td>480</td>\n",
       "      <td>NaN</td>\n",
       "      <td>1993</td>\n",
       "      <td>manual</td>\n",
       "      <td>105</td>\n",
       "      <td>golf</td>\n",
       "      <td>150000</td>\n",
       "      <td>petrol</td>\n",
       "      <td>volkswagen</td>\n",
       "      <td>NaN</td>\n",
       "    </tr>\n",
       "    <tr>\n",
       "      <th>1</th>\n",
       "      <td>18300</td>\n",
       "      <td>coupe</td>\n",
       "      <td>2011</td>\n",
       "      <td>manual</td>\n",
       "      <td>190</td>\n",
       "      <td>NaN</td>\n",
       "      <td>125000</td>\n",
       "      <td>gasoline</td>\n",
       "      <td>audi</td>\n",
       "      <td>yes</td>\n",
       "    </tr>\n",
       "    <tr>\n",
       "      <th>2</th>\n",
       "      <td>9800</td>\n",
       "      <td>suv</td>\n",
       "      <td>2004</td>\n",
       "      <td>auto</td>\n",
       "      <td>163</td>\n",
       "      <td>grand</td>\n",
       "      <td>125000</td>\n",
       "      <td>gasoline</td>\n",
       "      <td>jeep</td>\n",
       "      <td>NaN</td>\n",
       "    </tr>\n",
       "    <tr>\n",
       "      <th>3</th>\n",
       "      <td>1500</td>\n",
       "      <td>small</td>\n",
       "      <td>2001</td>\n",
       "      <td>manual</td>\n",
       "      <td>75</td>\n",
       "      <td>golf</td>\n",
       "      <td>150000</td>\n",
       "      <td>petrol</td>\n",
       "      <td>volkswagen</td>\n",
       "      <td>no</td>\n",
       "    </tr>\n",
       "    <tr>\n",
       "      <th>4</th>\n",
       "      <td>3600</td>\n",
       "      <td>small</td>\n",
       "      <td>2008</td>\n",
       "      <td>manual</td>\n",
       "      <td>69</td>\n",
       "      <td>fabia</td>\n",
       "      <td>90000</td>\n",
       "      <td>gasoline</td>\n",
       "      <td>skoda</td>\n",
       "      <td>no</td>\n",
       "    </tr>\n",
       "    <tr>\n",
       "      <th>...</th>\n",
       "      <td>...</td>\n",
       "      <td>...</td>\n",
       "      <td>...</td>\n",
       "      <td>...</td>\n",
       "      <td>...</td>\n",
       "      <td>...</td>\n",
       "      <td>...</td>\n",
       "      <td>...</td>\n",
       "      <td>...</td>\n",
       "      <td>...</td>\n",
       "    </tr>\n",
       "    <tr>\n",
       "      <th>353894</th>\n",
       "      <td>0</td>\n",
       "      <td>NaN</td>\n",
       "      <td>2005</td>\n",
       "      <td>manual</td>\n",
       "      <td>105</td>\n",
       "      <td>colt</td>\n",
       "      <td>150000</td>\n",
       "      <td>petrol</td>\n",
       "      <td>mitsubishi</td>\n",
       "      <td>yes</td>\n",
       "    </tr>\n",
       "    <tr>\n",
       "      <th>353895</th>\n",
       "      <td>2200</td>\n",
       "      <td>NaN</td>\n",
       "      <td>2005</td>\n",
       "      <td>NaN</td>\n",
       "      <td>105</td>\n",
       "      <td>NaN</td>\n",
       "      <td>20000</td>\n",
       "      <td>NaN</td>\n",
       "      <td>sonstige_autos</td>\n",
       "      <td>NaN</td>\n",
       "    </tr>\n",
       "    <tr>\n",
       "      <th>353896</th>\n",
       "      <td>1199</td>\n",
       "      <td>convertible</td>\n",
       "      <td>2000</td>\n",
       "      <td>auto</td>\n",
       "      <td>101</td>\n",
       "      <td>fortwo</td>\n",
       "      <td>125000</td>\n",
       "      <td>petrol</td>\n",
       "      <td>smart</td>\n",
       "      <td>no</td>\n",
       "    </tr>\n",
       "    <tr>\n",
       "      <th>353897</th>\n",
       "      <td>9200</td>\n",
       "      <td>bus</td>\n",
       "      <td>1996</td>\n",
       "      <td>manual</td>\n",
       "      <td>102</td>\n",
       "      <td>transporter</td>\n",
       "      <td>150000</td>\n",
       "      <td>gasoline</td>\n",
       "      <td>volkswagen</td>\n",
       "      <td>no</td>\n",
       "    </tr>\n",
       "    <tr>\n",
       "      <th>353898</th>\n",
       "      <td>3400</td>\n",
       "      <td>wagon</td>\n",
       "      <td>2002</td>\n",
       "      <td>manual</td>\n",
       "      <td>100</td>\n",
       "      <td>golf</td>\n",
       "      <td>150000</td>\n",
       "      <td>gasoline</td>\n",
       "      <td>volkswagen</td>\n",
       "      <td>NaN</td>\n",
       "    </tr>\n",
       "  </tbody>\n",
       "</table>\n",
       "<p>353899 rows × 10 columns</p>\n",
       "</div>"
      ],
      "text/plain": [
       "        price  vehicletype  registrationyear gearbox  power        model  \\\n",
       "0         480          NaN              1993  manual    105         golf   \n",
       "1       18300        coupe              2011  manual    190          NaN   \n",
       "2        9800          suv              2004    auto    163        grand   \n",
       "3        1500        small              2001  manual     75         golf   \n",
       "4        3600        small              2008  manual     69        fabia   \n",
       "...       ...          ...               ...     ...    ...          ...   \n",
       "353894      0          NaN              2005  manual    105         colt   \n",
       "353895   2200          NaN              2005     NaN    105          NaN   \n",
       "353896   1199  convertible              2000    auto    101       fortwo   \n",
       "353897   9200          bus              1996  manual    102  transporter   \n",
       "353898   3400        wagon              2002  manual    100         golf   \n",
       "\n",
       "        kilometer  fueltype           brand notrepaired  \n",
       "0          150000    petrol      volkswagen         NaN  \n",
       "1          125000  gasoline            audi         yes  \n",
       "2          125000  gasoline            jeep         NaN  \n",
       "3          150000    petrol      volkswagen          no  \n",
       "4           90000  gasoline           skoda          no  \n",
       "...           ...       ...             ...         ...  \n",
       "353894     150000    petrol      mitsubishi         yes  \n",
       "353895      20000       NaN  sonstige_autos         NaN  \n",
       "353896     125000    petrol           smart          no  \n",
       "353897     150000  gasoline      volkswagen          no  \n",
       "353898     150000  gasoline      volkswagen         NaN  \n",
       "\n",
       "[353899 rows x 10 columns]"
      ]
     },
     "execution_count": 31,
     "metadata": {},
     "output_type": "execute_result"
    }
   ],
   "source": [
    "df.rename(columns = {'vehicletype_x':'vehicletype'}, inplace=True)\n",
    "df.drop(columns = 'vehicletype_y', inplace=True)\n",
    "df"
   ]
  },
  {
   "cell_type": "markdown",
   "metadata": {},
   "source": [
    "На данном этапе заканчиваем обработку пропусков в столбце vehicletype.  Мы показали, как их заполнять. Полное заполнение можно сделать с помощью парсинга. Оставшиеся пропуски обработаем отдельно с следующих пунктах"
   ]
  },
  {
   "cell_type": "markdown",
   "metadata": {},
   "source": [
    "#### 1.1.5.2 По оставшимся пропускам в столбцах 'gearbox', 'model', 'fueltype', 'notrepaired' нет информации как их заполнять.   Вместо их удаления и потери 30% данных закодируем пропуски в отдельные категории и попробуем обучить наши модели на таких данных. См. п. 1.4"
   ]
  },
  {
   "cell_type": "markdown",
   "metadata": {},
   "source": [
    "## 1.2 Отделение целевого признака от остальных признаков"
   ]
  },
  {
   "cell_type": "code",
   "execution_count": 32,
   "metadata": {},
   "outputs": [],
   "source": [
    "X = df.drop(columns = 'price')\n",
    "y = df.price\n",
    "# Удаляем не нужные далее данные\n",
    "del df"
   ]
  },
  {
   "cell_type": "markdown",
   "metadata": {},
   "source": [
    "### Дальше будет следующая последовательность:  \n",
    "1.3 Обработка категориальных признаков, потому что у нас есть категориальный признак model с несколькими сотнями значений. Если сначала сделать разделение на обучающую и тестовую выборки то есть риск что не все варианты model попадут в каждую из выборок.  \n",
    "1.4 Разделение на обучающую и тестовую выборки.  \n",
    "1.5 Нормализация числовых признаках - тут уже нужно отдельно обрабатывать обучающую и тестовую выборки"
   ]
  },
  {
   "cell_type": "markdown",
   "metadata": {},
   "source": [
    "## 1.3 Преобразование категориальных признаков.\n",
    "Одна часть моделей работает с one-hot преобразованными данными.  \n",
    "Модель LGBM работает с OrdinalEncoding - преобразованными данными.   \n",
    "Для модели Catboost также будем использовать уже OrdinalEncoding-преобразованные данные, т.к. в них уже будут предобработаны пропуски NaN, которые catboost не принимает.    "
   ]
  },
  {
   "cell_type": "markdown",
   "metadata": {},
   "source": [
    "Выделим категориальные признаки"
   ]
  },
  {
   "cell_type": "code",
   "execution_count": 33,
   "metadata": {},
   "outputs": [
    {
     "data": {
      "text/plain": [
       "Index(['vehicletype', 'gearbox', 'model', 'fueltype', 'brand', 'notrepaired'], dtype='object')"
      ]
     },
     "execution_count": 33,
     "metadata": {},
     "output_type": "execute_result"
    }
   ],
   "source": [
    "cat_features = X.columns[X.dtypes == 'object']\n",
    "cat_features"
   ]
  },
  {
   "cell_type": "markdown",
   "metadata": {},
   "source": [
    "### 1.3.1  One-hot преобразованные данные:"
   ]
  },
  {
   "cell_type": "code",
   "execution_count": 34,
   "metadata": {
    "scrolled": true
   },
   "outputs": [
    {
     "data": {
      "text/html": [
       "<div>\n",
       "<style scoped>\n",
       "    .dataframe tbody tr th:only-of-type {\n",
       "        vertical-align: middle;\n",
       "    }\n",
       "\n",
       "    .dataframe tbody tr th {\n",
       "        vertical-align: top;\n",
       "    }\n",
       "\n",
       "    .dataframe thead th {\n",
       "        text-align: right;\n",
       "    }\n",
       "</style>\n",
       "<table border=\"1\" class=\"dataframe\">\n",
       "  <thead>\n",
       "    <tr style=\"text-align: right;\">\n",
       "      <th></th>\n",
       "      <th>registrationyear</th>\n",
       "      <th>power</th>\n",
       "      <th>kilometer</th>\n",
       "      <th>vehicletype_convertible</th>\n",
       "      <th>vehicletype_coupe</th>\n",
       "      <th>vehicletype_other</th>\n",
       "      <th>vehicletype_sedan</th>\n",
       "      <th>vehicletype_small</th>\n",
       "      <th>vehicletype_suv</th>\n",
       "      <th>vehicletype_wagon</th>\n",
       "      <th>...</th>\n",
       "      <th>brand_sonstige_autos</th>\n",
       "      <th>brand_subaru</th>\n",
       "      <th>brand_suzuki</th>\n",
       "      <th>brand_toyota</th>\n",
       "      <th>brand_trabant</th>\n",
       "      <th>brand_volkswagen</th>\n",
       "      <th>brand_volvo</th>\n",
       "      <th>brand_nan</th>\n",
       "      <th>notrepaired_yes</th>\n",
       "      <th>notrepaired_nan</th>\n",
       "    </tr>\n",
       "  </thead>\n",
       "  <tbody>\n",
       "    <tr>\n",
       "      <th>0</th>\n",
       "      <td>1993</td>\n",
       "      <td>105</td>\n",
       "      <td>150000</td>\n",
       "      <td>0</td>\n",
       "      <td>0</td>\n",
       "      <td>0</td>\n",
       "      <td>0</td>\n",
       "      <td>0</td>\n",
       "      <td>0</td>\n",
       "      <td>0</td>\n",
       "      <td>...</td>\n",
       "      <td>0</td>\n",
       "      <td>0</td>\n",
       "      <td>0</td>\n",
       "      <td>0</td>\n",
       "      <td>0</td>\n",
       "      <td>1</td>\n",
       "      <td>0</td>\n",
       "      <td>0</td>\n",
       "      <td>0</td>\n",
       "      <td>1</td>\n",
       "    </tr>\n",
       "    <tr>\n",
       "      <th>1</th>\n",
       "      <td>2011</td>\n",
       "      <td>190</td>\n",
       "      <td>125000</td>\n",
       "      <td>0</td>\n",
       "      <td>1</td>\n",
       "      <td>0</td>\n",
       "      <td>0</td>\n",
       "      <td>0</td>\n",
       "      <td>0</td>\n",
       "      <td>0</td>\n",
       "      <td>...</td>\n",
       "      <td>0</td>\n",
       "      <td>0</td>\n",
       "      <td>0</td>\n",
       "      <td>0</td>\n",
       "      <td>0</td>\n",
       "      <td>0</td>\n",
       "      <td>0</td>\n",
       "      <td>0</td>\n",
       "      <td>1</td>\n",
       "      <td>0</td>\n",
       "    </tr>\n",
       "    <tr>\n",
       "      <th>2</th>\n",
       "      <td>2004</td>\n",
       "      <td>163</td>\n",
       "      <td>125000</td>\n",
       "      <td>0</td>\n",
       "      <td>0</td>\n",
       "      <td>0</td>\n",
       "      <td>0</td>\n",
       "      <td>0</td>\n",
       "      <td>1</td>\n",
       "      <td>0</td>\n",
       "      <td>...</td>\n",
       "      <td>0</td>\n",
       "      <td>0</td>\n",
       "      <td>0</td>\n",
       "      <td>0</td>\n",
       "      <td>0</td>\n",
       "      <td>0</td>\n",
       "      <td>0</td>\n",
       "      <td>0</td>\n",
       "      <td>0</td>\n",
       "      <td>1</td>\n",
       "    </tr>\n",
       "    <tr>\n",
       "      <th>3</th>\n",
       "      <td>2001</td>\n",
       "      <td>75</td>\n",
       "      <td>150000</td>\n",
       "      <td>0</td>\n",
       "      <td>0</td>\n",
       "      <td>0</td>\n",
       "      <td>0</td>\n",
       "      <td>1</td>\n",
       "      <td>0</td>\n",
       "      <td>0</td>\n",
       "      <td>...</td>\n",
       "      <td>0</td>\n",
       "      <td>0</td>\n",
       "      <td>0</td>\n",
       "      <td>0</td>\n",
       "      <td>0</td>\n",
       "      <td>1</td>\n",
       "      <td>0</td>\n",
       "      <td>0</td>\n",
       "      <td>0</td>\n",
       "      <td>0</td>\n",
       "    </tr>\n",
       "    <tr>\n",
       "      <th>4</th>\n",
       "      <td>2008</td>\n",
       "      <td>69</td>\n",
       "      <td>90000</td>\n",
       "      <td>0</td>\n",
       "      <td>0</td>\n",
       "      <td>0</td>\n",
       "      <td>0</td>\n",
       "      <td>1</td>\n",
       "      <td>0</td>\n",
       "      <td>0</td>\n",
       "      <td>...</td>\n",
       "      <td>0</td>\n",
       "      <td>0</td>\n",
       "      <td>0</td>\n",
       "      <td>0</td>\n",
       "      <td>0</td>\n",
       "      <td>0</td>\n",
       "      <td>0</td>\n",
       "      <td>0</td>\n",
       "      <td>0</td>\n",
       "      <td>0</td>\n",
       "    </tr>\n",
       "    <tr>\n",
       "      <th>...</th>\n",
       "      <td>...</td>\n",
       "      <td>...</td>\n",
       "      <td>...</td>\n",
       "      <td>...</td>\n",
       "      <td>...</td>\n",
       "      <td>...</td>\n",
       "      <td>...</td>\n",
       "      <td>...</td>\n",
       "      <td>...</td>\n",
       "      <td>...</td>\n",
       "      <td>...</td>\n",
       "      <td>...</td>\n",
       "      <td>...</td>\n",
       "      <td>...</td>\n",
       "      <td>...</td>\n",
       "      <td>...</td>\n",
       "      <td>...</td>\n",
       "      <td>...</td>\n",
       "      <td>...</td>\n",
       "      <td>...</td>\n",
       "      <td>...</td>\n",
       "    </tr>\n",
       "    <tr>\n",
       "      <th>353894</th>\n",
       "      <td>2005</td>\n",
       "      <td>105</td>\n",
       "      <td>150000</td>\n",
       "      <td>0</td>\n",
       "      <td>0</td>\n",
       "      <td>0</td>\n",
       "      <td>0</td>\n",
       "      <td>0</td>\n",
       "      <td>0</td>\n",
       "      <td>0</td>\n",
       "      <td>...</td>\n",
       "      <td>0</td>\n",
       "      <td>0</td>\n",
       "      <td>0</td>\n",
       "      <td>0</td>\n",
       "      <td>0</td>\n",
       "      <td>0</td>\n",
       "      <td>0</td>\n",
       "      <td>0</td>\n",
       "      <td>1</td>\n",
       "      <td>0</td>\n",
       "    </tr>\n",
       "    <tr>\n",
       "      <th>353895</th>\n",
       "      <td>2005</td>\n",
       "      <td>105</td>\n",
       "      <td>20000</td>\n",
       "      <td>0</td>\n",
       "      <td>0</td>\n",
       "      <td>0</td>\n",
       "      <td>0</td>\n",
       "      <td>0</td>\n",
       "      <td>0</td>\n",
       "      <td>0</td>\n",
       "      <td>...</td>\n",
       "      <td>1</td>\n",
       "      <td>0</td>\n",
       "      <td>0</td>\n",
       "      <td>0</td>\n",
       "      <td>0</td>\n",
       "      <td>0</td>\n",
       "      <td>0</td>\n",
       "      <td>0</td>\n",
       "      <td>0</td>\n",
       "      <td>1</td>\n",
       "    </tr>\n",
       "    <tr>\n",
       "      <th>353896</th>\n",
       "      <td>2000</td>\n",
       "      <td>101</td>\n",
       "      <td>125000</td>\n",
       "      <td>1</td>\n",
       "      <td>0</td>\n",
       "      <td>0</td>\n",
       "      <td>0</td>\n",
       "      <td>0</td>\n",
       "      <td>0</td>\n",
       "      <td>0</td>\n",
       "      <td>...</td>\n",
       "      <td>0</td>\n",
       "      <td>0</td>\n",
       "      <td>0</td>\n",
       "      <td>0</td>\n",
       "      <td>0</td>\n",
       "      <td>0</td>\n",
       "      <td>0</td>\n",
       "      <td>0</td>\n",
       "      <td>0</td>\n",
       "      <td>0</td>\n",
       "    </tr>\n",
       "    <tr>\n",
       "      <th>353897</th>\n",
       "      <td>1996</td>\n",
       "      <td>102</td>\n",
       "      <td>150000</td>\n",
       "      <td>0</td>\n",
       "      <td>0</td>\n",
       "      <td>0</td>\n",
       "      <td>0</td>\n",
       "      <td>0</td>\n",
       "      <td>0</td>\n",
       "      <td>0</td>\n",
       "      <td>...</td>\n",
       "      <td>0</td>\n",
       "      <td>0</td>\n",
       "      <td>0</td>\n",
       "      <td>0</td>\n",
       "      <td>0</td>\n",
       "      <td>1</td>\n",
       "      <td>0</td>\n",
       "      <td>0</td>\n",
       "      <td>0</td>\n",
       "      <td>0</td>\n",
       "    </tr>\n",
       "    <tr>\n",
       "      <th>353898</th>\n",
       "      <td>2002</td>\n",
       "      <td>100</td>\n",
       "      <td>150000</td>\n",
       "      <td>0</td>\n",
       "      <td>0</td>\n",
       "      <td>0</td>\n",
       "      <td>0</td>\n",
       "      <td>0</td>\n",
       "      <td>0</td>\n",
       "      <td>1</td>\n",
       "      <td>...</td>\n",
       "      <td>0</td>\n",
       "      <td>0</td>\n",
       "      <td>0</td>\n",
       "      <td>0</td>\n",
       "      <td>0</td>\n",
       "      <td>1</td>\n",
       "      <td>0</td>\n",
       "      <td>0</td>\n",
       "      <td>0</td>\n",
       "      <td>1</td>\n",
       "    </tr>\n",
       "  </tbody>\n",
       "</table>\n",
       "<p>353899 rows × 312 columns</p>\n",
       "</div>"
      ],
      "text/plain": [
       "        registrationyear  power  kilometer  vehicletype_convertible  \\\n",
       "0                   1993    105     150000                        0   \n",
       "1                   2011    190     125000                        0   \n",
       "2                   2004    163     125000                        0   \n",
       "3                   2001     75     150000                        0   \n",
       "4                   2008     69      90000                        0   \n",
       "...                  ...    ...        ...                      ...   \n",
       "353894              2005    105     150000                        0   \n",
       "353895              2005    105      20000                        0   \n",
       "353896              2000    101     125000                        1   \n",
       "353897              1996    102     150000                        0   \n",
       "353898              2002    100     150000                        0   \n",
       "\n",
       "        vehicletype_coupe  vehicletype_other  vehicletype_sedan  \\\n",
       "0                       0                  0                  0   \n",
       "1                       1                  0                  0   \n",
       "2                       0                  0                  0   \n",
       "3                       0                  0                  0   \n",
       "4                       0                  0                  0   \n",
       "...                   ...                ...                ...   \n",
       "353894                  0                  0                  0   \n",
       "353895                  0                  0                  0   \n",
       "353896                  0                  0                  0   \n",
       "353897                  0                  0                  0   \n",
       "353898                  0                  0                  0   \n",
       "\n",
       "        vehicletype_small  vehicletype_suv  vehicletype_wagon  ...  \\\n",
       "0                       0                0                  0  ...   \n",
       "1                       0                0                  0  ...   \n",
       "2                       0                1                  0  ...   \n",
       "3                       1                0                  0  ...   \n",
       "4                       1                0                  0  ...   \n",
       "...                   ...              ...                ...  ...   \n",
       "353894                  0                0                  0  ...   \n",
       "353895                  0                0                  0  ...   \n",
       "353896                  0                0                  0  ...   \n",
       "353897                  0                0                  0  ...   \n",
       "353898                  0                0                  1  ...   \n",
       "\n",
       "        brand_sonstige_autos  brand_subaru  brand_suzuki  brand_toyota  \\\n",
       "0                          0             0             0             0   \n",
       "1                          0             0             0             0   \n",
       "2                          0             0             0             0   \n",
       "3                          0             0             0             0   \n",
       "4                          0             0             0             0   \n",
       "...                      ...           ...           ...           ...   \n",
       "353894                     0             0             0             0   \n",
       "353895                     1             0             0             0   \n",
       "353896                     0             0             0             0   \n",
       "353897                     0             0             0             0   \n",
       "353898                     0             0             0             0   \n",
       "\n",
       "        brand_trabant  brand_volkswagen  brand_volvo  brand_nan  \\\n",
       "0                   0                 1            0          0   \n",
       "1                   0                 0            0          0   \n",
       "2                   0                 0            0          0   \n",
       "3                   0                 1            0          0   \n",
       "4                   0                 0            0          0   \n",
       "...               ...               ...          ...        ...   \n",
       "353894              0                 0            0          0   \n",
       "353895              0                 0            0          0   \n",
       "353896              0                 0            0          0   \n",
       "353897              0                 1            0          0   \n",
       "353898              0                 1            0          0   \n",
       "\n",
       "        notrepaired_yes  notrepaired_nan  \n",
       "0                     0                1  \n",
       "1                     1                0  \n",
       "2                     0                1  \n",
       "3                     0                0  \n",
       "4                     0                0  \n",
       "...                 ...              ...  \n",
       "353894                1                0  \n",
       "353895                0                1  \n",
       "353896                0                0  \n",
       "353897                0                0  \n",
       "353898                0                1  \n",
       "\n",
       "[353899 rows x 312 columns]"
      ]
     },
     "execution_count": 34,
     "metadata": {},
     "output_type": "execute_result"
    }
   ],
   "source": [
    "X_onehot = pd.get_dummies(X, drop_first=True, dummy_na=True)\n",
    "X_onehot"
   ]
  },
  {
   "cell_type": "markdown",
   "metadata": {},
   "source": [
    "### 1.3.2 OrdinalEncoder - преобразованные данные:"
   ]
  },
  {
   "cell_type": "code",
   "execution_count": null,
   "metadata": {},
   "outputs": [],
   "source": []
  },
  {
   "cell_type": "code",
   "execution_count": 35,
   "metadata": {},
   "outputs": [
    {
     "data": {
      "text/html": [
       "<div>\n",
       "<style scoped>\n",
       "    .dataframe tbody tr th:only-of-type {\n",
       "        vertical-align: middle;\n",
       "    }\n",
       "\n",
       "    .dataframe tbody tr th {\n",
       "        vertical-align: top;\n",
       "    }\n",
       "\n",
       "    .dataframe thead th {\n",
       "        text-align: right;\n",
       "    }\n",
       "</style>\n",
       "<table border=\"1\" class=\"dataframe\">\n",
       "  <thead>\n",
       "    <tr style=\"text-align: right;\">\n",
       "      <th></th>\n",
       "      <th>vehicletype</th>\n",
       "      <th>registrationyear</th>\n",
       "      <th>gearbox</th>\n",
       "      <th>power</th>\n",
       "      <th>model</th>\n",
       "      <th>kilometer</th>\n",
       "      <th>fueltype</th>\n",
       "      <th>brand</th>\n",
       "      <th>notrepaired</th>\n",
       "    </tr>\n",
       "  </thead>\n",
       "  <tbody>\n",
       "    <tr>\n",
       "      <th>0</th>\n",
       "      <td>NaN</td>\n",
       "      <td>1993</td>\n",
       "      <td>manual</td>\n",
       "      <td>105</td>\n",
       "      <td>golf</td>\n",
       "      <td>150000</td>\n",
       "      <td>petrol</td>\n",
       "      <td>volkswagen</td>\n",
       "      <td>NaN</td>\n",
       "    </tr>\n",
       "    <tr>\n",
       "      <th>1</th>\n",
       "      <td>coupe</td>\n",
       "      <td>2011</td>\n",
       "      <td>manual</td>\n",
       "      <td>190</td>\n",
       "      <td>NaN</td>\n",
       "      <td>125000</td>\n",
       "      <td>gasoline</td>\n",
       "      <td>audi</td>\n",
       "      <td>yes</td>\n",
       "    </tr>\n",
       "    <tr>\n",
       "      <th>2</th>\n",
       "      <td>suv</td>\n",
       "      <td>2004</td>\n",
       "      <td>auto</td>\n",
       "      <td>163</td>\n",
       "      <td>grand</td>\n",
       "      <td>125000</td>\n",
       "      <td>gasoline</td>\n",
       "      <td>jeep</td>\n",
       "      <td>NaN</td>\n",
       "    </tr>\n",
       "    <tr>\n",
       "      <th>3</th>\n",
       "      <td>small</td>\n",
       "      <td>2001</td>\n",
       "      <td>manual</td>\n",
       "      <td>75</td>\n",
       "      <td>golf</td>\n",
       "      <td>150000</td>\n",
       "      <td>petrol</td>\n",
       "      <td>volkswagen</td>\n",
       "      <td>no</td>\n",
       "    </tr>\n",
       "    <tr>\n",
       "      <th>4</th>\n",
       "      <td>small</td>\n",
       "      <td>2008</td>\n",
       "      <td>manual</td>\n",
       "      <td>69</td>\n",
       "      <td>fabia</td>\n",
       "      <td>90000</td>\n",
       "      <td>gasoline</td>\n",
       "      <td>skoda</td>\n",
       "      <td>no</td>\n",
       "    </tr>\n",
       "    <tr>\n",
       "      <th>...</th>\n",
       "      <td>...</td>\n",
       "      <td>...</td>\n",
       "      <td>...</td>\n",
       "      <td>...</td>\n",
       "      <td>...</td>\n",
       "      <td>...</td>\n",
       "      <td>...</td>\n",
       "      <td>...</td>\n",
       "      <td>...</td>\n",
       "    </tr>\n",
       "    <tr>\n",
       "      <th>353894</th>\n",
       "      <td>NaN</td>\n",
       "      <td>2005</td>\n",
       "      <td>manual</td>\n",
       "      <td>105</td>\n",
       "      <td>colt</td>\n",
       "      <td>150000</td>\n",
       "      <td>petrol</td>\n",
       "      <td>mitsubishi</td>\n",
       "      <td>yes</td>\n",
       "    </tr>\n",
       "    <tr>\n",
       "      <th>353895</th>\n",
       "      <td>NaN</td>\n",
       "      <td>2005</td>\n",
       "      <td>NaN</td>\n",
       "      <td>105</td>\n",
       "      <td>NaN</td>\n",
       "      <td>20000</td>\n",
       "      <td>NaN</td>\n",
       "      <td>sonstige_autos</td>\n",
       "      <td>NaN</td>\n",
       "    </tr>\n",
       "    <tr>\n",
       "      <th>353896</th>\n",
       "      <td>convertible</td>\n",
       "      <td>2000</td>\n",
       "      <td>auto</td>\n",
       "      <td>101</td>\n",
       "      <td>fortwo</td>\n",
       "      <td>125000</td>\n",
       "      <td>petrol</td>\n",
       "      <td>smart</td>\n",
       "      <td>no</td>\n",
       "    </tr>\n",
       "    <tr>\n",
       "      <th>353897</th>\n",
       "      <td>bus</td>\n",
       "      <td>1996</td>\n",
       "      <td>manual</td>\n",
       "      <td>102</td>\n",
       "      <td>transporter</td>\n",
       "      <td>150000</td>\n",
       "      <td>gasoline</td>\n",
       "      <td>volkswagen</td>\n",
       "      <td>no</td>\n",
       "    </tr>\n",
       "    <tr>\n",
       "      <th>353898</th>\n",
       "      <td>wagon</td>\n",
       "      <td>2002</td>\n",
       "      <td>manual</td>\n",
       "      <td>100</td>\n",
       "      <td>golf</td>\n",
       "      <td>150000</td>\n",
       "      <td>gasoline</td>\n",
       "      <td>volkswagen</td>\n",
       "      <td>NaN</td>\n",
       "    </tr>\n",
       "  </tbody>\n",
       "</table>\n",
       "<p>353899 rows × 9 columns</p>\n",
       "</div>"
      ],
      "text/plain": [
       "        vehicletype  registrationyear gearbox  power        model  kilometer  \\\n",
       "0               NaN              1993  manual    105         golf     150000   \n",
       "1             coupe              2011  manual    190          NaN     125000   \n",
       "2               suv              2004    auto    163        grand     125000   \n",
       "3             small              2001  manual     75         golf     150000   \n",
       "4             small              2008  manual     69        fabia      90000   \n",
       "...             ...               ...     ...    ...          ...        ...   \n",
       "353894          NaN              2005  manual    105         colt     150000   \n",
       "353895          NaN              2005     NaN    105          NaN      20000   \n",
       "353896  convertible              2000    auto    101       fortwo     125000   \n",
       "353897          bus              1996  manual    102  transporter     150000   \n",
       "353898        wagon              2002  manual    100         golf     150000   \n",
       "\n",
       "        fueltype           brand notrepaired  \n",
       "0         petrol      volkswagen         NaN  \n",
       "1       gasoline            audi         yes  \n",
       "2       gasoline            jeep         NaN  \n",
       "3         petrol      volkswagen          no  \n",
       "4       gasoline           skoda          no  \n",
       "...          ...             ...         ...  \n",
       "353894    petrol      mitsubishi         yes  \n",
       "353895       NaN  sonstige_autos         NaN  \n",
       "353896    petrol           smart          no  \n",
       "353897  gasoline      volkswagen          no  \n",
       "353898  gasoline      volkswagen         NaN  \n",
       "\n",
       "[353899 rows x 9 columns]"
      ]
     },
     "execution_count": 35,
     "metadata": {},
     "output_type": "execute_result"
    }
   ],
   "source": [
    "X_ordinal = X.copy()\n",
    "X_ordinal"
   ]
  },
  {
   "cell_type": "markdown",
   "metadata": {},
   "source": [
    "Чтобы OrdinalEncoder обработал пропуски - преобразуем в их в произвольный тип данных (выбрали строковую переменную - 'nan_value')"
   ]
  },
  {
   "cell_type": "code",
   "execution_count": 36,
   "metadata": {},
   "outputs": [
    {
     "data": {
      "text/html": [
       "<div>\n",
       "<style scoped>\n",
       "    .dataframe tbody tr th:only-of-type {\n",
       "        vertical-align: middle;\n",
       "    }\n",
       "\n",
       "    .dataframe tbody tr th {\n",
       "        vertical-align: top;\n",
       "    }\n",
       "\n",
       "    .dataframe thead th {\n",
       "        text-align: right;\n",
       "    }\n",
       "</style>\n",
       "<table border=\"1\" class=\"dataframe\">\n",
       "  <thead>\n",
       "    <tr style=\"text-align: right;\">\n",
       "      <th></th>\n",
       "      <th>vehicletype</th>\n",
       "      <th>registrationyear</th>\n",
       "      <th>gearbox</th>\n",
       "      <th>power</th>\n",
       "      <th>model</th>\n",
       "      <th>kilometer</th>\n",
       "      <th>fueltype</th>\n",
       "      <th>brand</th>\n",
       "      <th>notrepaired</th>\n",
       "    </tr>\n",
       "  </thead>\n",
       "  <tbody>\n",
       "    <tr>\n",
       "      <th>0</th>\n",
       "      <td>nan_value</td>\n",
       "      <td>1993</td>\n",
       "      <td>manual</td>\n",
       "      <td>105</td>\n",
       "      <td>golf</td>\n",
       "      <td>150000</td>\n",
       "      <td>petrol</td>\n",
       "      <td>volkswagen</td>\n",
       "      <td>nan_value</td>\n",
       "    </tr>\n",
       "    <tr>\n",
       "      <th>1</th>\n",
       "      <td>coupe</td>\n",
       "      <td>2011</td>\n",
       "      <td>manual</td>\n",
       "      <td>190</td>\n",
       "      <td>nan_value</td>\n",
       "      <td>125000</td>\n",
       "      <td>gasoline</td>\n",
       "      <td>audi</td>\n",
       "      <td>yes</td>\n",
       "    </tr>\n",
       "    <tr>\n",
       "      <th>2</th>\n",
       "      <td>suv</td>\n",
       "      <td>2004</td>\n",
       "      <td>auto</td>\n",
       "      <td>163</td>\n",
       "      <td>grand</td>\n",
       "      <td>125000</td>\n",
       "      <td>gasoline</td>\n",
       "      <td>jeep</td>\n",
       "      <td>nan_value</td>\n",
       "    </tr>\n",
       "    <tr>\n",
       "      <th>3</th>\n",
       "      <td>small</td>\n",
       "      <td>2001</td>\n",
       "      <td>manual</td>\n",
       "      <td>75</td>\n",
       "      <td>golf</td>\n",
       "      <td>150000</td>\n",
       "      <td>petrol</td>\n",
       "      <td>volkswagen</td>\n",
       "      <td>no</td>\n",
       "    </tr>\n",
       "    <tr>\n",
       "      <th>4</th>\n",
       "      <td>small</td>\n",
       "      <td>2008</td>\n",
       "      <td>manual</td>\n",
       "      <td>69</td>\n",
       "      <td>fabia</td>\n",
       "      <td>90000</td>\n",
       "      <td>gasoline</td>\n",
       "      <td>skoda</td>\n",
       "      <td>no</td>\n",
       "    </tr>\n",
       "    <tr>\n",
       "      <th>...</th>\n",
       "      <td>...</td>\n",
       "      <td>...</td>\n",
       "      <td>...</td>\n",
       "      <td>...</td>\n",
       "      <td>...</td>\n",
       "      <td>...</td>\n",
       "      <td>...</td>\n",
       "      <td>...</td>\n",
       "      <td>...</td>\n",
       "    </tr>\n",
       "    <tr>\n",
       "      <th>353894</th>\n",
       "      <td>nan_value</td>\n",
       "      <td>2005</td>\n",
       "      <td>manual</td>\n",
       "      <td>105</td>\n",
       "      <td>colt</td>\n",
       "      <td>150000</td>\n",
       "      <td>petrol</td>\n",
       "      <td>mitsubishi</td>\n",
       "      <td>yes</td>\n",
       "    </tr>\n",
       "    <tr>\n",
       "      <th>353895</th>\n",
       "      <td>nan_value</td>\n",
       "      <td>2005</td>\n",
       "      <td>nan_value</td>\n",
       "      <td>105</td>\n",
       "      <td>nan_value</td>\n",
       "      <td>20000</td>\n",
       "      <td>nan_value</td>\n",
       "      <td>sonstige_autos</td>\n",
       "      <td>nan_value</td>\n",
       "    </tr>\n",
       "    <tr>\n",
       "      <th>353896</th>\n",
       "      <td>convertible</td>\n",
       "      <td>2000</td>\n",
       "      <td>auto</td>\n",
       "      <td>101</td>\n",
       "      <td>fortwo</td>\n",
       "      <td>125000</td>\n",
       "      <td>petrol</td>\n",
       "      <td>smart</td>\n",
       "      <td>no</td>\n",
       "    </tr>\n",
       "    <tr>\n",
       "      <th>353897</th>\n",
       "      <td>bus</td>\n",
       "      <td>1996</td>\n",
       "      <td>manual</td>\n",
       "      <td>102</td>\n",
       "      <td>transporter</td>\n",
       "      <td>150000</td>\n",
       "      <td>gasoline</td>\n",
       "      <td>volkswagen</td>\n",
       "      <td>no</td>\n",
       "    </tr>\n",
       "    <tr>\n",
       "      <th>353898</th>\n",
       "      <td>wagon</td>\n",
       "      <td>2002</td>\n",
       "      <td>manual</td>\n",
       "      <td>100</td>\n",
       "      <td>golf</td>\n",
       "      <td>150000</td>\n",
       "      <td>gasoline</td>\n",
       "      <td>volkswagen</td>\n",
       "      <td>nan_value</td>\n",
       "    </tr>\n",
       "  </tbody>\n",
       "</table>\n",
       "<p>353899 rows × 9 columns</p>\n",
       "</div>"
      ],
      "text/plain": [
       "        vehicletype  registrationyear    gearbox  power        model  \\\n",
       "0         nan_value              1993     manual    105         golf   \n",
       "1             coupe              2011     manual    190    nan_value   \n",
       "2               suv              2004       auto    163        grand   \n",
       "3             small              2001     manual     75         golf   \n",
       "4             small              2008     manual     69        fabia   \n",
       "...             ...               ...        ...    ...          ...   \n",
       "353894    nan_value              2005     manual    105         colt   \n",
       "353895    nan_value              2005  nan_value    105    nan_value   \n",
       "353896  convertible              2000       auto    101       fortwo   \n",
       "353897          bus              1996     manual    102  transporter   \n",
       "353898        wagon              2002     manual    100         golf   \n",
       "\n",
       "        kilometer   fueltype           brand notrepaired  \n",
       "0          150000     petrol      volkswagen   nan_value  \n",
       "1          125000   gasoline            audi         yes  \n",
       "2          125000   gasoline            jeep   nan_value  \n",
       "3          150000     petrol      volkswagen          no  \n",
       "4           90000   gasoline           skoda          no  \n",
       "...           ...        ...             ...         ...  \n",
       "353894     150000     petrol      mitsubishi         yes  \n",
       "353895      20000  nan_value  sonstige_autos   nan_value  \n",
       "353896     125000     petrol           smart          no  \n",
       "353897     150000   gasoline      volkswagen          no  \n",
       "353898     150000   gasoline      volkswagen   nan_value  \n",
       "\n",
       "[353899 rows x 9 columns]"
      ]
     },
     "execution_count": 36,
     "metadata": {},
     "output_type": "execute_result"
    }
   ],
   "source": [
    "X_ordinal[cat_features] = X[cat_features].fillna(\"nan_value\")\n",
    "X_ordinal"
   ]
  },
  {
   "cell_type": "markdown",
   "metadata": {},
   "source": [
    "Делаем OrdinalEncoder - преобразование"
   ]
  },
  {
   "cell_type": "code",
   "execution_count": 37,
   "metadata": {},
   "outputs": [
    {
     "data": {
      "text/html": [
       "<div>\n",
       "<style scoped>\n",
       "    .dataframe tbody tr th:only-of-type {\n",
       "        vertical-align: middle;\n",
       "    }\n",
       "\n",
       "    .dataframe tbody tr th {\n",
       "        vertical-align: top;\n",
       "    }\n",
       "\n",
       "    .dataframe thead th {\n",
       "        text-align: right;\n",
       "    }\n",
       "</style>\n",
       "<table border=\"1\" class=\"dataframe\">\n",
       "  <thead>\n",
       "    <tr style=\"text-align: right;\">\n",
       "      <th></th>\n",
       "      <th>vehicletype</th>\n",
       "      <th>registrationyear</th>\n",
       "      <th>gearbox</th>\n",
       "      <th>power</th>\n",
       "      <th>model</th>\n",
       "      <th>kilometer</th>\n",
       "      <th>fueltype</th>\n",
       "      <th>brand</th>\n",
       "      <th>notrepaired</th>\n",
       "    </tr>\n",
       "  </thead>\n",
       "  <tbody>\n",
       "    <tr>\n",
       "      <th>0</th>\n",
       "      <td>3.0</td>\n",
       "      <td>1993</td>\n",
       "      <td>1.0</td>\n",
       "      <td>105</td>\n",
       "      <td>116.0</td>\n",
       "      <td>150000</td>\n",
       "      <td>7.0</td>\n",
       "      <td>38.0</td>\n",
       "      <td>0.0</td>\n",
       "    </tr>\n",
       "    <tr>\n",
       "      <th>1</th>\n",
       "      <td>2.0</td>\n",
       "      <td>2011</td>\n",
       "      <td>1.0</td>\n",
       "      <td>190</td>\n",
       "      <td>159.0</td>\n",
       "      <td>125000</td>\n",
       "      <td>2.0</td>\n",
       "      <td>1.0</td>\n",
       "      <td>2.0</td>\n",
       "    </tr>\n",
       "    <tr>\n",
       "      <th>2</th>\n",
       "      <td>7.0</td>\n",
       "      <td>2004</td>\n",
       "      <td>0.0</td>\n",
       "      <td>163</td>\n",
       "      <td>117.0</td>\n",
       "      <td>125000</td>\n",
       "      <td>2.0</td>\n",
       "      <td>14.0</td>\n",
       "      <td>0.0</td>\n",
       "    </tr>\n",
       "    <tr>\n",
       "      <th>3</th>\n",
       "      <td>6.0</td>\n",
       "      <td>2001</td>\n",
       "      <td>1.0</td>\n",
       "      <td>75</td>\n",
       "      <td>116.0</td>\n",
       "      <td>150000</td>\n",
       "      <td>7.0</td>\n",
       "      <td>38.0</td>\n",
       "      <td>1.0</td>\n",
       "    </tr>\n",
       "    <tr>\n",
       "      <th>4</th>\n",
       "      <td>6.0</td>\n",
       "      <td>2008</td>\n",
       "      <td>1.0</td>\n",
       "      <td>69</td>\n",
       "      <td>101.0</td>\n",
       "      <td>90000</td>\n",
       "      <td>2.0</td>\n",
       "      <td>31.0</td>\n",
       "      <td>1.0</td>\n",
       "    </tr>\n",
       "    <tr>\n",
       "      <th>...</th>\n",
       "      <td>...</td>\n",
       "      <td>...</td>\n",
       "      <td>...</td>\n",
       "      <td>...</td>\n",
       "      <td>...</td>\n",
       "      <td>...</td>\n",
       "      <td>...</td>\n",
       "      <td>...</td>\n",
       "      <td>...</td>\n",
       "    </tr>\n",
       "    <tr>\n",
       "      <th>353894</th>\n",
       "      <td>3.0</td>\n",
       "      <td>2005</td>\n",
       "      <td>1.0</td>\n",
       "      <td>105</td>\n",
       "      <td>78.0</td>\n",
       "      <td>150000</td>\n",
       "      <td>7.0</td>\n",
       "      <td>22.0</td>\n",
       "      <td>2.0</td>\n",
       "    </tr>\n",
       "    <tr>\n",
       "      <th>353895</th>\n",
       "      <td>3.0</td>\n",
       "      <td>2005</td>\n",
       "      <td>2.0</td>\n",
       "      <td>105</td>\n",
       "      <td>159.0</td>\n",
       "      <td>20000</td>\n",
       "      <td>5.0</td>\n",
       "      <td>33.0</td>\n",
       "      <td>0.0</td>\n",
       "    </tr>\n",
       "    <tr>\n",
       "      <th>353896</th>\n",
       "      <td>1.0</td>\n",
       "      <td>2000</td>\n",
       "      <td>0.0</td>\n",
       "      <td>101</td>\n",
       "      <td>106.0</td>\n",
       "      <td>125000</td>\n",
       "      <td>7.0</td>\n",
       "      <td>32.0</td>\n",
       "      <td>1.0</td>\n",
       "    </tr>\n",
       "    <tr>\n",
       "      <th>353897</th>\n",
       "      <td>0.0</td>\n",
       "      <td>1996</td>\n",
       "      <td>1.0</td>\n",
       "      <td>102</td>\n",
       "      <td>225.0</td>\n",
       "      <td>150000</td>\n",
       "      <td>2.0</td>\n",
       "      <td>38.0</td>\n",
       "      <td>1.0</td>\n",
       "    </tr>\n",
       "    <tr>\n",
       "      <th>353898</th>\n",
       "      <td>8.0</td>\n",
       "      <td>2002</td>\n",
       "      <td>1.0</td>\n",
       "      <td>100</td>\n",
       "      <td>116.0</td>\n",
       "      <td>150000</td>\n",
       "      <td>2.0</td>\n",
       "      <td>38.0</td>\n",
       "      <td>0.0</td>\n",
       "    </tr>\n",
       "  </tbody>\n",
       "</table>\n",
       "<p>353899 rows × 9 columns</p>\n",
       "</div>"
      ],
      "text/plain": [
       "        vehicletype  registrationyear  gearbox  power  model  kilometer  \\\n",
       "0               3.0              1993      1.0    105  116.0     150000   \n",
       "1               2.0              2011      1.0    190  159.0     125000   \n",
       "2               7.0              2004      0.0    163  117.0     125000   \n",
       "3               6.0              2001      1.0     75  116.0     150000   \n",
       "4               6.0              2008      1.0     69  101.0      90000   \n",
       "...             ...               ...      ...    ...    ...        ...   \n",
       "353894          3.0              2005      1.0    105   78.0     150000   \n",
       "353895          3.0              2005      2.0    105  159.0      20000   \n",
       "353896          1.0              2000      0.0    101  106.0     125000   \n",
       "353897          0.0              1996      1.0    102  225.0     150000   \n",
       "353898          8.0              2002      1.0    100  116.0     150000   \n",
       "\n",
       "        fueltype  brand  notrepaired  \n",
       "0            7.0   38.0          0.0  \n",
       "1            2.0    1.0          2.0  \n",
       "2            2.0   14.0          0.0  \n",
       "3            7.0   38.0          1.0  \n",
       "4            2.0   31.0          1.0  \n",
       "...          ...    ...          ...  \n",
       "353894       7.0   22.0          2.0  \n",
       "353895       5.0   33.0          0.0  \n",
       "353896       7.0   32.0          1.0  \n",
       "353897       2.0   38.0          1.0  \n",
       "353898       2.0   38.0          0.0  \n",
       "\n",
       "[353899 rows x 9 columns]"
      ]
     },
     "execution_count": 37,
     "metadata": {},
     "output_type": "execute_result"
    }
   ],
   "source": [
    "X_ordinal[cat_features] = pd.DataFrame(OrdinalEncoder().fit_transform(X_ordinal[cat_features]), columns = cat_features)\n",
    "X_ordinal"
   ]
  },
  {
   "cell_type": "markdown",
   "metadata": {},
   "source": [
    "Ordinalencoder преобразовал наши данные во float. Модель Catboost в качестве категориальных признаков принимает типы данных string и int.  Поэтому сразу преобразуем float в int"
   ]
  },
  {
   "cell_type": "code",
   "execution_count": 38,
   "metadata": {},
   "outputs": [
    {
     "data": {
      "text/html": [
       "<div>\n",
       "<style scoped>\n",
       "    .dataframe tbody tr th:only-of-type {\n",
       "        vertical-align: middle;\n",
       "    }\n",
       "\n",
       "    .dataframe tbody tr th {\n",
       "        vertical-align: top;\n",
       "    }\n",
       "\n",
       "    .dataframe thead th {\n",
       "        text-align: right;\n",
       "    }\n",
       "</style>\n",
       "<table border=\"1\" class=\"dataframe\">\n",
       "  <thead>\n",
       "    <tr style=\"text-align: right;\">\n",
       "      <th></th>\n",
       "      <th>vehicletype</th>\n",
       "      <th>registrationyear</th>\n",
       "      <th>gearbox</th>\n",
       "      <th>power</th>\n",
       "      <th>model</th>\n",
       "      <th>kilometer</th>\n",
       "      <th>fueltype</th>\n",
       "      <th>brand</th>\n",
       "      <th>notrepaired</th>\n",
       "    </tr>\n",
       "  </thead>\n",
       "  <tbody>\n",
       "    <tr>\n",
       "      <th>0</th>\n",
       "      <td>3</td>\n",
       "      <td>1993</td>\n",
       "      <td>1</td>\n",
       "      <td>105</td>\n",
       "      <td>116</td>\n",
       "      <td>150000</td>\n",
       "      <td>7</td>\n",
       "      <td>38</td>\n",
       "      <td>0</td>\n",
       "    </tr>\n",
       "    <tr>\n",
       "      <th>1</th>\n",
       "      <td>2</td>\n",
       "      <td>2011</td>\n",
       "      <td>1</td>\n",
       "      <td>190</td>\n",
       "      <td>159</td>\n",
       "      <td>125000</td>\n",
       "      <td>2</td>\n",
       "      <td>1</td>\n",
       "      <td>2</td>\n",
       "    </tr>\n",
       "    <tr>\n",
       "      <th>2</th>\n",
       "      <td>7</td>\n",
       "      <td>2004</td>\n",
       "      <td>0</td>\n",
       "      <td>163</td>\n",
       "      <td>117</td>\n",
       "      <td>125000</td>\n",
       "      <td>2</td>\n",
       "      <td>14</td>\n",
       "      <td>0</td>\n",
       "    </tr>\n",
       "    <tr>\n",
       "      <th>3</th>\n",
       "      <td>6</td>\n",
       "      <td>2001</td>\n",
       "      <td>1</td>\n",
       "      <td>75</td>\n",
       "      <td>116</td>\n",
       "      <td>150000</td>\n",
       "      <td>7</td>\n",
       "      <td>38</td>\n",
       "      <td>1</td>\n",
       "    </tr>\n",
       "    <tr>\n",
       "      <th>4</th>\n",
       "      <td>6</td>\n",
       "      <td>2008</td>\n",
       "      <td>1</td>\n",
       "      <td>69</td>\n",
       "      <td>101</td>\n",
       "      <td>90000</td>\n",
       "      <td>2</td>\n",
       "      <td>31</td>\n",
       "      <td>1</td>\n",
       "    </tr>\n",
       "    <tr>\n",
       "      <th>...</th>\n",
       "      <td>...</td>\n",
       "      <td>...</td>\n",
       "      <td>...</td>\n",
       "      <td>...</td>\n",
       "      <td>...</td>\n",
       "      <td>...</td>\n",
       "      <td>...</td>\n",
       "      <td>...</td>\n",
       "      <td>...</td>\n",
       "    </tr>\n",
       "    <tr>\n",
       "      <th>353894</th>\n",
       "      <td>3</td>\n",
       "      <td>2005</td>\n",
       "      <td>1</td>\n",
       "      <td>105</td>\n",
       "      <td>78</td>\n",
       "      <td>150000</td>\n",
       "      <td>7</td>\n",
       "      <td>22</td>\n",
       "      <td>2</td>\n",
       "    </tr>\n",
       "    <tr>\n",
       "      <th>353895</th>\n",
       "      <td>3</td>\n",
       "      <td>2005</td>\n",
       "      <td>2</td>\n",
       "      <td>105</td>\n",
       "      <td>159</td>\n",
       "      <td>20000</td>\n",
       "      <td>5</td>\n",
       "      <td>33</td>\n",
       "      <td>0</td>\n",
       "    </tr>\n",
       "    <tr>\n",
       "      <th>353896</th>\n",
       "      <td>1</td>\n",
       "      <td>2000</td>\n",
       "      <td>0</td>\n",
       "      <td>101</td>\n",
       "      <td>106</td>\n",
       "      <td>125000</td>\n",
       "      <td>7</td>\n",
       "      <td>32</td>\n",
       "      <td>1</td>\n",
       "    </tr>\n",
       "    <tr>\n",
       "      <th>353897</th>\n",
       "      <td>0</td>\n",
       "      <td>1996</td>\n",
       "      <td>1</td>\n",
       "      <td>102</td>\n",
       "      <td>225</td>\n",
       "      <td>150000</td>\n",
       "      <td>2</td>\n",
       "      <td>38</td>\n",
       "      <td>1</td>\n",
       "    </tr>\n",
       "    <tr>\n",
       "      <th>353898</th>\n",
       "      <td>8</td>\n",
       "      <td>2002</td>\n",
       "      <td>1</td>\n",
       "      <td>100</td>\n",
       "      <td>116</td>\n",
       "      <td>150000</td>\n",
       "      <td>2</td>\n",
       "      <td>38</td>\n",
       "      <td>0</td>\n",
       "    </tr>\n",
       "  </tbody>\n",
       "</table>\n",
       "<p>353899 rows × 9 columns</p>\n",
       "</div>"
      ],
      "text/plain": [
       "        vehicletype  registrationyear  gearbox  power  model  kilometer  \\\n",
       "0                 3              1993        1    105    116     150000   \n",
       "1                 2              2011        1    190    159     125000   \n",
       "2                 7              2004        0    163    117     125000   \n",
       "3                 6              2001        1     75    116     150000   \n",
       "4                 6              2008        1     69    101      90000   \n",
       "...             ...               ...      ...    ...    ...        ...   \n",
       "353894            3              2005        1    105     78     150000   \n",
       "353895            3              2005        2    105    159      20000   \n",
       "353896            1              2000        0    101    106     125000   \n",
       "353897            0              1996        1    102    225     150000   \n",
       "353898            8              2002        1    100    116     150000   \n",
       "\n",
       "        fueltype  brand  notrepaired  \n",
       "0              7     38            0  \n",
       "1              2      1            2  \n",
       "2              2     14            0  \n",
       "3              7     38            1  \n",
       "4              2     31            1  \n",
       "...          ...    ...          ...  \n",
       "353894         7     22            2  \n",
       "353895         5     33            0  \n",
       "353896         7     32            1  \n",
       "353897         2     38            1  \n",
       "353898         2     38            0  \n",
       "\n",
       "[353899 rows x 9 columns]"
      ]
     },
     "execution_count": 38,
     "metadata": {},
     "output_type": "execute_result"
    }
   ],
   "source": [
    "X_ordinal[cat_features] = X_ordinal[cat_features].astype(int)\n",
    "X_ordinal"
   ]
  },
  {
   "cell_type": "markdown",
   "metadata": {},
   "source": [
    "## 1.4 Разделяем выборку на обучающую и тестовую"
   ]
  },
  {
   "cell_type": "code",
   "execution_count": 39,
   "metadata": {},
   "outputs": [],
   "source": [
    "X_onehot_train, X_onehot_test, X_ordinal_train, X_ordinal_test, y_train, y_test = train_test_split(\n",
    "    X_onehot, X_ordinal, y, test_size=0.2, random_state=42)\n",
    "\n",
    "# Удаляем не нужные далее данные\n",
    "del X_onehot, X_ordinal"
   ]
  },
  {
   "cell_type": "markdown",
   "metadata": {},
   "source": [
    "## 1.5 Нормализация числовых признаков"
   ]
  },
  {
   "cell_type": "markdown",
   "metadata": {},
   "source": [
    "Выделим числовые признаки"
   ]
  },
  {
   "cell_type": "code",
   "execution_count": 40,
   "metadata": {},
   "outputs": [
    {
     "data": {
      "text/plain": [
       "Index(['registrationyear', 'power', 'kilometer'], dtype='object')"
      ]
     },
     "execution_count": 40,
     "metadata": {},
     "output_type": "execute_result"
    }
   ],
   "source": [
    "num_features = X.columns[X.dtypes != 'object']\n",
    "num_features"
   ]
  },
  {
   "cell_type": "markdown",
   "metadata": {},
   "source": [
    "Производим нормирование. Обучаемся на только на обучающей выборке, а преобразование делаем и для обучающей и для тестовой.   Можем взять для обучения как onehot так и ordinal - данные , т.к. в них одни и те же количественные признаки "
   ]
  },
  {
   "cell_type": "code",
   "execution_count": 41,
   "metadata": {},
   "outputs": [
    {
     "data": {
      "text/plain": [
       "StandardScaler(copy=True, with_mean=True, with_std=True)"
      ]
     },
     "execution_count": 41,
     "metadata": {},
     "output_type": "execute_result"
    }
   ],
   "source": [
    "scaler = StandardScaler()\n",
    "\n",
    "scaler.fit(X_onehot_train[num_features])"
   ]
  },
  {
   "cell_type": "code",
   "execution_count": 42,
   "metadata": {},
   "outputs": [],
   "source": [
    "X_scaled_onehot_train = X_onehot_train.copy()\n",
    "X_scaled_ordinal_train = X_ordinal_train.copy()\n",
    "\n",
    "X_scaled_onehot_test = X_onehot_test.copy()\n",
    "X_scaled_ordinal_test = X_ordinal_test.copy()"
   ]
  },
  {
   "cell_type": "code",
   "execution_count": 43,
   "metadata": {},
   "outputs": [],
   "source": [
    "X_scaled_onehot_train[num_features] = scaler.transform(X_onehot_train[num_features])\n",
    "X_scaled_ordinal_train[num_features] = scaler.transform(X_ordinal_train[num_features])\n",
    "\n",
    "X_scaled_onehot_test[num_features] = scaler.transform(X_onehot_test[num_features])\n",
    "X_scaled_ordinal_test[num_features] = scaler.transform(X_ordinal_test[num_features])"
   ]
  },
  {
   "cell_type": "code",
   "execution_count": 44,
   "metadata": {},
   "outputs": [
    {
     "data": {
      "text/html": [
       "<div>\n",
       "<style scoped>\n",
       "    .dataframe tbody tr th:only-of-type {\n",
       "        vertical-align: middle;\n",
       "    }\n",
       "\n",
       "    .dataframe tbody tr th {\n",
       "        vertical-align: top;\n",
       "    }\n",
       "\n",
       "    .dataframe thead th {\n",
       "        text-align: right;\n",
       "    }\n",
       "</style>\n",
       "<table border=\"1\" class=\"dataframe\">\n",
       "  <thead>\n",
       "    <tr style=\"text-align: right;\">\n",
       "      <th></th>\n",
       "      <th>registrationyear</th>\n",
       "      <th>power</th>\n",
       "      <th>kilometer</th>\n",
       "      <th>vehicletype_convertible</th>\n",
       "      <th>vehicletype_coupe</th>\n",
       "      <th>vehicletype_other</th>\n",
       "      <th>vehicletype_sedan</th>\n",
       "      <th>vehicletype_small</th>\n",
       "      <th>vehicletype_suv</th>\n",
       "      <th>vehicletype_wagon</th>\n",
       "      <th>...</th>\n",
       "      <th>brand_sonstige_autos</th>\n",
       "      <th>brand_subaru</th>\n",
       "      <th>brand_suzuki</th>\n",
       "      <th>brand_toyota</th>\n",
       "      <th>brand_trabant</th>\n",
       "      <th>brand_volkswagen</th>\n",
       "      <th>brand_volvo</th>\n",
       "      <th>brand_nan</th>\n",
       "      <th>notrepaired_yes</th>\n",
       "      <th>notrepaired_nan</th>\n",
       "    </tr>\n",
       "  </thead>\n",
       "  <tbody>\n",
       "    <tr>\n",
       "      <th>299359</th>\n",
       "      <td>0.653126</td>\n",
       "      <td>-0.549551</td>\n",
       "      <td>-0.086697</td>\n",
       "      <td>0</td>\n",
       "      <td>0</td>\n",
       "      <td>0</td>\n",
       "      <td>0</td>\n",
       "      <td>1</td>\n",
       "      <td>0</td>\n",
       "      <td>0</td>\n",
       "      <td>...</td>\n",
       "      <td>0</td>\n",
       "      <td>0</td>\n",
       "      <td>0</td>\n",
       "      <td>0</td>\n",
       "      <td>0</td>\n",
       "      <td>0</td>\n",
       "      <td>0</td>\n",
       "      <td>0</td>\n",
       "      <td>0</td>\n",
       "      <td>0</td>\n",
       "    </tr>\n",
       "    <tr>\n",
       "      <th>46159</th>\n",
       "      <td>-4.399423</td>\n",
       "      <td>-0.453250</td>\n",
       "      <td>-2.600380</td>\n",
       "      <td>1</td>\n",
       "      <td>0</td>\n",
       "      <td>0</td>\n",
       "      <td>0</td>\n",
       "      <td>0</td>\n",
       "      <td>0</td>\n",
       "      <td>0</td>\n",
       "      <td>...</td>\n",
       "      <td>1</td>\n",
       "      <td>0</td>\n",
       "      <td>0</td>\n",
       "      <td>0</td>\n",
       "      <td>0</td>\n",
       "      <td>0</td>\n",
       "      <td>0</td>\n",
       "      <td>0</td>\n",
       "      <td>0</td>\n",
       "      <td>0</td>\n",
       "    </tr>\n",
       "  </tbody>\n",
       "</table>\n",
       "<p>2 rows × 312 columns</p>\n",
       "</div>"
      ],
      "text/plain": [
       "        registrationyear     power  kilometer  vehicletype_convertible  \\\n",
       "299359          0.653126 -0.549551  -0.086697                        0   \n",
       "46159          -4.399423 -0.453250  -2.600380                        1   \n",
       "\n",
       "        vehicletype_coupe  vehicletype_other  vehicletype_sedan  \\\n",
       "299359                  0                  0                  0   \n",
       "46159                   0                  0                  0   \n",
       "\n",
       "        vehicletype_small  vehicletype_suv  vehicletype_wagon  ...  \\\n",
       "299359                  1                0                  0  ...   \n",
       "46159                   0                0                  0  ...   \n",
       "\n",
       "        brand_sonstige_autos  brand_subaru  brand_suzuki  brand_toyota  \\\n",
       "299359                     0             0             0             0   \n",
       "46159                      1             0             0             0   \n",
       "\n",
       "        brand_trabant  brand_volkswagen  brand_volvo  brand_nan  \\\n",
       "299359              0                 0            0          0   \n",
       "46159               0                 0            0          0   \n",
       "\n",
       "        notrepaired_yes  notrepaired_nan  \n",
       "299359                0                0  \n",
       "46159                 0                0  \n",
       "\n",
       "[2 rows x 312 columns]"
      ]
     },
     "metadata": {},
     "output_type": "display_data"
    },
    {
     "data": {
      "text/html": [
       "<div>\n",
       "<style scoped>\n",
       "    .dataframe tbody tr th:only-of-type {\n",
       "        vertical-align: middle;\n",
       "    }\n",
       "\n",
       "    .dataframe tbody tr th {\n",
       "        vertical-align: top;\n",
       "    }\n",
       "\n",
       "    .dataframe thead th {\n",
       "        text-align: right;\n",
       "    }\n",
       "</style>\n",
       "<table border=\"1\" class=\"dataframe\">\n",
       "  <thead>\n",
       "    <tr style=\"text-align: right;\">\n",
       "      <th></th>\n",
       "      <th>registrationyear</th>\n",
       "      <th>power</th>\n",
       "      <th>kilometer</th>\n",
       "      <th>vehicletype_convertible</th>\n",
       "      <th>vehicletype_coupe</th>\n",
       "      <th>vehicletype_other</th>\n",
       "      <th>vehicletype_sedan</th>\n",
       "      <th>vehicletype_small</th>\n",
       "      <th>vehicletype_suv</th>\n",
       "      <th>vehicletype_wagon</th>\n",
       "      <th>...</th>\n",
       "      <th>brand_sonstige_autos</th>\n",
       "      <th>brand_subaru</th>\n",
       "      <th>brand_suzuki</th>\n",
       "      <th>brand_toyota</th>\n",
       "      <th>brand_trabant</th>\n",
       "      <th>brand_volkswagen</th>\n",
       "      <th>brand_volvo</th>\n",
       "      <th>brand_nan</th>\n",
       "      <th>notrepaired_yes</th>\n",
       "      <th>notrepaired_nan</th>\n",
       "    </tr>\n",
       "  </thead>\n",
       "  <tbody>\n",
       "    <tr>\n",
       "      <th>185948</th>\n",
       "      <td>0.254241</td>\n",
       "      <td>1.260912</td>\n",
       "      <td>0.574799</td>\n",
       "      <td>0</td>\n",
       "      <td>0</td>\n",
       "      <td>0</td>\n",
       "      <td>0</td>\n",
       "      <td>0</td>\n",
       "      <td>0</td>\n",
       "      <td>1</td>\n",
       "      <td>...</td>\n",
       "      <td>0</td>\n",
       "      <td>0</td>\n",
       "      <td>0</td>\n",
       "      <td>0</td>\n",
       "      <td>0</td>\n",
       "      <td>0</td>\n",
       "      <td>0</td>\n",
       "      <td>0</td>\n",
       "      <td>0</td>\n",
       "      <td>0</td>\n",
       "    </tr>\n",
       "    <tr>\n",
       "      <th>262422</th>\n",
       "      <td>-0.543530</td>\n",
       "      <td>-0.337688</td>\n",
       "      <td>0.574799</td>\n",
       "      <td>0</td>\n",
       "      <td>0</td>\n",
       "      <td>0</td>\n",
       "      <td>1</td>\n",
       "      <td>0</td>\n",
       "      <td>0</td>\n",
       "      <td>0</td>\n",
       "      <td>...</td>\n",
       "      <td>0</td>\n",
       "      <td>0</td>\n",
       "      <td>0</td>\n",
       "      <td>0</td>\n",
       "      <td>0</td>\n",
       "      <td>0</td>\n",
       "      <td>0</td>\n",
       "      <td>0</td>\n",
       "      <td>0</td>\n",
       "      <td>0</td>\n",
       "    </tr>\n",
       "  </tbody>\n",
       "</table>\n",
       "<p>2 rows × 312 columns</p>\n",
       "</div>"
      ],
      "text/plain": [
       "        registrationyear     power  kilometer  vehicletype_convertible  \\\n",
       "185948          0.254241  1.260912   0.574799                        0   \n",
       "262422         -0.543530 -0.337688   0.574799                        0   \n",
       "\n",
       "        vehicletype_coupe  vehicletype_other  vehicletype_sedan  \\\n",
       "185948                  0                  0                  0   \n",
       "262422                  0                  0                  1   \n",
       "\n",
       "        vehicletype_small  vehicletype_suv  vehicletype_wagon  ...  \\\n",
       "185948                  0                0                  1  ...   \n",
       "262422                  0                0                  0  ...   \n",
       "\n",
       "        brand_sonstige_autos  brand_subaru  brand_suzuki  brand_toyota  \\\n",
       "185948                     0             0             0             0   \n",
       "262422                     0             0             0             0   \n",
       "\n",
       "        brand_trabant  brand_volkswagen  brand_volvo  brand_nan  \\\n",
       "185948              0                 0            0          0   \n",
       "262422              0                 0            0          0   \n",
       "\n",
       "        notrepaired_yes  notrepaired_nan  \n",
       "185948                0                0  \n",
       "262422                0                0  \n",
       "\n",
       "[2 rows x 312 columns]"
      ]
     },
     "metadata": {},
     "output_type": "display_data"
    },
    {
     "data": {
      "text/html": [
       "<div>\n",
       "<style scoped>\n",
       "    .dataframe tbody tr th:only-of-type {\n",
       "        vertical-align: middle;\n",
       "    }\n",
       "\n",
       "    .dataframe tbody tr th {\n",
       "        vertical-align: top;\n",
       "    }\n",
       "\n",
       "    .dataframe thead th {\n",
       "        text-align: right;\n",
       "    }\n",
       "</style>\n",
       "<table border=\"1\" class=\"dataframe\">\n",
       "  <thead>\n",
       "    <tr style=\"text-align: right;\">\n",
       "      <th></th>\n",
       "      <th>vehicletype</th>\n",
       "      <th>registrationyear</th>\n",
       "      <th>gearbox</th>\n",
       "      <th>power</th>\n",
       "      <th>model</th>\n",
       "      <th>kilometer</th>\n",
       "      <th>fueltype</th>\n",
       "      <th>brand</th>\n",
       "      <th>notrepaired</th>\n",
       "    </tr>\n",
       "  </thead>\n",
       "  <tbody>\n",
       "    <tr>\n",
       "      <th>299359</th>\n",
       "      <td>6</td>\n",
       "      <td>0.653126</td>\n",
       "      <td>1</td>\n",
       "      <td>-0.549551</td>\n",
       "      <td>83</td>\n",
       "      <td>-0.086697</td>\n",
       "      <td>7</td>\n",
       "      <td>24</td>\n",
       "      <td>1</td>\n",
       "    </tr>\n",
       "    <tr>\n",
       "      <th>46159</th>\n",
       "      <td>1</td>\n",
       "      <td>-4.399423</td>\n",
       "      <td>1</td>\n",
       "      <td>-0.453250</td>\n",
       "      <td>159</td>\n",
       "      <td>-2.600380</td>\n",
       "      <td>7</td>\n",
       "      <td>33</td>\n",
       "      <td>1</td>\n",
       "    </tr>\n",
       "  </tbody>\n",
       "</table>\n",
       "</div>"
      ],
      "text/plain": [
       "        vehicletype  registrationyear  gearbox     power  model  kilometer  \\\n",
       "299359            6          0.653126        1 -0.549551     83  -0.086697   \n",
       "46159             1         -4.399423        1 -0.453250    159  -2.600380   \n",
       "\n",
       "        fueltype  brand  notrepaired  \n",
       "299359         7     24            1  \n",
       "46159          7     33            1  "
      ]
     },
     "metadata": {},
     "output_type": "display_data"
    },
    {
     "data": {
      "text/html": [
       "<div>\n",
       "<style scoped>\n",
       "    .dataframe tbody tr th:only-of-type {\n",
       "        vertical-align: middle;\n",
       "    }\n",
       "\n",
       "    .dataframe tbody tr th {\n",
       "        vertical-align: top;\n",
       "    }\n",
       "\n",
       "    .dataframe thead th {\n",
       "        text-align: right;\n",
       "    }\n",
       "</style>\n",
       "<table border=\"1\" class=\"dataframe\">\n",
       "  <thead>\n",
       "    <tr style=\"text-align: right;\">\n",
       "      <th></th>\n",
       "      <th>vehicletype</th>\n",
       "      <th>registrationyear</th>\n",
       "      <th>gearbox</th>\n",
       "      <th>power</th>\n",
       "      <th>model</th>\n",
       "      <th>kilometer</th>\n",
       "      <th>fueltype</th>\n",
       "      <th>brand</th>\n",
       "      <th>notrepaired</th>\n",
       "    </tr>\n",
       "  </thead>\n",
       "  <tbody>\n",
       "    <tr>\n",
       "      <th>185948</th>\n",
       "      <td>8</td>\n",
       "      <td>0.254241</td>\n",
       "      <td>1</td>\n",
       "      <td>1.260912</td>\n",
       "      <td>29</td>\n",
       "      <td>0.574799</td>\n",
       "      <td>2</td>\n",
       "      <td>1</td>\n",
       "      <td>1</td>\n",
       "    </tr>\n",
       "    <tr>\n",
       "      <th>262422</th>\n",
       "      <td>5</td>\n",
       "      <td>-0.543530</td>\n",
       "      <td>1</td>\n",
       "      <td>-0.337688</td>\n",
       "      <td>42</td>\n",
       "      <td>0.574799</td>\n",
       "      <td>7</td>\n",
       "      <td>24</td>\n",
       "      <td>1</td>\n",
       "    </tr>\n",
       "  </tbody>\n",
       "</table>\n",
       "</div>"
      ],
      "text/plain": [
       "        vehicletype  registrationyear  gearbox     power  model  kilometer  \\\n",
       "185948            8          0.254241        1  1.260912     29   0.574799   \n",
       "262422            5         -0.543530        1 -0.337688     42   0.574799   \n",
       "\n",
       "        fueltype  brand  notrepaired  \n",
       "185948         2      1            1  \n",
       "262422         7     24            1  "
      ]
     },
     "metadata": {},
     "output_type": "display_data"
    }
   ],
   "source": [
    "display(X_scaled_onehot_train.head(2))\n",
    "display(X_scaled_onehot_test.head(2))\n",
    "\n",
    "display(X_scaled_ordinal_train.head(2))\n",
    "display(X_scaled_ordinal_test.head(2))"
   ]
  },
  {
   "cell_type": "code",
   "execution_count": 45,
   "metadata": {},
   "outputs": [],
   "source": [
    "# Удаляем не нужные далее данные\n",
    "del X_onehot_train, X_ordinal_train, X_onehot_test, X_ordinal_test"
   ]
  },
  {
   "cell_type": "markdown",
   "metadata": {},
   "source": [
    "# 2. Обучение моделей  \n",
    "#### Замечания\n",
    "1. При обучении моделей будем использовать метод GridSearchCV, который уже включает кроссвалидацию.\n",
    "2. В качестве метрики используем RMSE\n",
    "3. Для сокращения скорости вычислений будем для всех моделей задавать n_estimators=5 / iterations = 5.   В конце проекта приводятся результаты расчета для n_estimators / iterations = 30, 100  \n",
    "\n",
    "Зададим целевую функцию RMSE"
   ]
  },
  {
   "cell_type": "code",
   "execution_count": 46,
   "metadata": {},
   "outputs": [],
   "source": [
    "def RMSE(y_actual, y_predict):\n",
    "    return np.sqrt(MSE(y_actual, y_predict))"
   ]
  },
  {
   "cell_type": "markdown",
   "metadata": {},
   "source": [
    "Также позаботимся о том, чтобы можно было использовать RMSE в качестве метрики при обучении моделей:"
   ]
  },
  {
   "cell_type": "code",
   "execution_count": 47,
   "metadata": {},
   "outputs": [],
   "source": [
    "my_scorer = make_scorer(RMSE, greater_is_better=False)"
   ]
  },
  {
   "cell_type": "markdown",
   "metadata": {},
   "source": [
    "Зададим функции обучения и предсказания моделей"
   ]
  },
  {
   "cell_type": "code",
   "execution_count": 48,
   "metadata": {},
   "outputs": [],
   "source": [
    "# Функция для обучения модели c помощью GridSearchCV и вычисления нужных величин\n",
    "\n",
    "def model_train(X, y, model):\n",
    "  # Время начала обучения\n",
    "  start_time = timeit.default_timer()\n",
    "\n",
    "  # Обучаем модель\n",
    "  model.fit(X, y)\n",
    "\n",
    "  # лучшая модель\n",
    "  model_best =  model.best_estimator_\n",
    "\n",
    "  # лучшие гиперпараметры\n",
    "  model_best_params =  model.best_params_\n",
    "\n",
    "  # Вычисляем лучшую метрику на кроссвалидации\n",
    "  RMSE_train = abs(model.best_score_)\n",
    "\n",
    "  # Вычисляем время обучения\n",
    "  fit_time = round(timeit.default_timer() - start_time, 1)\n",
    "\n",
    "  # Выводим вычисленные величины\n",
    "  print('Лучшие гиперпараметры:')\n",
    "  print(model_best_params)\n",
    "  print('Метрика RMSE на обучении: {}'.format(round(RMSE_train,2)))\n",
    "  print('Время обучения: {:.2} сек'.format(fit_time)) \n",
    "  print()\n",
    "\n",
    "  # возвращаем обученную модель с лучшими ГП,\n",
    "  # лучшие ГП, метрику, время обучения\n",
    "  return model.best_estimator_ , model.best_params_, RMSE_train, fit_time"
   ]
  },
  {
   "cell_type": "code",
   "execution_count": 49,
   "metadata": {},
   "outputs": [],
   "source": [
    "# Функция для расчета метрики на тестовой выборке \n",
    "def model_test(X, y, model_fitted):\n",
    "  # Время начала расчета\n",
    "  start_time = timeit.default_timer()\n",
    "  \n",
    "  # Считаем метрику на тестовой выборке\n",
    "  RMSE_test = RMSE(y, model_fitted.predict(X))\n",
    "\n",
    "  # Считаем время предсказания \n",
    "  predict_time = round(timeit.default_timer() - start_time, 3)\n",
    "\n",
    "  # Выводим вычисленные величины\n",
    "  print('Метрика RMSE на тестовой выборке: {}'.format(round(RMSE_test,2)))\n",
    "  print('Время предсказания: {} сек'.format(predict_time))\n",
    "\n",
    "  # Возвращаем метрику на тестовой выборке и время предсказания\n",
    "  return RMSE_test, predict_time"
   ]
  },
  {
   "cell_type": "markdown",
   "metadata": {},
   "source": [
    "## 2.1 Константная модель. "
   ]
  },
  {
   "cell_type": "markdown",
   "metadata": {},
   "source": [
    "Проверим качество константной модели, чтобы можно было оценить адекватность наших будущих моделей.  \n",
    "Для начала посмотрим на гистограмму целевого признака"
   ]
  },
  {
   "cell_type": "code",
   "execution_count": 50,
   "metadata": {},
   "outputs": [
    {
     "data": {
      "text/plain": [
       "<matplotlib.axes._subplots.AxesSubplot at 0x1584fc06408>"
      ]
     },
     "execution_count": 50,
     "metadata": {},
     "output_type": "execute_result"
    },
    {
     "data": {
      "image/png": "[encoded data removed]",
      "text/plain": [
       "<Figure size 1080x504 with 1 Axes>"
      ]
     },
     "metadata": {},
     "output_type": "display_data"
    }
   ],
   "source": [
    "plt.figure(figsize = (15,7))\n",
    "sns.distplot(y, bins=100, kde=False)"
   ]
  },
  {
   "cell_type": "markdown",
   "metadata": {},
   "source": [
    "Гистограмма напоминает распределение Пуассона.  Кажется, что выбросов нет. В таком случае лучшую точность должна дать константная модель со средним значением, чем с медианой. На всякий случай проверим и медиану и среднее значение и выберем модель с максимальной точностью"
   ]
  },
  {
   "cell_type": "code",
   "execution_count": 51,
   "metadata": {},
   "outputs": [],
   "source": [
    "y_median = y_train.median()\n",
    "y_mean = y_train.mean()"
   ]
  },
  {
   "cell_type": "code",
   "execution_count": 52,
   "metadata": {},
   "outputs": [],
   "source": [
    "y_median_series = pd.Series([y_median for i in range(len(y_test))])\n",
    "y_mean_series = pd.Series([y_mean for i in range(len(y_test))])"
   ]
  },
  {
   "cell_type": "code",
   "execution_count": 53,
   "metadata": {},
   "outputs": [
    {
     "data": {
      "text/plain": [
       "4847.009040324543"
      ]
     },
     "execution_count": 53,
     "metadata": {},
     "output_type": "execute_result"
    }
   ],
   "source": [
    "RMSE_const_model_train = RMSE(y_test, y_median_series)\n",
    "RMSE_const_model_train"
   ]
  },
  {
   "cell_type": "code",
   "execution_count": 54,
   "metadata": {},
   "outputs": [
    {
     "data": {
      "text/plain": [
       "4525.938329766491"
      ]
     },
     "execution_count": 54,
     "metadata": {},
     "output_type": "execute_result"
    }
   ],
   "source": [
    "RMSE(y_test, y_mean_series)"
   ]
  },
  {
   "cell_type": "markdown",
   "metadata": {},
   "source": [
    "Как и предполагали, константная модель со средним значением дала более высокую точность, чем с медианой. Принимаем для дальнейшего анализа модель со средним значением"
   ]
  },
  {
   "cell_type": "code",
   "execution_count": 55,
   "metadata": {},
   "outputs": [
    {
     "data": {
      "text/plain": [
       "4525.938329766491"
      ]
     },
     "execution_count": 55,
     "metadata": {},
     "output_type": "execute_result"
    }
   ],
   "source": [
    "RMSE_const_model_test = min([RMSE(y_test, y_median_series),RMSE(y_test, y_mean_series)]) \n",
    "RMSE_const_model_test"
   ]
  },
  {
   "cell_type": "markdown",
   "metadata": {},
   "source": [
    "## 2.2 Модель линейная регрессия "
   ]
  },
  {
   "cell_type": "code",
   "execution_count": 56,
   "metadata": {},
   "outputs": [
    {
     "name": "stdout",
     "output_type": "stream",
     "text": [
      "Лучшие гиперпараметры:\n",
      "{'n_jobs': -1}\n",
      "Метрика RMSE на обучении: 2752.21\n",
      "Время обучения: 2.1e+01 сек\n",
      "\n",
      "Метрика RMSE на тестовой выборке: 2778.99\n",
      "Время предсказания: 0.16 сек\n"
     ]
    }
   ],
   "source": [
    "# Задаем гиперпараметры\n",
    "param_grid_22 = {'n_jobs': [-1]}\n",
    "\n",
    "# Задаем модель\n",
    "model_LR = GridSearchCV(estimator = LinearRegression(),\n",
    "                       param_grid= param_grid_22, cv=3, n_jobs=-1 , scoring = my_scorer)\n",
    "\n",
    "# Обучаем модель\n",
    "model_best_LR, model_params_LR, fit_RMSE_LR, fit_time_LR = model_train(X_scaled_onehot_train, y_train, model_LR)\n",
    "\n",
    "# Считаем метрику на тестовой выборке\n",
    "predict_RMSE_LR, predict_time_LR =  model_test(X_scaled_onehot_test, y_test, model_best_LR)"
   ]
  },
  {
   "cell_type": "markdown",
   "metadata": {},
   "source": [
    "## 2.3 Модель случайный лес"
   ]
  },
  {
   "cell_type": "markdown",
   "metadata": {},
   "source": [
    "### 2.3.1 случайный лес + onehot"
   ]
  },
  {
   "cell_type": "code",
   "execution_count": 57,
   "metadata": {},
   "outputs": [
    {
     "name": "stdout",
     "output_type": "stream",
     "text": [
      "Fitting 3 folds for each of 1 candidates, totalling 3 fits\n"
     ]
    },
    {
     "name": "stderr",
     "output_type": "stream",
     "text": [
      "[Parallel(n_jobs=-1)]: Using backend LokyBackend with 4 concurrent workers.\n",
      "[Parallel(n_jobs=-1)]: Done   3 out of   3 | elapsed:  2.3min finished\n"
     ]
    },
    {
     "name": "stdout",
     "output_type": "stream",
     "text": [
      "Лучшие гиперпараметры:\n",
      "{'max_depth': 10, 'min_samples_leaf': 2, 'min_samples_split': 3, 'n_estimators': 30}\n",
      "Метрика RMSE на обучении: 2044.33\n",
      "Время обучения: 2.3e+02 сек\n",
      "\n",
      "Метрика RMSE на тестовой выборке: 2073.67\n",
      "Время предсказания: 0.292 сек\n"
     ]
    }
   ],
   "source": [
    "# Задаем гиперпараметры\n",
    "param_grid_231 = {'n_estimators': [5, 20, 30],\n",
    "                'max_depth': [20, 30, 40],\n",
    "                'min_samples_split' : [3, 7, 10],\n",
    "                 'min_samples_leaf': [2, 4, 6]}\n",
    "# Сразу подставляем уже найденные лучшие параметры:\n",
    "param_grid_231 = {'n_estimators': [30],\n",
    "                'max_depth': [10],\n",
    "                'min_samples_split' : [3],\n",
    "                 'min_samples_leaf': [2]}\n",
    "\n",
    "# Задаем модель\n",
    "model_RF_onehot = GridSearchCV(estimator = RandomForestRegressor(n_jobs=-1, random_state=42), \n",
    "            param_grid= param_grid_231, scoring = my_scorer, cv=3, verbose=1, n_jobs= -1)\n",
    "\n",
    "# Обучаем модель\n",
    "model_best_RF_onehot, model_params_RF_onehot, fit_RMSE_RF_onehot, fit_time_RF_onehot = model_train(X_scaled_onehot_train, y_train, model_RF_onehot)\n",
    "\n",
    "# Считаем метрику на тестовой выборке\n",
    "predict_RMSE_RF_onehot, predict_time_RF_onehot =  model_test(X_scaled_onehot_test, y_test, model_best_RF_onehot)"
   ]
  },
  {
   "cell_type": "markdown",
   "metadata": {},
   "source": [
    "### 2.3.2 случайный лес + ordinal"
   ]
  },
  {
   "cell_type": "code",
   "execution_count": 58,
   "metadata": {},
   "outputs": [
    {
     "name": "stdout",
     "output_type": "stream",
     "text": [
      "Fitting 3 folds for each of 1 candidates, totalling 3 fits\n"
     ]
    },
    {
     "name": "stderr",
     "output_type": "stream",
     "text": [
      "[Parallel(n_jobs=-1)]: Using backend LokyBackend with 4 concurrent workers.\n",
      "[Parallel(n_jobs=-1)]: Done   3 out of   3 | elapsed:   23.3s finished\n"
     ]
    },
    {
     "name": "stdout",
     "output_type": "stream",
     "text": [
      "Лучшие гиперпараметры:\n",
      "{'max_depth': 30, 'min_samples_leaf': 2, 'min_samples_split': 10, 'n_estimators': 30}\n",
      "Метрика RMSE на обучении: 1776.97\n",
      "Время обучения: 3.6e+01 сек\n",
      "\n",
      "Метрика RMSE на тестовой выборке: 1758.03\n",
      "Время предсказания: 0.353 сек\n"
     ]
    }
   ],
   "source": [
    "# Задаем гиперпараметры\n",
    "param_grid_232 = {'n_estimators': [5, 20, 30],\n",
    "                'max_depth': [20, 30, 40],\n",
    "                'min_samples_split' : [3, 7, 10],\n",
    "                 'min_samples_leaf': [2, 4, 6]}\n",
    "# Сразу подставляем уже найденные лучшие параметры:\n",
    "param_grid_232 = {'n_estimators': [30],\n",
    "                'max_depth': [30],\n",
    "                'min_samples_split' : [10],\n",
    "                 'min_samples_leaf': [2]}\n",
    "\n",
    "# Задаем модель\n",
    "model_RF_ordinal = GridSearchCV(estimator = RandomForestRegressor(n_jobs=-1, random_state=42), \n",
    "            param_grid= param_grid_232, scoring = my_scorer, cv=3, verbose=1, n_jobs= -1)\n",
    "\n",
    "# Обучаем модель\n",
    "model_best_RF_ordinal, model_params_RF_ordinal, fit_RMSE_RF_ordinal, fit_time_RF_ordinal = model_train(X_scaled_ordinal_train, y_train, model_RF_ordinal)\n",
    "\n",
    "# Считаем метрику на тестовой выборке\n",
    "predict_RMSE_RF_ordinal, predict_time_RF_ordinal =  model_test(X_scaled_ordinal_test, y_test, model_best_RF_ordinal)"
   ]
  },
  {
   "cell_type": "markdown",
   "metadata": {},
   "source": [
    "## 2.4 Модель XGboost"
   ]
  },
  {
   "cell_type": "markdown",
   "metadata": {},
   "source": [
    "### 2.4.1 XGboost + onehot"
   ]
  },
  {
   "cell_type": "code",
   "execution_count": 59,
   "metadata": {},
   "outputs": [
    {
     "name": "stdout",
     "output_type": "stream",
     "text": [
      "Fitting 3 folds for each of 1 candidates, totalling 3 fits\n"
     ]
    },
    {
     "name": "stderr",
     "output_type": "stream",
     "text": [
      "[Parallel(n_jobs=-1)]: Using backend LokyBackend with 4 concurrent workers.\n",
      "[Parallel(n_jobs=-1)]: Done   3 out of   3 | elapsed:  4.4min finished\n"
     ]
    },
    {
     "name": "stdout",
     "output_type": "stream",
     "text": [
      "[22:43:03] WARNING: C:\\Users\\Administrator\\workspace\\xgboost-win64_release_1.2.0\\src\\learner.cc:516: \n",
      "Parameters: { min_samples_split } might not be used.\n",
      "\n",
      "  This may not be accurate due to some parameters are only used in language bindings but\n",
      "  passed down to XGBoost core.  Or some parameters are not used but slip through this\n",
      "  verification. Please open an issue if you find above cases.\n",
      "\n",
      "\n",
      "Лучшие гиперпараметры:\n",
      "{'booster': 'gbtree', 'max_depth': 17, 'min_samples_split': 2, 'n_estimators': 30}\n",
      "Метрика RMSE на обучении: 1766.48\n",
      "Время обучения: 3.8e+02 сек\n",
      "\n",
      "Метрика RMSE на тестовой выборке: 1730.17\n",
      "Время предсказания: 1.156 сек\n"
     ]
    }
   ],
   "source": [
    "# Задаем гиперпараметры\n",
    "param_grid_241 = {'booster': ['gbtree'],\n",
    "                 'max_depth': [14, 17, 20],\n",
    "                 'min_samples_split': [2, 3],\n",
    "                 'n_estimators': [10, 30]}\n",
    "\n",
    "# Сразу подставляем уже найденные лучшие параметры:\n",
    "param_grid_241 = {'booster': ['gbtree'],\n",
    "                 'max_depth': [17],\n",
    "                 'min_samples_split': [2],\n",
    "                 'n_estimators': [30]}\n",
    "\n",
    "# Задаем модель\n",
    "model_XGB_onehot = GridSearchCV(estimator = XGBRegressor(random_state=42, n_jobs=-1), \n",
    "             param_grid= param_grid_241, cv=3, verbose=1, n_jobs=-1, scoring = my_scorer)\n",
    "\n",
    "# Обучаем модель\n",
    "model_best_XGB_onehot, model_params_XGB_onehot, fit_RMSE_XGB_onehot, fit_time_XGB_onehot = model_train(X_scaled_onehot_train, y_train, model_XGB_onehot)\n",
    "\n",
    "# Считаем метрику на тестовой выборке\n",
    "predict_RMSE_XGB_onehot, predict_time_XGB_onehot =  model_test(X_scaled_onehot_test, y_test, model_best_XGB_onehot)"
   ]
  },
  {
   "cell_type": "markdown",
   "metadata": {},
   "source": [
    "### 2.4.2 XGboost + ordinal"
   ]
  },
  {
   "cell_type": "code",
   "execution_count": 60,
   "metadata": {},
   "outputs": [
    {
     "name": "stdout",
     "output_type": "stream",
     "text": [
      "Fitting 3 folds for each of 1 candidates, totalling 3 fits\n"
     ]
    },
    {
     "name": "stderr",
     "output_type": "stream",
     "text": [
      "[Parallel(n_jobs=-1)]: Using backend LokyBackend with 4 concurrent workers.\n",
      "[Parallel(n_jobs=-1)]: Done   3 out of   3 | elapsed:   18.0s finished\n"
     ]
    },
    {
     "name": "stdout",
     "output_type": "stream",
     "text": [
      "[22:45:19] WARNING: C:\\Users\\Administrator\\workspace\\xgboost-win64_release_1.2.0\\src\\learner.cc:516: \n",
      "Parameters: { min_samples_split } might not be used.\n",
      "\n",
      "  This may not be accurate due to some parameters are only used in language bindings but\n",
      "  passed down to XGBoost core.  Or some parameters are not used but slip through this\n",
      "  verification. Please open an issue if you find above cases.\n",
      "\n",
      "\n",
      "Лучшие гиперпараметры:\n",
      "{'booster': 'gbtree', 'max_depth': 14, 'min_samples_split': 2, 'n_estimators': 30}\n",
      "Метрика RMSE на обучении: 1773.59\n",
      "Время обучения: 2.6e+01 сек\n",
      "\n",
      "Метрика RMSE на тестовой выборке: 1738.34\n",
      "Время предсказания: 0.179 сек\n"
     ]
    }
   ],
   "source": [
    "# Задаем гиперпараметры\n",
    "param_grid_242 = {'booster': ['gbtree'],\n",
    "                 'max_depth': [14, 17, 20, 25],\n",
    "                 'min_samples_split': [2, 3, 4],\n",
    "                 'n_estimators': [10, 30]}\n",
    "\n",
    "# Сразу подставляем уже найденные лучшие параметры:\n",
    "param_grid_242 = {'booster': ['gbtree'],\n",
    "                 'max_depth': [14],\n",
    "                 'min_samples_split': [2],\n",
    "                 'n_estimators': [30]}\n",
    "\n",
    "# Задаем модель\n",
    "model_XGB_ordinal = GridSearchCV(estimator = XGBRegressor(random_state=42, n_jobs=-1), \n",
    "             param_grid= param_grid_242, cv=3, verbose=1, n_jobs=-1, scoring = my_scorer)\n",
    "\n",
    "# Обучаем модель\n",
    "model_best_XGB_ordinal, model_params_XGB_ordinal, fit_RMSE_XGB_ordinal, fit_time_XGB_ordinal = model_train(X_scaled_ordinal_train, y_train, model_XGB_ordinal)\n",
    "\n",
    "# Считаем метрику на тестовой выборке\n",
    "predict_RMSE_XGB_ordinal, predict_time_XGB_ordinal =  model_test(X_scaled_ordinal_test, y_test, model_best_XGB_ordinal)"
   ]
  },
  {
   "cell_type": "markdown",
   "metadata": {},
   "source": [
    "## 2.5 Модель LightGBM"
   ]
  },
  {
   "cell_type": "markdown",
   "metadata": {},
   "source": [
    "### 2.5.1 Модель LightGBM / n_estimators = 10"
   ]
  },
  {
   "cell_type": "code",
   "execution_count": 61,
   "metadata": {},
   "outputs": [
    {
     "name": "stdout",
     "output_type": "stream",
     "text": [
      "Fitting 3 folds for each of 1 candidates, totalling 3 fits\n"
     ]
    },
    {
     "name": "stderr",
     "output_type": "stream",
     "text": [
      "[Parallel(n_jobs=-1)]: Using backend LokyBackend with 4 concurrent workers.\n",
      "[Parallel(n_jobs=-1)]: Done   3 out of   3 | elapsed:    4.5s finished\n"
     ]
    },
    {
     "name": "stdout",
     "output_type": "stream",
     "text": [
      "Лучшие гиперпараметры:\n",
      "{'max_depth': 25, 'min_data_in_leaf': 3, 'n_estimators': 10, 'num_leaves': 2000}\n",
      "Метрика RMSE на обучении: 2338.48\n",
      "Время обучения: 6.9 сек\n",
      "\n",
      "Метрика RMSE на тестовой выборке: 2344.63\n",
      "Время предсказания: 0.163 сек\n"
     ]
    }
   ],
   "source": [
    "# Задаем гиперпараметры\n",
    "param_grid_251 = {'num_leaves': [1000, 2000, 3000],\n",
    "                'max_depth': [14, 17, 20, 25],\n",
    "                'n_estimators' : [5, 10, 30],\n",
    "                 'min_data_in_leaf': [3, 7, 10 ,15]}\n",
    "# сразу подставляем лушие параметры\n",
    "param_grid_251 = {'num_leaves': [2000],\n",
    "                'max_depth': [25],\n",
    "                'n_estimators' : [10],\n",
    "                 'min_data_in_leaf': [3]}\n",
    "\n",
    "# Задаем модель\n",
    "model_LGBM_estim_10 = GridSearchCV(estimator = LGBMRegressor(random_state=42, n_jobs=-1), \n",
    "             param_grid= param_grid_251, cv=3, verbose=1, n_jobs=-1, scoring = my_scorer)\n",
    "\n",
    "# Обучаем модель\n",
    "model_best_LGBM_estim_10, model_params_LGBM_estim_10, fit_RMSE_LGBM_estim_10, fit_time_LGBM_estim_10 = model_train(X_scaled_ordinal_train, y_train, model_LGBM_estim_10)\n",
    "\n",
    "# Считаем метрику на тестовой выборке\n",
    "predict_RMSE_LGBM_estim_10, predict_time_LGBM_estim_10 =  model_test(X_scaled_ordinal_test, y_test, model_best_LGBM_estim_10)"
   ]
  },
  {
   "cell_type": "markdown",
   "metadata": {},
   "source": [
    "### 2.5.2 Модель LightGBM / n_estimators = 30"
   ]
  },
  {
   "cell_type": "code",
   "execution_count": 62,
   "metadata": {},
   "outputs": [
    {
     "name": "stdout",
     "output_type": "stream",
     "text": [
      "Fitting 3 folds for each of 1 candidates, totalling 3 fits\n"
     ]
    },
    {
     "name": "stderr",
     "output_type": "stream",
     "text": [
      "[Parallel(n_jobs=-1)]: Using backend LokyBackend with 4 concurrent workers.\n",
      "[Parallel(n_jobs=-1)]: Done   3 out of   3 | elapsed:    6.8s finished\n"
     ]
    },
    {
     "name": "stdout",
     "output_type": "stream",
     "text": [
      "Лучшие гиперпараметры:\n",
      "{'max_depth': 25, 'min_data_in_leaf': 3, 'n_estimators': 30, 'num_leaves': 2000}\n",
      "Метрика RMSE на обучении: 1765.86\n",
      "Время обучения: 1.1e+01 сек\n",
      "\n",
      "Метрика RMSE на тестовой выборке: 1754.61\n",
      "Время предсказания: 0.186 сек\n"
     ]
    }
   ],
   "source": [
    "# Задаем гиперпараметры\n",
    "param_grid_252 = {'num_leaves': [1000, 2000, 3000],\n",
    "                'max_depth': [14, 17, 20, 25],\n",
    "                'n_estimators' : [5, 10, 30],\n",
    "                 'min_data_in_leaf': [3, 7, 10 ,15]}\n",
    "# сразу подставляем лушие параметры\n",
    "param_grid_252 = {'num_leaves': [2000],\n",
    "                'max_depth': [25],\n",
    "                'n_estimators' : [30],\n",
    "                 'min_data_in_leaf': [3]}\n",
    "\n",
    "# Задаем модель\n",
    "model_LGBM_estim_30 = GridSearchCV(estimator = LGBMRegressor(random_state=42, n_jobs=-1), \n",
    "             param_grid= param_grid_252, cv=3, verbose=1, n_jobs=-1, scoring = my_scorer)\n",
    "\n",
    "# Обучаем модель\n",
    "model_best_LGBM_estim_30, model_params_LGBM_estim_30, fit_RMSE_LGBM_estim_30, fit_time_LGBM_estim_30 = model_train(X_scaled_ordinal_train, y_train, model_LGBM_estim_30)\n",
    "\n",
    "# Считаем метрику на тестовой выборке\n",
    "predict_RMSE_LGBM_estim_30, predict_time_LGBM_estim_30 =  model_test(X_scaled_ordinal_test, y_test, model_best_LGBM_estim_30)"
   ]
  },
  {
   "cell_type": "markdown",
   "metadata": {},
   "source": [
    "### 2.5.3 Модель LightGBM / n_estimators = 100"
   ]
  },
  {
   "cell_type": "code",
   "execution_count": 63,
   "metadata": {},
   "outputs": [
    {
     "name": "stdout",
     "output_type": "stream",
     "text": [
      "Fitting 3 folds for each of 1 candidates, totalling 3 fits\n"
     ]
    },
    {
     "name": "stderr",
     "output_type": "stream",
     "text": [
      "[Parallel(n_jobs=-1)]: Using backend LokyBackend with 4 concurrent workers.\n",
      "[Parallel(n_jobs=-1)]: Done   3 out of   3 | elapsed:   21.5s finished\n"
     ]
    },
    {
     "name": "stdout",
     "output_type": "stream",
     "text": [
      "Лучшие гиперпараметры:\n",
      "{'max_depth': 25, 'min_data_in_leaf': 3, 'n_estimators': 100, 'num_leaves': 2000}\n",
      "Метрика RMSE на обучении: 1735.11\n",
      "Время обучения: 3.5e+01 сек\n",
      "\n",
      "Метрика RMSE на тестовой выборке: 1702.29\n",
      "Время предсказания: 0.949 сек\n"
     ]
    }
   ],
   "source": [
    "# Задаем гиперпараметры\n",
    "param_grid_253 = {'num_leaves': [1000, 2000, 3000],\n",
    "                'max_depth': [14, 17, 20, 25],\n",
    "                'n_estimators' : [5, 10, 30],\n",
    "                 'min_data_in_leaf': [3, 7, 10 ,15]}\n",
    "# сразу подставляем лушие параметры\n",
    "param_grid_253 = {'num_leaves': [2000],\n",
    "                'max_depth': [25],\n",
    "                'n_estimators' : [100],\n",
    "                 'min_data_in_leaf': [3]}\n",
    "\n",
    "# Задаем модель\n",
    "model_LGBM_estim_100 = GridSearchCV(estimator = LGBMRegressor(random_state=42, n_jobs=-1), \n",
    "             param_grid= param_grid_253, cv=3, verbose=1, n_jobs=-1, scoring = my_scorer)\n",
    "\n",
    "# Обучаем модель\n",
    "model_best_LGBM_estim_100, model_params_LGBM_estim_100, fit_RMSE_LGBM_estim_100, fit_time_LGBM_estim_100 = model_train(X_scaled_ordinal_train, y_train, model_LGBM_estim_100)\n",
    "\n",
    "# Считаем метрику на тестовой выборке\n",
    "predict_RMSE_LGBM_estim_100, predict_time_LGBM_estim_100 =  model_test(X_scaled_ordinal_test, y_test, model_best_LGBM_estim_100)"
   ]
  },
  {
   "cell_type": "markdown",
   "metadata": {},
   "source": [
    "## 2.6 Модель Catboost"
   ]
  },
  {
   "cell_type": "markdown",
   "metadata": {},
   "source": [
    "### 2.6.1 Модель Catboost / iterations = 10"
   ]
  },
  {
   "cell_type": "code",
   "execution_count": 64,
   "metadata": {},
   "outputs": [
    {
     "name": "stdout",
     "output_type": "stream",
     "text": [
      "Fitting 3 folds for each of 1 candidates, totalling 3 fits\n"
     ]
    },
    {
     "name": "stderr",
     "output_type": "stream",
     "text": [
      "[Parallel(n_jobs=-1)]: Using backend LokyBackend with 4 concurrent workers.\n",
      "[Parallel(n_jobs=-1)]: Done   3 out of   3 | elapsed:    3.3s finished\n"
     ]
    },
    {
     "name": "stdout",
     "output_type": "stream",
     "text": [
      "Learning rate set to 0.5\n",
      "0:\tlearn: 3135.8907654\ttotal: 169ms\tremaining: 1.52s\n",
      "1:\tlearn: 2544.8964586\ttotal: 248ms\tremaining: 993ms\n",
      "2:\tlearn: 2285.5617636\ttotal: 328ms\tremaining: 766ms\n",
      "3:\tlearn: 2166.2933356\ttotal: 405ms\tremaining: 608ms\n",
      "4:\tlearn: 2082.2201770\ttotal: 485ms\tremaining: 485ms\n",
      "5:\tlearn: 2034.4051266\ttotal: 563ms\tremaining: 376ms\n",
      "6:\tlearn: 2000.4048716\ttotal: 638ms\tremaining: 273ms\n",
      "7:\tlearn: 1982.0093025\ttotal: 714ms\tremaining: 179ms\n",
      "8:\tlearn: 1962.5590213\ttotal: 805ms\tremaining: 89.5ms\n",
      "9:\tlearn: 1947.1281268\ttotal: 882ms\tremaining: 0us\n",
      "Лучшие гиперпараметры:\n",
      "{'depth': 10, 'iterations': 10}\n",
      "Метрика RMSE на обучении: 1974.61\n",
      "Время обучения: 4.5 сек\n",
      "\n",
      "Метрика RMSE на тестовой выборке: 1988.74\n",
      "Время предсказания: 0.011 сек\n"
     ]
    }
   ],
   "source": [
    "# Задаем гиперпараметры\n",
    "param_grid_261 = {'iterations': [10, 30],\n",
    "                'depth': [6, 8, 10]}\n",
    "# сразу подставляем лушие параметры\n",
    "param_grid_261 = {'iterations': [10],\n",
    "                'depth': [10]}\n",
    "\n",
    "# Задаем модель\n",
    "model_Cat_iter_10 = GridSearchCV(\n",
    "    estimator = CatBoostRegressor(random_state=42),\n",
    "    param_grid= param_grid_261, cv=3, verbose=1, n_jobs=-1, scoring = my_scorer)\n",
    "\n",
    "# Обучаем модель\n",
    "model_best_Cat_iter_10, model_params_Cat_iter_10, fit_RMSE_Cat_iter_10, fit_time_Cat_iter_10 = model_train(X_scaled_ordinal_train, y_train, model_Cat_iter_10)\n",
    "\n",
    "# Считаем метрику на тестовой выборке\n",
    "predict_RMSE_Cat_iter_10, predict_time_Cat_iter_10 =  model_test(X_scaled_ordinal_test, y_test, model_best_Cat_iter_10)"
   ]
  },
  {
   "cell_type": "markdown",
   "metadata": {},
   "source": [
    "### 2.6.2 Модель Catboost / iterations = 30"
   ]
  },
  {
   "cell_type": "code",
   "execution_count": 65,
   "metadata": {},
   "outputs": [
    {
     "name": "stdout",
     "output_type": "stream",
     "text": [
      "Fitting 3 folds for each of 1 candidates, totalling 3 fits\n"
     ]
    },
    {
     "name": "stderr",
     "output_type": "stream",
     "text": [
      "[Parallel(n_jobs=-1)]: Using backend LokyBackend with 4 concurrent workers.\n",
      "[Parallel(n_jobs=-1)]: Done   3 out of   3 | elapsed:    6.1s finished\n"
     ]
    },
    {
     "name": "stdout",
     "output_type": "stream",
     "text": [
      "Learning rate set to 0.5\n",
      "0:\tlearn: 3135.8907654\ttotal: 76ms\tremaining: 2.2s\n",
      "1:\tlearn: 2544.8964586\ttotal: 150ms\tremaining: 2.1s\n",
      "2:\tlearn: 2285.5617636\ttotal: 229ms\tremaining: 2.06s\n",
      "3:\tlearn: 2166.2933356\ttotal: 423ms\tremaining: 2.75s\n",
      "4:\tlearn: 2082.2201770\ttotal: 535ms\tremaining: 2.67s\n",
      "5:\tlearn: 2034.4051266\ttotal: 664ms\tremaining: 2.65s\n",
      "6:\tlearn: 2000.4048716\ttotal: 776ms\tremaining: 2.55s\n",
      "7:\tlearn: 1982.0093025\ttotal: 901ms\tremaining: 2.48s\n",
      "8:\tlearn: 1962.5590213\ttotal: 1.01s\tremaining: 2.36s\n",
      "9:\tlearn: 1947.1281268\ttotal: 1.15s\tremaining: 2.31s\n",
      "10:\tlearn: 1922.4461363\ttotal: 1.31s\tremaining: 2.27s\n",
      "11:\tlearn: 1913.8630785\ttotal: 1.45s\tremaining: 2.17s\n",
      "12:\tlearn: 1903.5518333\ttotal: 1.55s\tremaining: 2.02s\n",
      "13:\tlearn: 1895.8383846\ttotal: 1.63s\tremaining: 1.86s\n",
      "14:\tlearn: 1887.6694861\ttotal: 1.73s\tremaining: 1.73s\n",
      "15:\tlearn: 1876.6970835\ttotal: 1.81s\tremaining: 1.58s\n",
      "16:\tlearn: 1866.8155795\ttotal: 1.89s\tremaining: 1.44s\n",
      "17:\tlearn: 1861.7979485\ttotal: 1.97s\tremaining: 1.31s\n",
      "18:\tlearn: 1856.9574137\ttotal: 2.04s\tremaining: 1.18s\n",
      "19:\tlearn: 1849.3025360\ttotal: 2.12s\tremaining: 1.06s\n",
      "20:\tlearn: 1843.7891472\ttotal: 2.19s\tremaining: 938ms\n",
      "21:\tlearn: 1839.2714403\ttotal: 2.26s\tremaining: 822ms\n",
      "22:\tlearn: 1830.9821409\ttotal: 2.34s\tremaining: 713ms\n",
      "23:\tlearn: 1823.5463606\ttotal: 2.42s\tremaining: 605ms\n",
      "24:\tlearn: 1820.3787091\ttotal: 2.49s\tremaining: 498ms\n",
      "25:\tlearn: 1812.0294534\ttotal: 2.56s\tremaining: 394ms\n",
      "26:\tlearn: 1807.1465610\ttotal: 2.63s\tremaining: 293ms\n",
      "27:\tlearn: 1802.2289479\ttotal: 2.71s\tremaining: 194ms\n",
      "28:\tlearn: 1794.8141455\ttotal: 2.79s\tremaining: 96.3ms\n",
      "29:\tlearn: 1790.0308826\ttotal: 2.87s\tremaining: 0us\n",
      "Лучшие гиперпараметры:\n",
      "{'depth': 10, 'iterations': 30}\n",
      "Метрика RMSE на обучении: 1858.34\n",
      "Время обучения: 9.2 сек\n",
      "\n",
      "Метрика RMSE на тестовой выборке: 1862.17\n",
      "Время предсказания: 0.019 сек\n"
     ]
    }
   ],
   "source": [
    "# Задаем гиперпараметры\n",
    "param_grid_262 = {'iterations': [10, 30],\n",
    "                'depth': [6, 8, 10]}\n",
    "# сразу подставляем лушие параметры\n",
    "param_grid_262 = {'iterations': [30],\n",
    "                'depth': [10]}\n",
    "\n",
    "# Задаем модель\n",
    "model_Cat_iter_30 = GridSearchCV(\n",
    "    estimator = CatBoostRegressor(random_state=42),\n",
    "    param_grid= param_grid_262, cv=3, verbose=1, n_jobs=-1, scoring = my_scorer)\n",
    "\n",
    "# Обучаем модель\n",
    "model_best_Cat_iter_30, model_params_Cat_iter_30, fit_RMSE_Cat_iter_30, fit_time_Cat_iter_30 = model_train(X_scaled_ordinal_train, y_train, model_Cat_iter_30)\n",
    "\n",
    "# Считаем метрику на тестовой выборке\n",
    "predict_RMSE_Cat_iter_30, predict_time_Cat_iter_30 =  model_test(X_scaled_ordinal_test, y_test, model_best_Cat_iter_30)"
   ]
  },
  {
   "cell_type": "markdown",
   "metadata": {},
   "source": [
    "### 2.6.3 Модель Catboost / iterations = 100"
   ]
  },
  {
   "cell_type": "code",
   "execution_count": 66,
   "metadata": {},
   "outputs": [
    {
     "name": "stdout",
     "output_type": "stream",
     "text": [
      "Fitting 3 folds for each of 1 candidates, totalling 3 fits\n"
     ]
    },
    {
     "name": "stderr",
     "output_type": "stream",
     "text": [
      "[Parallel(n_jobs=-1)]: Using backend LokyBackend with 4 concurrent workers.\n",
      "[Parallel(n_jobs=-1)]: Done   3 out of   3 | elapsed:   16.3s finished\n"
     ]
    },
    {
     "name": "stdout",
     "output_type": "stream",
     "text": [
      "Learning rate set to 0.5\n",
      "0:\tlearn: 3135.8907654\ttotal: 77.6ms\tremaining: 7.68s\n",
      "1:\tlearn: 2544.8964586\ttotal: 183ms\tremaining: 8.99s\n",
      "2:\tlearn: 2285.5617636\ttotal: 255ms\tremaining: 8.24s\n",
      "3:\tlearn: 2166.2933356\ttotal: 326ms\tremaining: 7.81s\n",
      "4:\tlearn: 2082.2201770\ttotal: 396ms\tremaining: 7.53s\n",
      "5:\tlearn: 2034.4051266\ttotal: 475ms\tremaining: 7.43s\n",
      "6:\tlearn: 2000.4048716\ttotal: 570ms\tremaining: 7.57s\n",
      "7:\tlearn: 1982.0093025\ttotal: 649ms\tremaining: 7.46s\n",
      "8:\tlearn: 1962.5590213\ttotal: 746ms\tremaining: 7.54s\n",
      "9:\tlearn: 1947.1281268\ttotal: 952ms\tremaining: 8.57s\n",
      "10:\tlearn: 1922.4461363\ttotal: 1.07s\tremaining: 8.7s\n",
      "11:\tlearn: 1913.8630785\ttotal: 1.19s\tremaining: 8.69s\n",
      "12:\tlearn: 1903.5518333\ttotal: 1.32s\tremaining: 8.87s\n",
      "13:\tlearn: 1895.8383846\ttotal: 1.45s\tremaining: 8.91s\n",
      "14:\tlearn: 1887.6694861\ttotal: 1.57s\tremaining: 8.89s\n",
      "15:\tlearn: 1876.6970835\ttotal: 1.65s\tremaining: 8.69s\n",
      "16:\tlearn: 1866.8155795\ttotal: 1.74s\tremaining: 8.49s\n",
      "17:\tlearn: 1861.7979485\ttotal: 1.82s\tremaining: 8.28s\n",
      "18:\tlearn: 1856.9574137\ttotal: 1.89s\tremaining: 8.06s\n",
      "19:\tlearn: 1849.3025360\ttotal: 1.96s\tremaining: 7.85s\n",
      "20:\tlearn: 1843.7891472\ttotal: 2.04s\tremaining: 7.67s\n",
      "21:\tlearn: 1839.2714403\ttotal: 2.11s\tremaining: 7.49s\n",
      "22:\tlearn: 1830.9821409\ttotal: 2.18s\tremaining: 7.3s\n",
      "23:\tlearn: 1823.5463606\ttotal: 2.25s\tremaining: 7.13s\n",
      "24:\tlearn: 1820.3787091\ttotal: 2.32s\tremaining: 6.97s\n",
      "25:\tlearn: 1812.0294534\ttotal: 2.4s\tremaining: 6.82s\n",
      "26:\tlearn: 1807.1465610\ttotal: 2.47s\tremaining: 6.67s\n",
      "27:\tlearn: 1802.2289479\ttotal: 2.54s\tremaining: 6.53s\n",
      "28:\tlearn: 1794.8141455\ttotal: 2.61s\tremaining: 6.39s\n",
      "29:\tlearn: 1790.0308826\ttotal: 2.68s\tremaining: 6.25s\n",
      "30:\tlearn: 1785.0237188\ttotal: 2.76s\tremaining: 6.14s\n",
      "31:\tlearn: 1781.7707915\ttotal: 2.83s\tremaining: 6.01s\n",
      "32:\tlearn: 1778.8476021\ttotal: 2.9s\tremaining: 5.9s\n",
      "33:\tlearn: 1774.2143178\ttotal: 2.99s\tremaining: 5.81s\n",
      "34:\tlearn: 1769.4217658\ttotal: 3.09s\tremaining: 5.73s\n",
      "35:\tlearn: 1765.1515613\ttotal: 3.15s\tremaining: 5.61s\n",
      "36:\tlearn: 1762.9226007\ttotal: 3.22s\tremaining: 5.49s\n",
      "37:\tlearn: 1759.9136484\ttotal: 3.29s\tremaining: 5.37s\n",
      "38:\tlearn: 1756.2918932\ttotal: 3.36s\tremaining: 5.26s\n",
      "39:\tlearn: 1751.5798288\ttotal: 3.44s\tremaining: 5.15s\n",
      "40:\tlearn: 1747.1503529\ttotal: 3.51s\tremaining: 5.05s\n",
      "41:\tlearn: 1743.7921912\ttotal: 3.59s\tremaining: 4.95s\n",
      "42:\tlearn: 1740.9003171\ttotal: 3.66s\tremaining: 4.85s\n",
      "43:\tlearn: 1734.9006064\ttotal: 3.74s\tremaining: 4.76s\n",
      "44:\tlearn: 1731.0429446\ttotal: 3.81s\tremaining: 4.66s\n",
      "45:\tlearn: 1727.8717158\ttotal: 3.89s\tremaining: 4.56s\n",
      "46:\tlearn: 1724.0828276\ttotal: 3.98s\tremaining: 4.49s\n",
      "47:\tlearn: 1719.4184596\ttotal: 4.05s\tremaining: 4.39s\n",
      "48:\tlearn: 1716.4458081\ttotal: 4.13s\tremaining: 4.3s\n",
      "49:\tlearn: 1712.9563831\ttotal: 4.2s\tremaining: 4.2s\n",
      "50:\tlearn: 1711.3394800\ttotal: 4.27s\tremaining: 4.1s\n",
      "51:\tlearn: 1709.0675675\ttotal: 4.34s\tremaining: 4.01s\n",
      "52:\tlearn: 1705.9879339\ttotal: 4.41s\tremaining: 3.91s\n",
      "53:\tlearn: 1703.7367410\ttotal: 4.48s\tremaining: 3.82s\n",
      "54:\tlearn: 1701.5130697\ttotal: 4.56s\tremaining: 3.73s\n",
      "55:\tlearn: 1698.5795559\ttotal: 4.63s\tremaining: 3.64s\n",
      "56:\tlearn: 1695.7372259\ttotal: 4.7s\tremaining: 3.54s\n",
      "57:\tlearn: 1692.7100589\ttotal: 4.78s\tremaining: 3.46s\n",
      "58:\tlearn: 1690.9394272\ttotal: 4.85s\tremaining: 3.37s\n",
      "59:\tlearn: 1687.8957403\ttotal: 4.92s\tremaining: 3.28s\n",
      "60:\tlearn: 1685.1825594\ttotal: 4.99s\tremaining: 3.19s\n",
      "61:\tlearn: 1683.3562821\ttotal: 5.06s\tremaining: 3.1s\n",
      "62:\tlearn: 1681.1577734\ttotal: 5.13s\tremaining: 3.01s\n",
      "63:\tlearn: 1679.1550049\ttotal: 5.2s\tremaining: 2.92s\n",
      "64:\tlearn: 1677.2357055\ttotal: 5.28s\tremaining: 2.84s\n",
      "65:\tlearn: 1674.5614889\ttotal: 5.34s\tremaining: 2.75s\n",
      "66:\tlearn: 1671.4435809\ttotal: 5.42s\tremaining: 2.67s\n",
      "67:\tlearn: 1670.2413156\ttotal: 5.49s\tremaining: 2.58s\n",
      "68:\tlearn: 1667.4848992\ttotal: 5.56s\tremaining: 2.5s\n",
      "69:\tlearn: 1665.1607475\ttotal: 5.63s\tremaining: 2.41s\n",
      "70:\tlearn: 1662.7587100\ttotal: 5.7s\tremaining: 2.33s\n",
      "71:\tlearn: 1660.7413064\ttotal: 5.76s\tremaining: 2.24s\n",
      "72:\tlearn: 1659.2994503\ttotal: 5.83s\tremaining: 2.16s\n",
      "73:\tlearn: 1657.3794597\ttotal: 5.91s\tremaining: 2.08s\n",
      "74:\tlearn: 1655.2532480\ttotal: 5.98s\tremaining: 1.99s\n",
      "75:\tlearn: 1653.3501522\ttotal: 6.04s\tremaining: 1.91s\n",
      "76:\tlearn: 1651.8211250\ttotal: 6.12s\tremaining: 1.83s\n",
      "77:\tlearn: 1649.6051613\ttotal: 6.19s\tremaining: 1.75s\n",
      "78:\tlearn: 1647.6537727\ttotal: 6.26s\tremaining: 1.66s\n",
      "79:\tlearn: 1646.2875069\ttotal: 6.33s\tremaining: 1.58s\n",
      "80:\tlearn: 1644.9374662\ttotal: 6.4s\tremaining: 1.5s\n",
      "81:\tlearn: 1643.6471261\ttotal: 6.47s\tremaining: 1.42s\n",
      "82:\tlearn: 1642.5688535\ttotal: 6.54s\tremaining: 1.34s\n",
      "83:\tlearn: 1641.0529120\ttotal: 6.6s\tremaining: 1.26s\n",
      "84:\tlearn: 1639.8942846\ttotal: 6.67s\tremaining: 1.18s\n",
      "85:\tlearn: 1637.8513690\ttotal: 6.74s\tremaining: 1.1s\n",
      "86:\tlearn: 1635.9246102\ttotal: 6.81s\tremaining: 1.02s\n",
      "87:\tlearn: 1634.1093917\ttotal: 6.88s\tremaining: 939ms\n",
      "88:\tlearn: 1632.4984731\ttotal: 6.96s\tremaining: 861ms\n",
      "89:\tlearn: 1631.5090664\ttotal: 7.05s\tremaining: 783ms\n",
      "90:\tlearn: 1630.0098552\ttotal: 7.12s\tremaining: 704ms\n",
      "91:\tlearn: 1628.2691368\ttotal: 7.2s\tremaining: 626ms\n",
      "92:\tlearn: 1627.5688950\ttotal: 7.28s\tremaining: 548ms\n",
      "93:\tlearn: 1626.3454230\ttotal: 7.35s\tremaining: 469ms\n",
      "94:\tlearn: 1625.0168812\ttotal: 7.43s\tremaining: 391ms\n",
      "95:\tlearn: 1623.8900625\ttotal: 7.51s\tremaining: 313ms\n",
      "96:\tlearn: 1622.6431252\ttotal: 7.59s\tremaining: 235ms\n",
      "97:\tlearn: 1620.3027519\ttotal: 7.66s\tremaining: 156ms\n",
      "98:\tlearn: 1618.5378262\ttotal: 7.72s\tremaining: 78ms\n",
      "99:\tlearn: 1617.2390435\ttotal: 7.81s\tremaining: 0us\n",
      "Лучшие гиперпараметры:\n",
      "{'depth': 10, 'iterations': 100}\n",
      "Метрика RMSE на обучении: 1778.3\n",
      "Время обучения: 2.4e+01 сек\n",
      "\n",
      "Метрика RMSE на тестовой выборке: 1777.59\n",
      "Время предсказания: 0.075 сек\n"
     ]
    }
   ],
   "source": [
    "# Задаем гиперпараметры\n",
    "param_grid_263 = {'iterations': [10, 30],\n",
    "                'depth': [6, 8, 10]}\n",
    "# сразу подставляем лушие параметры\n",
    "param_grid_263 = {'iterations': [100],\n",
    "                'depth': [10]}\n",
    "\n",
    "# Задаем модель\n",
    "model_Cat_iter_100 = GridSearchCV(\n",
    "    estimator = CatBoostRegressor(random_state=42),\n",
    "    param_grid= param_grid_263, cv=3, verbose=1, n_jobs=-1, scoring = my_scorer)\n",
    "\n",
    "# Обучаем модель\n",
    "model_best_Cat_iter_100, model_params_Cat_iter_100, fit_RMSE_Cat_iter_100, fit_time_Cat_iter_100 = model_train(X_scaled_ordinal_train, y_train, model_Cat_iter_100)\n",
    "\n",
    "# Считаем метрику на тестовой выборке\n",
    "predict_RMSE_Cat_iter_100, predict_time_Cat_iter_100 =  model_test(X_scaled_ordinal_test, y_test, model_best_Cat_iter_100)"
   ]
  },
  {
   "cell_type": "markdown",
   "metadata": {},
   "source": [
    "# 3. Анализ моделей"
   ]
  },
  {
   "cell_type": "markdown",
   "metadata": {},
   "source": [
    "Объединим результаты в таблицу. Напоминаем, что для всех моделей (где применимо) брали n_estimators = 10, iterations = 10)"
   ]
  },
  {
   "cell_type": "code",
   "execution_count": 67,
   "metadata": {},
   "outputs": [
    {
     "data": {
      "text/html": [
       "<div>\n",
       "<style scoped>\n",
       "    .dataframe tbody tr th:only-of-type {\n",
       "        vertical-align: middle;\n",
       "    }\n",
       "\n",
       "    .dataframe tbody tr th {\n",
       "        vertical-align: top;\n",
       "    }\n",
       "\n",
       "    .dataframe thead th {\n",
       "        text-align: right;\n",
       "    }\n",
       "</style>\n",
       "<table border=\"1\" class=\"dataframe\">\n",
       "  <thead>\n",
       "    <tr style=\"text-align: right;\">\n",
       "      <th></th>\n",
       "      <th>preprocessing</th>\n",
       "      <th>fit_time_sec</th>\n",
       "      <th>predict_time_sec</th>\n",
       "      <th>train_RMSE_score</th>\n",
       "      <th>test_RMSE_score</th>\n",
       "    </tr>\n",
       "  </thead>\n",
       "  <tbody>\n",
       "    <tr>\n",
       "      <th>const</th>\n",
       "      <td>no</td>\n",
       "      <td>0.0</td>\n",
       "      <td>0.000</td>\n",
       "      <td>4847.009040</td>\n",
       "      <td>4525.938330</td>\n",
       "    </tr>\n",
       "    <tr>\n",
       "      <th>LinReg</th>\n",
       "      <td>scaled_onehot</td>\n",
       "      <td>20.6</td>\n",
       "      <td>0.160</td>\n",
       "      <td>2752.205209</td>\n",
       "      <td>2778.991234</td>\n",
       "    </tr>\n",
       "    <tr>\n",
       "      <th>RandomForrest_onehot(n_estim=30)</th>\n",
       "      <td>scaled_onehot</td>\n",
       "      <td>226.2</td>\n",
       "      <td>0.292</td>\n",
       "      <td>2044.328241</td>\n",
       "      <td>2073.666532</td>\n",
       "    </tr>\n",
       "    <tr>\n",
       "      <th>RandomForrest_ordinal(n_estim=30)</th>\n",
       "      <td>scaled_ordinal</td>\n",
       "      <td>35.7</td>\n",
       "      <td>0.353</td>\n",
       "      <td>1776.971836</td>\n",
       "      <td>1758.028998</td>\n",
       "    </tr>\n",
       "    <tr>\n",
       "      <th>XGB_onehot(n_estim=30)</th>\n",
       "      <td>scaled_onehot</td>\n",
       "      <td>383.7</td>\n",
       "      <td>1.156</td>\n",
       "      <td>1766.475121</td>\n",
       "      <td>1730.174623</td>\n",
       "    </tr>\n",
       "    <tr>\n",
       "      <th>XGB_ordinal(n_estim=30)</th>\n",
       "      <td>scaled_ordinal</td>\n",
       "      <td>26.1</td>\n",
       "      <td>0.179</td>\n",
       "      <td>1773.585260</td>\n",
       "      <td>1738.337325</td>\n",
       "    </tr>\n",
       "    <tr>\n",
       "      <th>LGBM_(n_estim=10)</th>\n",
       "      <td>scaled_ordinal</td>\n",
       "      <td>6.9</td>\n",
       "      <td>0.163</td>\n",
       "      <td>2338.482200</td>\n",
       "      <td>2344.625383</td>\n",
       "    </tr>\n",
       "    <tr>\n",
       "      <th>LGBM_(n_estim=30)</th>\n",
       "      <td>scaled_ordinal</td>\n",
       "      <td>11.3</td>\n",
       "      <td>0.186</td>\n",
       "      <td>1765.859439</td>\n",
       "      <td>1754.613301</td>\n",
       "    </tr>\n",
       "    <tr>\n",
       "      <th>LGBM_(n_estim=100)</th>\n",
       "      <td>scaled_ordinal</td>\n",
       "      <td>34.9</td>\n",
       "      <td>0.949</td>\n",
       "      <td>1735.112154</td>\n",
       "      <td>1702.290280</td>\n",
       "    </tr>\n",
       "    <tr>\n",
       "      <th>CatBoost_(iterations=10)</th>\n",
       "      <td>scaled_ordinal</td>\n",
       "      <td>4.5</td>\n",
       "      <td>0.011</td>\n",
       "      <td>1974.608418</td>\n",
       "      <td>1988.742934</td>\n",
       "    </tr>\n",
       "    <tr>\n",
       "      <th>CatBoost_(iterations=30)</th>\n",
       "      <td>scaled_ordinal</td>\n",
       "      <td>9.2</td>\n",
       "      <td>0.019</td>\n",
       "      <td>1858.341503</td>\n",
       "      <td>1862.171063</td>\n",
       "    </tr>\n",
       "    <tr>\n",
       "      <th>CatBoost_(iterations=100)</th>\n",
       "      <td>scaled_ordinal</td>\n",
       "      <td>24.5</td>\n",
       "      <td>0.075</td>\n",
       "      <td>1778.302453</td>\n",
       "      <td>1777.589745</td>\n",
       "    </tr>\n",
       "  </tbody>\n",
       "</table>\n",
       "</div>"
      ],
      "text/plain": [
       "                                    preprocessing  fit_time_sec  \\\n",
       "const                                          no           0.0   \n",
       "LinReg                              scaled_onehot          20.6   \n",
       "RandomForrest_onehot(n_estim=30)    scaled_onehot         226.2   \n",
       "RandomForrest_ordinal(n_estim=30)  scaled_ordinal          35.7   \n",
       "XGB_onehot(n_estim=30)              scaled_onehot         383.7   \n",
       "XGB_ordinal(n_estim=30)            scaled_ordinal          26.1   \n",
       "LGBM_(n_estim=10)                  scaled_ordinal           6.9   \n",
       "LGBM_(n_estim=30)                  scaled_ordinal          11.3   \n",
       "LGBM_(n_estim=100)                 scaled_ordinal          34.9   \n",
       "CatBoost_(iterations=10)           scaled_ordinal           4.5   \n",
       "CatBoost_(iterations=30)           scaled_ordinal           9.2   \n",
       "CatBoost_(iterations=100)          scaled_ordinal          24.5   \n",
       "\n",
       "                                   predict_time_sec  train_RMSE_score  \\\n",
       "const                                         0.000       4847.009040   \n",
       "LinReg                                        0.160       2752.205209   \n",
       "RandomForrest_onehot(n_estim=30)              0.292       2044.328241   \n",
       "RandomForrest_ordinal(n_estim=30)             0.353       1776.971836   \n",
       "XGB_onehot(n_estim=30)                        1.156       1766.475121   \n",
       "XGB_ordinal(n_estim=30)                       0.179       1773.585260   \n",
       "LGBM_(n_estim=10)                             0.163       2338.482200   \n",
       "LGBM_(n_estim=30)                             0.186       1765.859439   \n",
       "LGBM_(n_estim=100)                            0.949       1735.112154   \n",
       "CatBoost_(iterations=10)                      0.011       1974.608418   \n",
       "CatBoost_(iterations=30)                      0.019       1858.341503   \n",
       "CatBoost_(iterations=100)                     0.075       1778.302453   \n",
       "\n",
       "                                   test_RMSE_score  \n",
       "const                                  4525.938330  \n",
       "LinReg                                 2778.991234  \n",
       "RandomForrest_onehot(n_estim=30)       2073.666532  \n",
       "RandomForrest_ordinal(n_estim=30)      1758.028998  \n",
       "XGB_onehot(n_estim=30)                 1730.174623  \n",
       "XGB_ordinal(n_estim=30)                1738.337325  \n",
       "LGBM_(n_estim=10)                      2344.625383  \n",
       "LGBM_(n_estim=30)                      1754.613301  \n",
       "LGBM_(n_estim=100)                     1702.290280  \n",
       "CatBoost_(iterations=10)               1988.742934  \n",
       "CatBoost_(iterations=30)               1862.171063  \n",
       "CatBoost_(iterations=100)              1777.589745  "
      ]
     },
     "execution_count": 67,
     "metadata": {},
     "output_type": "execute_result"
    }
   ],
   "source": [
    "models_analysis = pd.DataFrame({\n",
    "   # Время обучения:\n",
    "    'preprocessing':['no', 'scaled_onehot', 'scaled_onehot', 'scaled_ordinal', 'scaled_onehot', 'scaled_ordinal',\n",
    "                     'scaled_ordinal', 'scaled_ordinal', 'scaled_ordinal', 'scaled_ordinal', 'scaled_ordinal', 'scaled_ordinal'],\n",
    "    \n",
    "    'fit_time_sec':[0, fit_time_LR, fit_time_RF_onehot, fit_time_RF_ordinal, fit_time_XGB_onehot, fit_time_XGB_ordinal,  \n",
    "                    fit_time_LGBM_estim_10, fit_time_LGBM_estim_30, fit_time_LGBM_estim_100,\n",
    "                    fit_time_Cat_iter_10, fit_time_Cat_iter_30, fit_time_Cat_iter_100],\n",
    "    \n",
    "    'predict_time_sec':[0, predict_time_LR, predict_time_RF_onehot, predict_time_RF_ordinal, predict_time_XGB_onehot, predict_time_XGB_ordinal,\n",
    "                        predict_time_LGBM_estim_10, predict_time_LGBM_estim_30, predict_time_LGBM_estim_100,\n",
    "                        predict_time_Cat_iter_10, predict_time_Cat_iter_30, predict_time_Cat_iter_100],\n",
    "    \n",
    "    'train_RMSE_score':[RMSE_const_model_train, fit_RMSE_LR, fit_RMSE_RF_onehot, fit_RMSE_RF_ordinal, fit_RMSE_XGB_onehot, fit_RMSE_XGB_ordinal,\n",
    "                        fit_RMSE_LGBM_estim_10, fit_RMSE_LGBM_estim_30, fit_RMSE_LGBM_estim_100,\n",
    "                        fit_RMSE_Cat_iter_10, fit_RMSE_Cat_iter_30, fit_RMSE_Cat_iter_100],\n",
    "    \n",
    "    'test_RMSE_score':[RMSE_const_model_test, predict_RMSE_LR, predict_RMSE_RF_onehot, predict_RMSE_RF_ordinal, predict_RMSE_XGB_onehot, predict_RMSE_XGB_ordinal,\n",
    "                       predict_RMSE_LGBM_estim_10, predict_RMSE_LGBM_estim_30, predict_RMSE_LGBM_estim_100,\n",
    "                       predict_RMSE_Cat_iter_10, predict_RMSE_Cat_iter_30, predict_RMSE_Cat_iter_100]\n",
    "    \n",
    "   }, index = ['const', 'LinReg', 'RandomForrest_onehot(n_estim=30)', 'RandomForrest_ordinal(n_estim=30)', 'XGB_onehot(n_estim=30)', 'XGB_ordinal(n_estim=30)',\n",
    "               'LGBM_(n_estim=10)', 'LGBM_(n_estim=30)', 'LGBM_(n_estim=100)',\n",
    "               'CatBoost_(iterations=10)', 'CatBoost_(iterations=30)', 'CatBoost_(iterations=100)'] )\n",
    "                                            \n",
    "models_analysis"
   ]
  },
  {
   "cell_type": "markdown",
   "metadata": {},
   "source": [
    "Также отобразим на графике"
   ]
  },
  {
   "cell_type": "code",
   "execution_count": 69,
   "metadata": {},
   "outputs": [
    {
     "data": {
      "application/vnd.plotly.v1+json": {
       "config": {
        "plotlyServerURL": "https://plot.ly"
       },
       "data": [
        {
         "mode": "lines+markers",
         "name": "train_RMSE_score",
         "type": "scatter",
         "x": [
          "const",
          "LinReg",
          "RandomForrest_onehot(n_estim=30)",
          "RandomForrest_ordinal(n_estim=30)",
          "XGB_onehot(n_estim=30)",
          "XGB_ordinal(n_estim=30)",
          "LGBM_(n_estim=10)",
          "LGBM_(n_estim=30)",
          "LGBM_(n_estim=100)",
          "CatBoost_(iterations=10)",
          "CatBoost_(iterations=30)",
          "CatBoost_(iterations=100)"
         ],
         "y": [
          4847.009040324543,
          2752.205208782416,
          2044.3282414321577,
          1776.9718359056703,
          1766.4751211105038,
          1773.5852601631423,
          2338.4821997555096,
          1765.8594388085705,
          1735.1121539950261,
          1974.6084175853948,
          1858.3415033950141,
          1778.3024528772512
         ]
        },
        {
         "mode": "lines+markers",
         "name": "test_RMSE_score",
         "type": "scatter",
         "x": [
          "const",
          "LinReg",
          "RandomForrest_onehot(n_estim=30)",
          "RandomForrest_ordinal(n_estim=30)",
          "XGB_onehot(n_estim=30)",
          "XGB_ordinal(n_estim=30)",
          "LGBM_(n_estim=10)",
          "LGBM_(n_estim=30)",
          "LGBM_(n_estim=100)",
          "CatBoost_(iterations=10)",
          "CatBoost_(iterations=30)",
          "CatBoost_(iterations=100)"
         ],
         "y": [
          4525.938329766491,
          2778.9912336340763,
          2073.6665317220427,
          1758.028997752642,
          1730.1746231808693,
          1738.337324713593,
          2344.625382514062,
          1754.6133008067773,
          1702.2902803245215,
          1988.7429340521928,
          1862.171062894899,
          1777.5897449964223
         ]
        }
       ],
       "layout": {
        "font": {
         "size": 14
        },
        "height": 800,
        "legend": {
         "bordercolor": "Black",
         "borderwidth": 2,
         "font": {
          "color": "black",
          "family": "Courier",
          "size": 16
         },
         "title": {
          "text": "Графики"
         },
         "traceorder": "reversed",
         "x": 0.7,
         "y": 1
        },
        "template": {
         "data": {
          "bar": [
           {
            "error_x": {
             "color": "#2a3f5f"
            },
            "error_y": {
             "color": "#2a3f5f"
            },
            "marker": {
             "line": {
              "color": "#E5ECF6",
              "width": 0.5
             }
            },
            "type": "bar"
           }
          ],
          "barpolar": [
           {
            "marker": {
             "line": {
              "color": "#E5ECF6",
              "width": 0.5
             }
            },
            "type": "barpolar"
           }
          ],
          "carpet": [
           {
            "aaxis": {
             "endlinecolor": "#2a3f5f",
             "gridcolor": "white",
             "linecolor": "white",
             "minorgridcolor": "white",
             "startlinecolor": "#2a3f5f"
            },
            "baxis": {
             "endlinecolor": "#2a3f5f",
             "gridcolor": "white",
             "linecolor": "white",
             "minorgridcolor": "white",
             "startlinecolor": "#2a3f5f"
            },
            "type": "carpet"
           }
          ],
          "choropleth": [
           {
            "colorbar": {
             "outlinewidth": 0,
             "ticks": ""
            },
            "type": "choropleth"
           }
          ],
          "contour": [
           {
            "colorbar": {
             "outlinewidth": 0,
             "ticks": ""
            },
            "colorscale": [
             [
              0,
              "#0d0887"
             ],
             [
              0.1111111111111111,
              "#46039f"
             ],
             [
              0.2222222222222222,
              "#7201a8"
             ],
             [
              0.3333333333333333,
              "#9c179e"
             ],
             [
              0.4444444444444444,
              "#bd3786"
             ],
             [
              0.5555555555555556,
              "#d8576b"
             ],
             [
              0.6666666666666666,
              "#ed7953"
             ],
             [
              0.7777777777777778,
              "#fb9f3a"
             ],
             [
              0.8888888888888888,
              "#fdca26"
             ],
             [
              1,
              "#f0f921"
             ]
            ],
            "type": "contour"
           }
          ],
          "contourcarpet": [
           {
            "colorbar": {
             "outlinewidth": 0,
             "ticks": ""
            },
            "type": "contourcarpet"
           }
          ],
          "heatmap": [
           {
            "colorbar": {
             "outlinewidth": 0,
             "ticks": ""
            },
            "colorscale": [
             [
              0,
              "#0d0887"
             ],
             [
              0.1111111111111111,
              "#46039f"
             ],
             [
              0.2222222222222222,
              "#7201a8"
             ],
             [
              0.3333333333333333,
              "#9c179e"
             ],
             [
              0.4444444444444444,
              "#bd3786"
             ],
             [
              0.5555555555555556,
              "#d8576b"
             ],
             [
              0.6666666666666666,
              "#ed7953"
             ],
             [
              0.7777777777777778,
              "#fb9f3a"
             ],
             [
              0.8888888888888888,
              "#fdca26"
             ],
             [
              1,
              "#f0f921"
             ]
            ],
            "type": "heatmap"
           }
          ],
          "heatmapgl": [
           {
            "colorbar": {
             "outlinewidth": 0,
             "ticks": ""
            },
            "colorscale": [
             [
              0,
              "#0d0887"
             ],
             [
              0.1111111111111111,
              "#46039f"
             ],
             [
              0.2222222222222222,
              "#7201a8"
             ],
             [
              0.3333333333333333,
              "#9c179e"
             ],
             [
              0.4444444444444444,
              "#bd3786"
             ],
             [
              0.5555555555555556,
              "#d8576b"
             ],
             [
              0.6666666666666666,
              "#ed7953"
             ],
             [
              0.7777777777777778,
              "#fb9f3a"
             ],
             [
              0.8888888888888888,
              "#fdca26"
             ],
             [
              1,
              "#f0f921"
             ]
            ],
            "type": "heatmapgl"
           }
          ],
          "histogram": [
           {
            "marker": {
             "colorbar": {
              "outlinewidth": 0,
              "ticks": ""
             }
            },
            "type": "histogram"
           }
          ],
          "histogram2d": [
           {
            "colorbar": {
             "outlinewidth": 0,
             "ticks": ""
            },
            "colorscale": [
             [
              0,
              "#0d0887"
             ],
             [
              0.1111111111111111,
              "#46039f"
             ],
             [
              0.2222222222222222,
              "#7201a8"
             ],
             [
              0.3333333333333333,
              "#9c179e"
             ],
             [
              0.4444444444444444,
              "#bd3786"
             ],
             [
              0.5555555555555556,
              "#d8576b"
             ],
             [
              0.6666666666666666,
              "#ed7953"
             ],
             [
              0.7777777777777778,
              "#fb9f3a"
             ],
             [
              0.8888888888888888,
              "#fdca26"
             ],
             [
              1,
              "#f0f921"
             ]
            ],
            "type": "histogram2d"
           }
          ],
          "histogram2dcontour": [
           {
            "colorbar": {
             "outlinewidth": 0,
             "ticks": ""
            },
            "colorscale": [
             [
              0,
              "#0d0887"
             ],
             [
              0.1111111111111111,
              "#46039f"
             ],
             [
              0.2222222222222222,
              "#7201a8"
             ],
             [
              0.3333333333333333,
              "#9c179e"
             ],
             [
              0.4444444444444444,
              "#bd3786"
             ],
             [
              0.5555555555555556,
              "#d8576b"
             ],
             [
              0.6666666666666666,
              "#ed7953"
             ],
             [
              0.7777777777777778,
              "#fb9f3a"
             ],
             [
              0.8888888888888888,
              "#fdca26"
             ],
             [
              1,
              "#f0f921"
             ]
            ],
            "type": "histogram2dcontour"
           }
          ],
          "mesh3d": [
           {
            "colorbar": {
             "outlinewidth": 0,
             "ticks": ""
            },
            "type": "mesh3d"
           }
          ],
          "parcoords": [
           {
            "line": {
             "colorbar": {
              "outlinewidth": 0,
              "ticks": ""
             }
            },
            "type": "parcoords"
           }
          ],
          "pie": [
           {
            "automargin": true,
            "type": "pie"
           }
          ],
          "scatter": [
           {
            "marker": {
             "colorbar": {
              "outlinewidth": 0,
              "ticks": ""
             }
            },
            "type": "scatter"
           }
          ],
          "scatter3d": [
           {
            "line": {
             "colorbar": {
              "outlinewidth": 0,
              "ticks": ""
             }
            },
            "marker": {
             "colorbar": {
              "outlinewidth": 0,
              "ticks": ""
             }
            },
            "type": "scatter3d"
           }
          ],
          "scattercarpet": [
           {
            "marker": {
             "colorbar": {
              "outlinewidth": 0,
              "ticks": ""
             }
            },
            "type": "scattercarpet"
           }
          ],
          "scattergeo": [
           {
            "marker": {
             "colorbar": {
              "outlinewidth": 0,
              "ticks": ""
             }
            },
            "type": "scattergeo"
           }
          ],
          "scattergl": [
           {
            "marker": {
             "colorbar": {
              "outlinewidth": 0,
              "ticks": ""
             }
            },
            "type": "scattergl"
           }
          ],
          "scattermapbox": [
           {
            "marker": {
             "colorbar": {
              "outlinewidth": 0,
              "ticks": ""
             }
            },
            "type": "scattermapbox"
           }
          ],
          "scatterpolar": [
           {
            "marker": {
             "colorbar": {
              "outlinewidth": 0,
              "ticks": ""
             }
            },
            "type": "scatterpolar"
           }
          ],
          "scatterpolargl": [
           {
            "marker": {
             "colorbar": {
              "outlinewidth": 0,
              "ticks": ""
             }
            },
            "type": "scatterpolargl"
           }
          ],
          "scatterternary": [
           {
            "marker": {
             "colorbar": {
              "outlinewidth": 0,
              "ticks": ""
             }
            },
            "type": "scatterternary"
           }
          ],
          "surface": [
           {
            "colorbar": {
             "outlinewidth": 0,
             "ticks": ""
            },
            "colorscale": [
             [
              0,
              "#0d0887"
             ],
             [
              0.1111111111111111,
              "#46039f"
             ],
             [
              0.2222222222222222,
              "#7201a8"
             ],
             [
              0.3333333333333333,
              "#9c179e"
             ],
             [
              0.4444444444444444,
              "#bd3786"
             ],
             [
              0.5555555555555556,
              "#d8576b"
             ],
             [
              0.6666666666666666,
              "#ed7953"
             ],
             [
              0.7777777777777778,
              "#fb9f3a"
             ],
             [
              0.8888888888888888,
              "#fdca26"
             ],
             [
              1,
              "#f0f921"
             ]
            ],
            "type": "surface"
           }
          ],
          "table": [
           {
            "cells": {
             "fill": {
              "color": "#EBF0F8"
             },
             "line": {
              "color": "white"
             }
            },
            "header": {
             "fill": {
              "color": "#C8D4E3"
             },
             "line": {
              "color": "white"
             }
            },
            "type": "table"
           }
          ]
         },
         "layout": {
          "annotationdefaults": {
           "arrowcolor": "#2a3f5f",
           "arrowhead": 0,
           "arrowwidth": 1
          },
          "coloraxis": {
           "colorbar": {
            "outlinewidth": 0,
            "ticks": ""
           }
          },
          "colorscale": {
           "diverging": [
            [
             0,
             "#8e0152"
            ],
            [
             0.1,
             "#c51b7d"
            ],
            [
             0.2,
             "#de77ae"
            ],
            [
             0.3,
             "#f1b6da"
            ],
            [
             0.4,
             "#fde0ef"
            ],
            [
             0.5,
             "#f7f7f7"
            ],
            [
             0.6,
             "#e6f5d0"
            ],
            [
             0.7,
             "#b8e186"
            ],
            [
             0.8,
             "#7fbc41"
            ],
            [
             0.9,
             "#4d9221"
            ],
            [
             1,
             "#276419"
            ]
           ],
           "sequential": [
            [
             0,
             "#0d0887"
            ],
            [
             0.1111111111111111,
             "#46039f"
            ],
            [
             0.2222222222222222,
             "#7201a8"
            ],
            [
             0.3333333333333333,
             "#9c179e"
            ],
            [
             0.4444444444444444,
             "#bd3786"
            ],
            [
             0.5555555555555556,
             "#d8576b"
            ],
            [
             0.6666666666666666,
             "#ed7953"
            ],
            [
             0.7777777777777778,
             "#fb9f3a"
            ],
            [
             0.8888888888888888,
             "#fdca26"
            ],
            [
             1,
             "#f0f921"
            ]
           ],
           "sequentialminus": [
            [
             0,
             "#0d0887"
            ],
            [
             0.1111111111111111,
             "#46039f"
            ],
            [
             0.2222222222222222,
             "#7201a8"
            ],
            [
             0.3333333333333333,
             "#9c179e"
            ],
            [
             0.4444444444444444,
             "#bd3786"
            ],
            [
             0.5555555555555556,
             "#d8576b"
            ],
            [
             0.6666666666666666,
             "#ed7953"
            ],
            [
             0.7777777777777778,
             "#fb9f3a"
            ],
            [
             0.8888888888888888,
             "#fdca26"
            ],
            [
             1,
             "#f0f921"
            ]
           ]
          },
          "colorway": [
           "#636efa",
           "#EF553B",
           "#00cc96",
           "#ab63fa",
           "#FFA15A",
           "#19d3f3",
           "#FF6692",
           "#B6E880",
           "#FF97FF",
           "#FECB52"
          ],
          "font": {
           "color": "#2a3f5f"
          },
          "geo": {
           "bgcolor": "white",
           "lakecolor": "white",
           "landcolor": "#E5ECF6",
           "showlakes": true,
           "showland": true,
           "subunitcolor": "white"
          },
          "hoverlabel": {
           "align": "left"
          },
          "hovermode": "closest",
          "mapbox": {
           "style": "light"
          },
          "paper_bgcolor": "white",
          "plot_bgcolor": "#E5ECF6",
          "polar": {
           "angularaxis": {
            "gridcolor": "white",
            "linecolor": "white",
            "ticks": ""
           },
           "bgcolor": "#E5ECF6",
           "radialaxis": {
            "gridcolor": "white",
            "linecolor": "white",
            "ticks": ""
           }
          },
          "scene": {
           "xaxis": {
            "backgroundcolor": "#E5ECF6",
            "gridcolor": "white",
            "gridwidth": 2,
            "linecolor": "white",
            "showbackground": true,
            "ticks": "",
            "zerolinecolor": "white"
           },
           "yaxis": {
            "backgroundcolor": "#E5ECF6",
            "gridcolor": "white",
            "gridwidth": 2,
            "linecolor": "white",
            "showbackground": true,
            "ticks": "",
            "zerolinecolor": "white"
           },
           "zaxis": {
            "backgroundcolor": "#E5ECF6",
            "gridcolor": "white",
            "gridwidth": 2,
            "linecolor": "white",
            "showbackground": true,
            "ticks": "",
            "zerolinecolor": "white"
           }
          },
          "shapedefaults": {
           "line": {
            "color": "#2a3f5f"
           }
          },
          "ternary": {
           "aaxis": {
            "gridcolor": "white",
            "linecolor": "white",
            "ticks": ""
           },
           "baxis": {
            "gridcolor": "white",
            "linecolor": "white",
            "ticks": ""
           },
           "bgcolor": "#E5ECF6",
           "caxis": {
            "gridcolor": "white",
            "linecolor": "white",
            "ticks": ""
           }
          },
          "title": {
           "x": 0.05
          },
          "xaxis": {
           "automargin": true,
           "gridcolor": "white",
           "linecolor": "white",
           "ticks": "",
           "title": {
            "standoff": 15
           },
           "zerolinecolor": "white",
           "zerolinewidth": 2
          },
          "yaxis": {
           "automargin": true,
           "gridcolor": "white",
           "linecolor": "white",
           "ticks": "",
           "title": {
            "standoff": 15
           },
           "zerolinecolor": "white",
           "zerolinewidth": 2
          }
         }
        },
        "title": {
         "text": "RMSE для разных моделей на обучающей и тестовой выборке"
        },
        "width": 1400,
        "xaxis": {
         "title": {
          "text": "Модель"
         }
        },
        "yaxis": {
         "title": {
          "text": "RMSE"
         }
        }
       }
      },
      "text/html": [
       "<div>\n",
       "        \n",
       "        \n",
       "            <div id=\"0dcdadd0-e381-4e8a-af52-719fefb782c8\" class=\"plotly-graph-div\" style=\"height:800px; width:1400px;\"></div>\n",
       "            <script type=\"text/javascript\">\n",
       "                require([\"plotly\"], function(Plotly) {\n",
       "                    window.PLOTLYENV=window.PLOTLYENV || {};\n",
       "                    \n",
       "                if (document.getElementById(\"0dcdadd0-e381-4e8a-af52-719fefb782c8\")) {\n",
       "                    Plotly.newPlot(\n",
       "                        '0dcdadd0-e381-4e8a-af52-719fefb782c8',\n",
       "                        [{\"mode\": \"lines+markers\", \"name\": \"train_RMSE_score\", \"type\": \"scatter\", \"x\": [\"const\", \"LinReg\", \"RandomForrest_onehot(n_estim=30)\", \"RandomForrest_ordinal(n_estim=30)\", \"XGB_onehot(n_estim=30)\", \"XGB_ordinal(n_estim=30)\", \"LGBM_(n_estim=10)\", \"LGBM_(n_estim=30)\", \"LGBM_(n_estim=100)\", \"CatBoost_(iterations=10)\", \"CatBoost_(iterations=30)\", \"CatBoost_(iterations=100)\"], \"y\": [4847.009040324543, 2752.205208782416, 2044.3282414321577, 1776.9718359056703, 1766.4751211105038, 1773.5852601631423, 2338.4821997555096, 1765.8594388085705, 1735.1121539950261, 1974.6084175853948, 1858.3415033950141, 1778.3024528772512]}, {\"mode\": \"lines+markers\", \"name\": \"test_RMSE_score\", \"type\": \"scatter\", \"x\": [\"const\", \"LinReg\", \"RandomForrest_onehot(n_estim=30)\", \"RandomForrest_ordinal(n_estim=30)\", \"XGB_onehot(n_estim=30)\", \"XGB_ordinal(n_estim=30)\", \"LGBM_(n_estim=10)\", \"LGBM_(n_estim=30)\", \"LGBM_(n_estim=100)\", \"CatBoost_(iterations=10)\", \"CatBoost_(iterations=30)\", \"CatBoost_(iterations=100)\"], \"y\": [4525.938329766491, 2778.9912336340763, 2073.6665317220427, 1758.028997752642, 1730.1746231808693, 1738.337324713593, 2344.625382514062, 1754.6133008067773, 1702.2902803245215, 1988.7429340521928, 1862.171062894899, 1777.5897449964223]}],\n",
       "                        {\"font\": {\"size\": 14}, \"height\": 800, \"legend\": {\"bordercolor\": \"Black\", \"borderwidth\": 2, \"font\": {\"color\": \"black\", \"family\": \"Courier\", \"size\": 16}, \"title\": {\"text\": \"\\u0413\\u0440\\u0430\\u0444\\u0438\\u043a\\u0438\"}, \"traceorder\": \"reversed\", \"x\": 0.7, \"y\": 1}, \"template\": {\"data\": {\"bar\": [{\"error_x\": {\"color\": \"#2a3f5f\"}, \"error_y\": {\"color\": \"#2a3f5f\"}, \"marker\": {\"line\": {\"color\": \"#E5ECF6\", \"width\": 0.5}}, \"type\": \"bar\"}], \"barpolar\": [{\"marker\": {\"line\": {\"color\": \"#E5ECF6\", \"width\": 0.5}}, \"type\": \"barpolar\"}], \"carpet\": [{\"aaxis\": {\"endlinecolor\": \"#2a3f5f\", \"gridcolor\": \"white\", \"linecolor\": \"white\", \"minorgridcolor\": \"white\", \"startlinecolor\": \"#2a3f5f\"}, \"baxis\": {\"endlinecolor\": \"#2a3f5f\", \"gridcolor\": \"white\", \"linecolor\": \"white\", \"minorgridcolor\": \"white\", \"startlinecolor\": \"#2a3f5f\"}, \"type\": \"carpet\"}], \"choropleth\": [{\"colorbar\": {\"outlinewidth\": 0, \"ticks\": \"\"}, \"type\": \"choropleth\"}], \"contour\": [{\"colorbar\": {\"outlinewidth\": 0, \"ticks\": \"\"}, \"colorscale\": [[0.0, \"#0d0887\"], [0.1111111111111111, \"#46039f\"], [0.2222222222222222, \"#7201a8\"], [0.3333333333333333, \"#9c179e\"], [0.4444444444444444, \"#bd3786\"], [0.5555555555555556, \"#d8576b\"], [0.6666666666666666, \"#ed7953\"], [0.7777777777777778, \"#fb9f3a\"], [0.8888888888888888, \"#fdca26\"], [1.0, \"#f0f921\"]], \"type\": \"contour\"}], \"contourcarpet\": [{\"colorbar\": {\"outlinewidth\": 0, \"ticks\": \"\"}, \"type\": \"contourcarpet\"}], \"heatmap\": [{\"colorbar\": {\"outlinewidth\": 0, \"ticks\": \"\"}, \"colorscale\": [[0.0, \"#0d0887\"], [0.1111111111111111, \"#46039f\"], [0.2222222222222222, \"#7201a8\"], [0.3333333333333333, \"#9c179e\"], [0.4444444444444444, \"#bd3786\"], [0.5555555555555556, \"#d8576b\"], [0.6666666666666666, \"#ed7953\"], [0.7777777777777778, \"#fb9f3a\"], [0.8888888888888888, \"#fdca26\"], [1.0, \"#f0f921\"]], \"type\": \"heatmap\"}], \"heatmapgl\": [{\"colorbar\": {\"outlinewidth\": 0, \"ticks\": \"\"}, \"colorscale\": [[0.0, \"#0d0887\"], [0.1111111111111111, \"#46039f\"], [0.2222222222222222, \"#7201a8\"], [0.3333333333333333, \"#9c179e\"], [0.4444444444444444, \"#bd3786\"], [0.5555555555555556, \"#d8576b\"], [0.6666666666666666, \"#ed7953\"], [0.7777777777777778, \"#fb9f3a\"], [0.8888888888888888, \"#fdca26\"], [1.0, \"#f0f921\"]], \"type\": \"heatmapgl\"}], \"histogram\": [{\"marker\": {\"colorbar\": {\"outlinewidth\": 0, \"ticks\": \"\"}}, \"type\": \"histogram\"}], \"histogram2d\": [{\"colorbar\": {\"outlinewidth\": 0, \"ticks\": \"\"}, \"colorscale\": [[0.0, \"#0d0887\"], [0.1111111111111111, \"#46039f\"], [0.2222222222222222, \"#7201a8\"], [0.3333333333333333, \"#9c179e\"], [0.4444444444444444, \"#bd3786\"], [0.5555555555555556, \"#d8576b\"], [0.6666666666666666, \"#ed7953\"], [0.7777777777777778, \"#fb9f3a\"], [0.8888888888888888, \"#fdca26\"], [1.0, \"#f0f921\"]], \"type\": \"histogram2d\"}], \"histogram2dcontour\": [{\"colorbar\": {\"outlinewidth\": 0, \"ticks\": \"\"}, \"colorscale\": [[0.0, \"#0d0887\"], [0.1111111111111111, \"#46039f\"], [0.2222222222222222, \"#7201a8\"], [0.3333333333333333, \"#9c179e\"], [0.4444444444444444, \"#bd3786\"], [0.5555555555555556, \"#d8576b\"], [0.6666666666666666, \"#ed7953\"], [0.7777777777777778, \"#fb9f3a\"], [0.8888888888888888, \"#fdca26\"], [1.0, \"#f0f921\"]], \"type\": \"histogram2dcontour\"}], \"mesh3d\": [{\"colorbar\": {\"outlinewidth\": 0, \"ticks\": \"\"}, \"type\": \"mesh3d\"}], \"parcoords\": [{\"line\": {\"colorbar\": {\"outlinewidth\": 0, \"ticks\": \"\"}}, \"type\": \"parcoords\"}], \"pie\": [{\"automargin\": true, \"type\": \"pie\"}], \"scatter\": [{\"marker\": {\"colorbar\": {\"outlinewidth\": 0, \"ticks\": \"\"}}, \"type\": \"scatter\"}], \"scatter3d\": [{\"line\": {\"colorbar\": {\"outlinewidth\": 0, \"ticks\": \"\"}}, \"marker\": {\"colorbar\": {\"outlinewidth\": 0, \"ticks\": \"\"}}, \"type\": \"scatter3d\"}], \"scattercarpet\": [{\"marker\": {\"colorbar\": {\"outlinewidth\": 0, \"ticks\": \"\"}}, \"type\": \"scattercarpet\"}], \"scattergeo\": [{\"marker\": {\"colorbar\": {\"outlinewidth\": 0, \"ticks\": \"\"}}, \"type\": \"scattergeo\"}], \"scattergl\": [{\"marker\": {\"colorbar\": {\"outlinewidth\": 0, \"ticks\": \"\"}}, \"type\": \"scattergl\"}], \"scattermapbox\": [{\"marker\": {\"colorbar\": {\"outlinewidth\": 0, \"ticks\": \"\"}}, \"type\": \"scattermapbox\"}], \"scatterpolar\": [{\"marker\": {\"colorbar\": {\"outlinewidth\": 0, \"ticks\": \"\"}}, \"type\": \"scatterpolar\"}], \"scatterpolargl\": [{\"marker\": {\"colorbar\": {\"outlinewidth\": 0, \"ticks\": \"\"}}, \"type\": \"scatterpolargl\"}], \"scatterternary\": [{\"marker\": {\"colorbar\": {\"outlinewidth\": 0, \"ticks\": \"\"}}, \"type\": \"scatterternary\"}], \"surface\": [{\"colorbar\": {\"outlinewidth\": 0, \"ticks\": \"\"}, \"colorscale\": [[0.0, \"#0d0887\"], [0.1111111111111111, \"#46039f\"], [0.2222222222222222, \"#7201a8\"], [0.3333333333333333, \"#9c179e\"], [0.4444444444444444, \"#bd3786\"], [0.5555555555555556, \"#d8576b\"], [0.6666666666666666, \"#ed7953\"], [0.7777777777777778, \"#fb9f3a\"], [0.8888888888888888, \"#fdca26\"], [1.0, \"#f0f921\"]], \"type\": \"surface\"}], \"table\": [{\"cells\": {\"fill\": {\"color\": \"#EBF0F8\"}, \"line\": {\"color\": \"white\"}}, \"header\": {\"fill\": {\"color\": \"#C8D4E3\"}, \"line\": {\"color\": \"white\"}}, \"type\": \"table\"}]}, \"layout\": {\"annotationdefaults\": {\"arrowcolor\": \"#2a3f5f\", \"arrowhead\": 0, \"arrowwidth\": 1}, \"coloraxis\": {\"colorbar\": {\"outlinewidth\": 0, \"ticks\": \"\"}}, \"colorscale\": {\"diverging\": [[0, \"#8e0152\"], [0.1, \"#c51b7d\"], [0.2, \"#de77ae\"], [0.3, \"#f1b6da\"], [0.4, \"#fde0ef\"], [0.5, \"#f7f7f7\"], [0.6, \"#e6f5d0\"], [0.7, \"#b8e186\"], [0.8, \"#7fbc41\"], [0.9, \"#4d9221\"], [1, \"#276419\"]], \"sequential\": [[0.0, \"#0d0887\"], [0.1111111111111111, \"#46039f\"], [0.2222222222222222, \"#7201a8\"], [0.3333333333333333, \"#9c179e\"], [0.4444444444444444, \"#bd3786\"], [0.5555555555555556, \"#d8576b\"], [0.6666666666666666, \"#ed7953\"], [0.7777777777777778, \"#fb9f3a\"], [0.8888888888888888, \"#fdca26\"], [1.0, \"#f0f921\"]], \"sequentialminus\": [[0.0, \"#0d0887\"], [0.1111111111111111, \"#46039f\"], [0.2222222222222222, \"#7201a8\"], [0.3333333333333333, \"#9c179e\"], [0.4444444444444444, \"#bd3786\"], [0.5555555555555556, \"#d8576b\"], [0.6666666666666666, \"#ed7953\"], [0.7777777777777778, \"#fb9f3a\"], [0.8888888888888888, \"#fdca26\"], [1.0, \"#f0f921\"]]}, \"colorway\": [\"#636efa\", \"#EF553B\", \"#00cc96\", \"#ab63fa\", \"#FFA15A\", \"#19d3f3\", \"#FF6692\", \"#B6E880\", \"#FF97FF\", \"#FECB52\"], \"font\": {\"color\": \"#2a3f5f\"}, \"geo\": {\"bgcolor\": \"white\", \"lakecolor\": \"white\", \"landcolor\": \"#E5ECF6\", \"showlakes\": true, \"showland\": true, \"subunitcolor\": \"white\"}, \"hoverlabel\": {\"align\": \"left\"}, \"hovermode\": \"closest\", \"mapbox\": {\"style\": \"light\"}, \"paper_bgcolor\": \"white\", \"plot_bgcolor\": \"#E5ECF6\", \"polar\": {\"angularaxis\": {\"gridcolor\": \"white\", \"linecolor\": \"white\", \"ticks\": \"\"}, \"bgcolor\": \"#E5ECF6\", \"radialaxis\": {\"gridcolor\": \"white\", \"linecolor\": \"white\", \"ticks\": \"\"}}, \"scene\": {\"xaxis\": {\"backgroundcolor\": \"#E5ECF6\", \"gridcolor\": \"white\", \"gridwidth\": 2, \"linecolor\": \"white\", \"showbackground\": true, \"ticks\": \"\", \"zerolinecolor\": \"white\"}, \"yaxis\": {\"backgroundcolor\": \"#E5ECF6\", \"gridcolor\": \"white\", \"gridwidth\": 2, \"linecolor\": \"white\", \"showbackground\": true, \"ticks\": \"\", \"zerolinecolor\": \"white\"}, \"zaxis\": {\"backgroundcolor\": \"#E5ECF6\", \"gridcolor\": \"white\", \"gridwidth\": 2, \"linecolor\": \"white\", \"showbackground\": true, \"ticks\": \"\", \"zerolinecolor\": \"white\"}}, \"shapedefaults\": {\"line\": {\"color\": \"#2a3f5f\"}}, \"ternary\": {\"aaxis\": {\"gridcolor\": \"white\", \"linecolor\": \"white\", \"ticks\": \"\"}, \"baxis\": {\"gridcolor\": \"white\", \"linecolor\": \"white\", \"ticks\": \"\"}, \"bgcolor\": \"#E5ECF6\", \"caxis\": {\"gridcolor\": \"white\", \"linecolor\": \"white\", \"ticks\": \"\"}}, \"title\": {\"x\": 0.05}, \"xaxis\": {\"automargin\": true, \"gridcolor\": \"white\", \"linecolor\": \"white\", \"ticks\": \"\", \"title\": {\"standoff\": 15}, \"zerolinecolor\": \"white\", \"zerolinewidth\": 2}, \"yaxis\": {\"automargin\": true, \"gridcolor\": \"white\", \"linecolor\": \"white\", \"ticks\": \"\", \"title\": {\"standoff\": 15}, \"zerolinecolor\": \"white\", \"zerolinewidth\": 2}}}, \"title\": {\"text\": \"RMSE \\u0434\\u043b\\u044f \\u0440\\u0430\\u0437\\u043d\\u044b\\u0445 \\u043c\\u043e\\u0434\\u0435\\u043b\\u0435\\u0439 \\u043d\\u0430 \\u043e\\u0431\\u0443\\u0447\\u0430\\u044e\\u0449\\u0435\\u0439 \\u0438 \\u0442\\u0435\\u0441\\u0442\\u043e\\u0432\\u043e\\u0439 \\u0432\\u044b\\u0431\\u043e\\u0440\\u043a\\u0435\"}, \"width\": 1400, \"xaxis\": {\"title\": {\"text\": \"\\u041c\\u043e\\u0434\\u0435\\u043b\\u044c\"}}, \"yaxis\": {\"title\": {\"text\": \"RMSE\"}}},\n",
       "                        {\"responsive\": true}\n",
       "                    ).then(function(){\n",
       "                            \n",
       "var gd = document.getElementById('0dcdadd0-e381-4e8a-af52-719fefb782c8');\n",
       "var x = new MutationObserver(function (mutations, observer) {{\n",
       "        var display = window.getComputedStyle(gd).display;\n",
       "        if (!display || display === 'none') {{\n",
       "            console.log([gd, 'removed!']);\n",
       "            Plotly.purge(gd);\n",
       "            observer.disconnect();\n",
       "        }}\n",
       "}});\n",
       "\n",
       "// Listen for the removal of the full notebook cells\n",
       "var notebookContainer = gd.closest('#notebook-container');\n",
       "if (notebookContainer) {{\n",
       "    x.observe(notebookContainer, {childList: true});\n",
       "}}\n",
       "\n",
       "// Listen for the clearing of the current output cell\n",
       "var outputEl = gd.closest('.output');\n",
       "if (outputEl) {{\n",
       "    x.observe(outputEl, {childList: true});\n",
       "}}\n",
       "\n",
       "                        })\n",
       "                };\n",
       "                });\n",
       "            </script>\n",
       "        </div>"
      ]
     },
     "metadata": {},
     "output_type": "display_data"
    }
   ],
   "source": [
    "# Create traces\n",
    "fig = go.Figure()\n",
    "fig.add_trace(go.Scatter(x=list(models_analysis.index), y=models_analysis['train_RMSE_score'],\n",
    "                    mode='lines+markers', name='train_RMSE_score'))\n",
    "fig.add_trace(go.Scatter(x=list(models_analysis.index), y=models_analysis['test_RMSE_score'],\n",
    "                    mode='lines+markers', name='test_RMSE_score'))\n",
    "\n",
    "fig.update_layout(\n",
    "    width = 1400, height = 800,\n",
    "    title=\"RMSE для разных моделей на обучающей и тестовой выборке\",\n",
    "    xaxis_title=\"Модель\",\n",
    "    yaxis_title=\"RMSE\",\n",
    "    legend_title=\"Графики\",\n",
    "    font=dict(\n",
    "        #family=\"Courier New, monospace\",\n",
    "        #color=\"RebeccaPurple\",\n",
    "        size=14),\n",
    "    legend=dict(\n",
    "        x=0.7, y=1, traceorder=\"reversed\",\n",
    "        #title_font_family=\"Times New Roman\",\n",
    "        font=dict(family=\"Courier\", size=16, color=\"black\"),\n",
    "        #bgcolor=\"LightSteelBlue\",\n",
    "        bordercolor=\"Black\",\n",
    "        borderwidth=2)\n",
    "    )\n",
    "\n",
    "fig.show()"
   ]
  },
  {
   "cell_type": "markdown",
   "metadata": {},
   "source": [
    "# Выводы\n",
    "1. В исследуемом датасете имеются пропуски, часть из которых можно заполнить, применив парсинг с сайтов в интернете. Пропуски не удалялись, а модели обучались с учетом пропусков.\n",
    "2. Были рассмотрены следующие модели: \n",
    "    - константная (ср. значение);\n",
    "    - линейная регрессия;\n",
    "    - случайный лес;\n",
    "    - XGB;\n",
    "    - LGBM;\n",
    "    - CatBoost\n",
    "3. Самое быстрое время обучения (при одинаковых N_stimators & iterations) у LGBM (11.4 сек / n_estim=30), на втором месте с небольшим отставанием CatBoost (14.9 сек / iterations=30).\n",
    "4. Самое быстрое время предсказания среди достаточно качественных моделей - у CatBoost (0.150 сек / n_estim=30) , на втором месте LGBM (0.322 сек / n_estim=30).  \n",
    "5. Увеличение n_estimators и iterations в моделях LGBM и CatBoost  ощутимо увеличивает точность предсказания и при этом время обучения сохраняется на уровне конкурентов с меньшим числом  n_estimators. \n",
    "6. На первом месте по качеству среди всех моделей и на обучающей и на тестовой выборках показал LightGBM_estim_100."
   ]
  }
 ],
 "metadata": {
  "kernelspec": {
   "display_name": "Python 3",
   "language": "python",
   "name": "python3"
  },
  "language_info": {
   "codemirror_mode": {
    "name": "ipython",
    "version": 3
   },
   "file_extension": ".py",
   "mimetype": "text/x-python",
   "name": "python",
   "nbconvert_exporter": "python",
   "pygments_lexer": "ipython3",
   "version": "3.7.6"
  },
  "toc": {
   "base_numbering": 1,
   "nav_menu": {},
   "number_sections": true,
   "sideBar": true,
   "skip_h1_title": false,
   "title_cell": "Table of Contents",
   "title_sidebar": "Contents",
   "toc_cell": false,
   "toc_position": {
    "height": "calc(100% - 180px)",
    "left": "10px",
    "top": "150px",
    "width": "213.429px"
   },
   "toc_section_display": true,
   "toc_window_display": false
  }
 },
 "nbformat": 4,
 "nbformat_minor": 2
}
